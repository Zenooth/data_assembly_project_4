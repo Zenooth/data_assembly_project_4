{
 "cells": [
  {
   "cell_type": "code",
   "execution_count": 2563,
   "metadata": {},
   "outputs": [],
   "source": [
    "import numpy as np\n",
    "import pandas as pd\n",
    "import re\n",
    "from bs4 import BeautifulSoup"
   ]
  },
  {
   "cell_type": "markdown",
   "metadata": {},
   "source": [
    "Importing and combining 3 datasets from 3 different sites scraped by 3 different people"
   ]
  },
  {
   "cell_type": "code",
   "execution_count": 2564,
   "metadata": {},
   "outputs": [],
   "source": [
    "jc = pd.read_csv('jobscentral.csv')\n",
    "js = pd.read_csv('Jobstreet_Ziig.csv')\n",
    "ft = pd.read_csv('salary_df_car_fut.csv')"
   ]
  },
  {
   "cell_type": "code",
   "execution_count": 2565,
   "metadata": {
    "scrolled": true
   },
   "outputs": [
    {
     "data": {
      "text/html": [
       "<div>\n",
       "<style scoped>\n",
       "    .dataframe tbody tr th:only-of-type {\n",
       "        vertical-align: middle;\n",
       "    }\n",
       "\n",
       "    .dataframe tbody tr th {\n",
       "        vertical-align: top;\n",
       "    }\n",
       "\n",
       "    .dataframe thead th {\n",
       "        text-align: right;\n",
       "    }\n",
       "</style>\n",
       "<table border=\"1\" class=\"dataframe\">\n",
       "  <thead>\n",
       "    <tr style=\"text-align: right;\">\n",
       "      <th></th>\n",
       "      <th>Job Nature</th>\n",
       "      <th>Position Level</th>\n",
       "      <th>Job Category</th>\n",
       "      <th>Qualification</th>\n",
       "      <th>Salary</th>\n",
       "      <th>Company</th>\n",
       "      <th>Title</th>\n",
       "      <th>Description</th>\n",
       "    </tr>\n",
       "  </thead>\n",
       "  <tbody>\n",
       "    <tr>\n",
       "      <th>0</th>\n",
       "      <td>Permanent</td>\n",
       "      <td>Entry Level, Experienced</td>\n",
       "      <td>\\r\\n\\r\\nIT-Administration, \\r\\n    \\r\\nIT-Soft...</td>\n",
       "      <td>Diploma, Bachelor's / Honours</td>\n",
       "      <td>\\r\\n\\r\\n        1,800 SGD - 2,000 SGD / Month\\...</td>\n",
       "      <td>CareerBuilder Singapore</td>\n",
       "      <td>Junior Web Developer</td>\n",
       "      <td>[' • \\xa0Provide first level of telephone and ...</td>\n",
       "    </tr>\n",
       "  </tbody>\n",
       "</table>\n",
       "</div>"
      ],
      "text/plain": [
       "  Job Nature            Position Level  \\\n",
       "0  Permanent  Entry Level, Experienced   \n",
       "\n",
       "                                        Job Category  \\\n",
       "0  \\r\\n\\r\\nIT-Administration, \\r\\n    \\r\\nIT-Soft...   \n",
       "\n",
       "                   Qualification  \\\n",
       "0  Diploma, Bachelor's / Honours   \n",
       "\n",
       "                                              Salary                  Company  \\\n",
       "0  \\r\\n\\r\\n        1,800 SGD - 2,000 SGD / Month\\...  CareerBuilder Singapore   \n",
       "\n",
       "                  Title                                        Description  \n",
       "0  Junior Web Developer  [' • \\xa0Provide first level of telephone and ...  "
      ]
     },
     "execution_count": 2565,
     "metadata": {},
     "output_type": "execute_result"
    }
   ],
   "source": [
    "jc.head(1)"
   ]
  },
  {
   "cell_type": "code",
   "execution_count": 2566,
   "metadata": {},
   "outputs": [
    {
     "data": {
      "text/html": [
       "<div>\n",
       "<style scoped>\n",
       "    .dataframe tbody tr th:only-of-type {\n",
       "        vertical-align: middle;\n",
       "    }\n",
       "\n",
       "    .dataframe tbody tr th {\n",
       "        vertical-align: top;\n",
       "    }\n",
       "\n",
       "    .dataframe thead th {\n",
       "        text-align: right;\n",
       "    }\n",
       "</style>\n",
       "<table border=\"1\" class=\"dataframe\">\n",
       "  <thead>\n",
       "    <tr style=\"text-align: right;\">\n",
       "      <th></th>\n",
       "      <th>Unnamed: 0</th>\n",
       "      <th>Company</th>\n",
       "      <th>Title</th>\n",
       "      <th>Location</th>\n",
       "      <th>Address</th>\n",
       "      <th>Industry</th>\n",
       "      <th>Job Description</th>\n",
       "      <th>Seniority</th>\n",
       "      <th>Salary</th>\n",
       "      <th>Requirements</th>\n",
       "      <th>JD</th>\n",
       "    </tr>\n",
       "  </thead>\n",
       "  <tbody>\n",
       "    <tr>\n",
       "      <th>0</th>\n",
       "      <td>0</td>\n",
       "      <td>Career Edge Asia Pte Ltd</td>\n",
       "      <td>Senior Data Analyst ($7K - $8K / CBD/ MNC ) re...</td>\n",
       "      <td>Singapore - Across Singapore</td>\n",
       "      <td>None</td>\n",
       "      <td>Human Resources Management/Consulting</td>\n",
       "      <td>&lt;div class=\"unselectable wrap-text\" id=\"job_de...</td>\n",
       "      <td>Min 3 years (Senior Executive)</td>\n",
       "      <td>6000-8000</td>\n",
       "      <td>Degree in IT/ System engineering / Business /...</td>\n",
       "      <td>Responsibilities Responsible for dashboards an...</td>\n",
       "    </tr>\n",
       "  </tbody>\n",
       "</table>\n",
       "</div>"
      ],
      "text/plain": [
       "   Unnamed: 0                   Company  \\\n",
       "0           0  Career Edge Asia Pte Ltd   \n",
       "\n",
       "                                               Title  \\\n",
       "0  Senior Data Analyst ($7K - $8K / CBD/ MNC ) re...   \n",
       "\n",
       "                       Location Address  \\\n",
       "0  Singapore - Across Singapore    None   \n",
       "\n",
       "                                Industry  \\\n",
       "0  Human Resources Management/Consulting   \n",
       "\n",
       "                                     Job Description  \\\n",
       "0  <div class=\"unselectable wrap-text\" id=\"job_de...   \n",
       "\n",
       "                        Seniority     Salary  \\\n",
       "0  Min 3 years (Senior Executive)  6000-8000   \n",
       "\n",
       "                                        Requirements  \\\n",
       "0   Degree in IT/ System engineering / Business /...   \n",
       "\n",
       "                                                  JD  \n",
       "0  Responsibilities Responsible for dashboards an...  "
      ]
     },
     "execution_count": 2566,
     "metadata": {},
     "output_type": "execute_result"
    }
   ],
   "source": [
    "js.head(1)"
   ]
  },
  {
   "cell_type": "code",
   "execution_count": 2567,
   "metadata": {},
   "outputs": [
    {
     "data": {
      "text/html": [
       "<div>\n",
       "<style scoped>\n",
       "    .dataframe tbody tr th:only-of-type {\n",
       "        vertical-align: middle;\n",
       "    }\n",
       "\n",
       "    .dataframe tbody tr th {\n",
       "        vertical-align: top;\n",
       "    }\n",
       "\n",
       "    .dataframe thead th {\n",
       "        text-align: right;\n",
       "    }\n",
       "</style>\n",
       "<table border=\"1\" class=\"dataframe\">\n",
       "  <thead>\n",
       "    <tr style=\"text-align: right;\">\n",
       "      <th></th>\n",
       "      <th>Unnamed: 0</th>\n",
       "      <th>Company</th>\n",
       "      <th>Title</th>\n",
       "      <th>Address</th>\n",
       "      <th>Emp_type</th>\n",
       "      <th>Seniority</th>\n",
       "      <th>Industry</th>\n",
       "      <th>Salary</th>\n",
       "      <th>Responsibility</th>\n",
       "      <th>Requirements</th>\n",
       "    </tr>\n",
       "  </thead>\n",
       "  <tbody>\n",
       "    <tr>\n",
       "      <th>0</th>\n",
       "      <td>0</td>\n",
       "      <td>SKILLSFUTURE SINGAPORE AGENCY</td>\n",
       "      <td>Executive, (Quality Management Division) (6-mo...</td>\n",
       "      <td>ONE MARINA BOULEVARD, 1 MARINA BOULEVARD 018989</td>\n",
       "      <td>Contract</td>\n",
       "      <td>NONE</td>\n",
       "      <td>Public / Civil Service</td>\n",
       "      <td>NONE</td>\n",
       "      <td>Roles &amp; ResponsibilitiesResponsibilities\\r\\n\\r...</td>\n",
       "      <td>NONE</td>\n",
       "    </tr>\n",
       "  </tbody>\n",
       "</table>\n",
       "</div>"
      ],
      "text/plain": [
       "   Unnamed: 0                        Company  \\\n",
       "0           0  SKILLSFUTURE SINGAPORE AGENCY   \n",
       "\n",
       "                                               Title  \\\n",
       "0  Executive, (Quality Management Division) (6-mo...   \n",
       "\n",
       "                                           Address  Emp_type Seniority  \\\n",
       "0  ONE MARINA BOULEVARD, 1 MARINA BOULEVARD 018989  Contract      NONE   \n",
       "\n",
       "                 Industry Salary  \\\n",
       "0  Public / Civil Service   NONE   \n",
       "\n",
       "                                      Responsibility Requirements  \n",
       "0  Roles & ResponsibilitiesResponsibilities\\r\\n\\r...         NONE  "
      ]
     },
     "execution_count": 2567,
     "metadata": {},
     "output_type": "execute_result"
    }
   ],
   "source": [
    "ft.head(1)"
   ]
  },
  {
   "cell_type": "code",
   "execution_count": 2568,
   "metadata": {},
   "outputs": [
    {
     "data": {
      "text/plain": [
       "Index(['Unnamed: 0', 'Company', 'Title', 'Location', 'Address', 'Industry',\n",
       "       'Job Description', 'Seniority', 'Salary', 'Requirements', 'JD'],\n",
       "      dtype='object')"
      ]
     },
     "execution_count": 2568,
     "metadata": {},
     "output_type": "execute_result"
    }
   ],
   "source": [
    "js.columns"
   ]
  },
  {
   "cell_type": "code",
   "execution_count": 2569,
   "metadata": {},
   "outputs": [
    {
     "data": {
      "text/plain": [
       "Index(['Unnamed: 0', 'Company', 'Title', 'Address', 'Emp_type', 'Seniority',\n",
       "       'Industry', 'Salary', 'Responsibility', 'Requirements'],\n",
       "      dtype='object')"
      ]
     },
     "execution_count": 2569,
     "metadata": {},
     "output_type": "execute_result"
    }
   ],
   "source": [
    "ft.columns"
   ]
  },
  {
   "cell_type": "code",
   "execution_count": 2570,
   "metadata": {},
   "outputs": [
    {
     "data": {
      "text/plain": [
       "Index(['Job Nature', 'Position Level', 'Job Category', 'Qualification',\n",
       "       'Salary', 'Company', 'Title', 'Description'],\n",
       "      dtype='object')"
      ]
     },
     "execution_count": 2570,
     "metadata": {},
     "output_type": "execute_result"
    }
   ],
   "source": [
    "jc.columns"
   ]
  },
  {
   "cell_type": "code",
   "execution_count": 2571,
   "metadata": {},
   "outputs": [],
   "source": [
    "js.drop('Unnamed: 0', axis=1, inplace=True)\n",
    "ft.drop('Unnamed: 0', axis=1, inplace=True)"
   ]
  },
  {
   "cell_type": "code",
   "execution_count": 2572,
   "metadata": {},
   "outputs": [],
   "source": [
    "jc['Emp_type'] = jc['Job Nature']\n",
    "jc.drop('Job Nature', axis=1, inplace=True)"
   ]
  },
  {
   "cell_type": "code",
   "execution_count": 2573,
   "metadata": {},
   "outputs": [],
   "source": [
    "jc['Seniority'] = jc['Position Level']\n",
    "jc.drop('Position Level', axis=1, inplace=True)"
   ]
  },
  {
   "cell_type": "code",
   "execution_count": 2574,
   "metadata": {},
   "outputs": [],
   "source": [
    "js.drop('Job Description', axis=1, inplace=True)"
   ]
  },
  {
   "cell_type": "code",
   "execution_count": 2575,
   "metadata": {},
   "outputs": [],
   "source": [
    "js['Description'] = js['JD']\n",
    "js.drop('JD', axis=1, inplace=True)"
   ]
  },
  {
   "cell_type": "code",
   "execution_count": 2576,
   "metadata": {},
   "outputs": [],
   "source": [
    "js['Description'] = js.Requirements + js.Description\n",
    "js.drop('Requirements', axis=1, inplace=True)"
   ]
  },
  {
   "cell_type": "code",
   "execution_count": 2577,
   "metadata": {},
   "outputs": [],
   "source": [
    "ft['Description'] = ft.Requirements + ft.Responsibility\n",
    "ft.drop(['Requirements', 'Responsibility'], axis=1, inplace=True)"
   ]
  },
  {
   "cell_type": "code",
   "execution_count": 2578,
   "metadata": {},
   "outputs": [
    {
     "data": {
      "text/plain": [
       "Index(['Company', 'Title', 'Address', 'Emp_type', 'Seniority', 'Industry',\n",
       "       'Salary', 'Description'],\n",
       "      dtype='object')"
      ]
     },
     "execution_count": 2578,
     "metadata": {},
     "output_type": "execute_result"
    }
   ],
   "source": [
    "ft.columns"
   ]
  },
  {
   "cell_type": "markdown",
   "metadata": {},
   "source": [
    "Combined the 3 datasets into 1, proceeding to do EDA and cleaning"
   ]
  },
  {
   "cell_type": "code",
   "execution_count": 2579,
   "metadata": {},
   "outputs": [],
   "source": [
    "df = pd.concat([js, jc, ft])"
   ]
  },
  {
   "cell_type": "code",
   "execution_count": 2580,
   "metadata": {},
   "outputs": [],
   "source": [
    "df.reset_index(drop=True, inplace=True)"
   ]
  },
  {
   "cell_type": "code",
   "execution_count": 2581,
   "metadata": {},
   "outputs": [
    {
     "data": {
      "text/plain": [
       "(4945, 11)"
      ]
     },
     "execution_count": 2581,
     "metadata": {},
     "output_type": "execute_result"
    }
   ],
   "source": [
    "df.shape"
   ]
  },
  {
   "cell_type": "code",
   "execution_count": 2582,
   "metadata": {},
   "outputs": [],
   "source": [
    "df = df[['Title', 'Company', 'Job Category', 'Seniority', 'Industry', 'Emp_type', 'Location', 'Address', 'Description', 'Qualification', 'Salary']]"
   ]
  },
  {
   "cell_type": "code",
   "execution_count": 2583,
   "metadata": {},
   "outputs": [],
   "source": [
    "def letterizer(input):\n",
    "    return ''.join(char for char in input if char in 'abcedfghijklmnopqrstuvwxyz ABCDEFGHIJKLMNOPQRSTUVWXYZ')"
   ]
  },
  {
   "cell_type": "markdown",
   "metadata": {},
   "source": [
    "Cleaning the job title, then converting to dummy variables"
   ]
  },
  {
   "cell_type": "code",
   "execution_count": 2584,
   "metadata": {},
   "outputs": [],
   "source": [
    "df['Title'] = df.Title.apply(letterizer)\n",
    "df['Title'] = ['Data Analyst' if 'data' in title.lower() and 'analyst' in title.lower() else title for title in df.Title]\n",
    "df['Title'] = ['Data Scientist' if 'data' in title.lower() and 'scientist' in title.lower() else title for title in df.Title]\n",
    "df['Title'] = ['Business Analyst' if 'business' in title.lower() and 'analyst' in title.lower() else title for title in df.Title]\n",
    "df['Title'] = ['Data Engineer' if 'data' in title.lower() and 'engineer' in title.lower() else title for title in df.Title]\n",
    "df['Title'] = ['Reseach Scientist' if 'research' in title.lower() and 'scientist' in title.lower() else title for title in df.Title]\n",
    "df['Title'] = ['Data(others)' if 'data' in title.lower() and 'analyst' not in title.lower() and 'scientist' not in title.lower() and 'engineer' not in title.lower() else title for title in df.Title]\n",
    "df['Title'] = ['Business(others)' if 'business' in title.lower() and 'analyst' not in title.lower() else title for title in df.Title]\n",
    "df['Title'] = ['Analyst(others)' if 'analyst' in title.lower() and 'data' not in title.lower() and 'business' not in title.lower() else title for title in df.Title]\n",
    "df['Title'] = ['Others' if title not in ['Data Analyst', 'Data Scientist', \n",
    "                                         'Business Analyst', 'Data Engineer', 'Reseach Scientist',\n",
    "                                         'Data(others)', 'Business(others)', 'Analyst(others)'] else title for title in df.Title]"
   ]
  },
  {
   "cell_type": "code",
   "execution_count": 2585,
   "metadata": {},
   "outputs": [],
   "source": [
    "for title in df.Title.unique():\n",
    "    if title != 'Others':\n",
    "        df['title_'+title] = [1 if title == row else 0 for row in df.Title]"
   ]
  },
  {
   "cell_type": "markdown",
   "metadata": {},
   "source": [
    "Cleaning the company names"
   ]
  },
  {
   "cell_type": "code",
   "execution_count": 2586,
   "metadata": {},
   "outputs": [],
   "source": [
    "df['Company'] = df.Company.apply(letterizer)"
   ]
  },
  {
   "cell_type": "markdown",
   "metadata": {},
   "source": [
    "Cleaning the job categories - too many null values, so to preserve any possible value all non-null values will be thrown into the job description string before dropping the whole column"
   ]
  },
  {
   "cell_type": "code",
   "execution_count": 2587,
   "metadata": {},
   "outputs": [
    {
     "name": "stdout",
     "output_type": "stream",
     "text": [
      "4200\n"
     ]
    }
   ],
   "source": [
    "print(df['Job Category'].isnull().sum())\n",
    "df['Job Category'] = df['Job Category'].astype(str)\n",
    "df['Job Category'] = df['Job Category'].apply(lambda x: x.replace('\\r',''))\n",
    "df['Job Category'] = df['Job Category'].apply(lambda x: x.replace('\\n',''))"
   ]
  },
  {
   "cell_type": "code",
   "execution_count": 2588,
   "metadata": {},
   "outputs": [],
   "source": [
    "df['Description'] = [j if i == 'nan' else i + j for i, j in zip(df['Job Category'], df.Description)]\n",
    "df.drop('Job Category', axis=1, inplace=True)"
   ]
  },
  {
   "cell_type": "markdown",
   "metadata": {},
   "source": [
    "Cleaning location and address - dummy variables for location. Address will be left as a string."
   ]
  },
  {
   "cell_type": "code",
   "execution_count": 2589,
   "metadata": {},
   "outputs": [],
   "source": [
    "df['Location'] = [''.join(char for char in str(location) if char.lower() in ' abcedfghijklmnopqrstuvwxyz') for location in df.Location]"
   ]
  },
  {
   "cell_type": "code",
   "execution_count": 2590,
   "metadata": {},
   "outputs": [],
   "source": [
    "df['Location'] = [location.replace('Singapore', '') for location in df.Location]\n",
    "df['Location'] = ['Unknown' if Location.lower() == 'none' or Location.lower() == 'nan' or Location.lower() == ''else Location for Location in df.Location]\n",
    "df['Location'] = ['Central' if 'central' in location.lower() else location for location in df.Location]\n",
    "df['Location'] = ['Northeast' if 'northeast' in location.lower() else location for location in df.Location]\n",
    "df['Location'] = ['Northwest' if 'northwest' in location.lower() else location for location in df.Location]\n",
    "df['Location'] = ['East' if 'east' in location.lower() else location for location in df.Location]\n",
    "df['Location'] = ['West' if 'west' in location.lower() else location for location in df.Location]\n",
    "df['Location'] = ['North' if 'north' in location.lower() else location for location in df.Location]\n",
    "df['Location'] = ['Across' if 'across' in location.lower() else location for location in df.Location]\n",
    "df['Location'] = ['Overseas' if location not in df.Location.unique()[:6] else location for location in df.Location]"
   ]
  },
  {
   "cell_type": "code",
   "execution_count": 2591,
   "metadata": {},
   "outputs": [
    {
     "data": {
      "text/plain": [
       "array(['Across', 'Central', 'West', 'Unknown', 'East', 'North',\n",
       "       'Overseas'], dtype=object)"
      ]
     },
     "execution_count": 2591,
     "metadata": {},
     "output_type": "execute_result"
    }
   ],
   "source": [
    "df.Location.unique()"
   ]
  },
  {
   "cell_type": "code",
   "execution_count": 2592,
   "metadata": {},
   "outputs": [],
   "source": [
    "for location in df.Location.unique():\n",
    "    if location != 'Unknown':\n",
    "        df['location_'+location] = [1 if location == row else 0 for row in df.Location]"
   ]
  },
  {
   "cell_type": "code",
   "execution_count": 2593,
   "metadata": {},
   "outputs": [],
   "source": [
    "df['Address'] = [''.join(char for char in str(location) if char.lower() in ' abcedfghijklmnopqrstuvwxyz') for location in df.Address]\n",
    "df['Address'] = ['Unknown' if address.lower() == 'none' or address.lower() == 'nan' or address.lower() == ''else address for address in df.Address]"
   ]
  },
  {
   "cell_type": "markdown",
   "metadata": {},
   "source": [
    "Cleaning the qualifications - too messy and too many null fields. Chunk into the job description string and drop."
   ]
  },
  {
   "cell_type": "code",
   "execution_count": 2594,
   "metadata": {},
   "outputs": [
    {
     "name": "stdout",
     "output_type": "stream",
     "text": [
      "4200\n"
     ]
    }
   ],
   "source": [
    "print(df.Qualification.isnull().sum())\n",
    "df['Description'] = [j if type(i) is float else i + j for i, j in zip(df.Qualification, df.Description)]\n",
    "df.drop('Qualification', axis=1, inplace=True)"
   ]
  },
  {
   "cell_type": "markdown",
   "metadata": {},
   "source": [
    "Cleaning the salary data"
   ]
  },
  {
   "cell_type": "code",
   "execution_count": 2595,
   "metadata": {},
   "outputs": [],
   "source": [
    "# temporarily putting unknown salary as 0\n",
    "df['Salary'] = ['0' if salary == '0.0' or str(salary).lower() == 'none' else salary for salary in df.Salary]"
   ]
  },
  {
   "cell_type": "code",
   "execution_count": 2596,
   "metadata": {
    "scrolled": true
   },
   "outputs": [],
   "source": [
    "# temporarily putting below expectations as -1 and above expectations as 1 for future imputation\n",
    "# expected salary is 4000\n",
    "\n",
    "df['Salary'] = df.Salary.apply(lambda x: -1 if 'Below' in str(x) else x)\n",
    "df['Salary'] = df.Salary.apply(lambda x: 4000 if 'Around' in str(x) else x)\n",
    "df['Salary'] = df.Salary.apply(lambda x: 1 if 'Above' in str(x) else x)\n",
    "df['Salary'] = df.Salary.apply(lambda x: ''.join([char for char in str(x) if char in '0123456789 - to']))"
   ]
  },
  {
   "cell_type": "code",
   "execution_count": 2597,
   "metadata": {},
   "outputs": [],
   "source": [
    "def split1(value):\n",
    "    splitted = value.split('-')\n",
    "    if len(splitted) == 2:\n",
    "        try:\n",
    "            return str((int(splitted[0]) + int(splitted[1]))/2)\n",
    "        except:\n",
    "            return value\n",
    "    else:\n",
    "        return value"
   ]
  },
  {
   "cell_type": "code",
   "execution_count": 2598,
   "metadata": {},
   "outputs": [],
   "source": [
    "def split2(value):\n",
    "    splitted = value.split('to')\n",
    "    if len(splitted) == 2:\n",
    "        try:\n",
    "            return str((int(splitted[0]) + int(splitted[1]))/2)\n",
    "        except:\n",
    "            return value\n",
    "    else:\n",
    "        return value"
   ]
  },
  {
   "cell_type": "code",
   "execution_count": 2599,
   "metadata": {},
   "outputs": [],
   "source": [
    "df['Salary'] = df.Salary.apply(split1)\n",
    "df['Salary'] = df.Salary.apply(split2)"
   ]
  },
  {
   "cell_type": "code",
   "execution_count": 2600,
   "metadata": {},
   "outputs": [],
   "source": [
    "df['Salary'] = df.Salary.apply(lambda x: ''.join([char for char in x if char in '0123456789-.']))\n",
    "df['Salary'] = df.Salary.apply(split1)\n",
    "df['Salary'] = df.Salary.apply(float)"
   ]
  },
  {
   "cell_type": "code",
   "execution_count": 2601,
   "metadata": {},
   "outputs": [
    {
     "data": {
      "text/plain": [
       "count      4945.000000\n",
       "mean       4466.744085\n",
       "std       11496.020279\n",
       "min          -1.000000\n",
       "25%           1.000000\n",
       "50%        3750.000000\n",
       "75%        5500.000000\n",
       "max      300000.000000\n",
       "Name: Salary, dtype: float64"
      ]
     },
     "execution_count": 2601,
     "metadata": {},
     "output_type": "execute_result"
    }
   ],
   "source": [
    "df.Salary.describe()"
   ]
  },
  {
   "cell_type": "code",
   "execution_count": 2602,
   "metadata": {
    "scrolled": true
   },
   "outputs": [
    {
     "data": {
      "text/html": [
       "<div>\n",
       "<style scoped>\n",
       "    .dataframe tbody tr th:only-of-type {\n",
       "        vertical-align: middle;\n",
       "    }\n",
       "\n",
       "    .dataframe tbody tr th {\n",
       "        vertical-align: top;\n",
       "    }\n",
       "\n",
       "    .dataframe thead th {\n",
       "        text-align: right;\n",
       "    }\n",
       "</style>\n",
       "<table border=\"1\" class=\"dataframe\">\n",
       "  <thead>\n",
       "    <tr style=\"text-align: right;\">\n",
       "      <th></th>\n",
       "      <th>Title</th>\n",
       "      <th>Company</th>\n",
       "      <th>Seniority</th>\n",
       "      <th>Industry</th>\n",
       "      <th>Emp_type</th>\n",
       "      <th>Location</th>\n",
       "      <th>Address</th>\n",
       "      <th>Description</th>\n",
       "      <th>Salary</th>\n",
       "      <th>title_Data Analyst</th>\n",
       "      <th>...</th>\n",
       "      <th>title_Reseach Scientist</th>\n",
       "      <th>title_Data(others)</th>\n",
       "      <th>title_Business(others)</th>\n",
       "      <th>title_Data Engineer</th>\n",
       "      <th>location_Across</th>\n",
       "      <th>location_Central</th>\n",
       "      <th>location_West</th>\n",
       "      <th>location_East</th>\n",
       "      <th>location_North</th>\n",
       "      <th>location_Overseas</th>\n",
       "    </tr>\n",
       "  </thead>\n",
       "  <tbody>\n",
       "    <tr>\n",
       "      <th>96</th>\n",
       "      <td>Data Analyst</td>\n",
       "      <td>Morgan McKinley</td>\n",
       "      <td>Min 2 years (Non-Executive)</td>\n",
       "      <td>Human Resources Management/Consulting</td>\n",
       "      <td>NaN</td>\n",
       "      <td>Across</td>\n",
       "      <td>Raffles Place  One Raffles Place Tower Singap...</td>\n",
       "      <td>NaN</td>\n",
       "      <td>57500.0</td>\n",
       "      <td>1</td>\n",
       "      <td>...</td>\n",
       "      <td>0</td>\n",
       "      <td>0</td>\n",
       "      <td>0</td>\n",
       "      <td>0</td>\n",
       "      <td>1</td>\n",
       "      <td>0</td>\n",
       "      <td>0</td>\n",
       "      <td>0</td>\n",
       "      <td>0</td>\n",
       "      <td>0</td>\n",
       "    </tr>\n",
       "    <tr>\n",
       "      <th>203</th>\n",
       "      <td>Data Analyst</td>\n",
       "      <td>Morgan McKinley</td>\n",
       "      <td>Min 5 years (Non-Executive)</td>\n",
       "      <td>Human Resources Management/Consulting</td>\n",
       "      <td>NaN</td>\n",
       "      <td>Across</td>\n",
       "      <td>Raffles Place  One Raffles Place Tower Singap...</td>\n",
       "      <td>Min 7-10 years of experience as Business Anal...</td>\n",
       "      <td>135000.0</td>\n",
       "      <td>1</td>\n",
       "      <td>...</td>\n",
       "      <td>0</td>\n",
       "      <td>0</td>\n",
       "      <td>0</td>\n",
       "      <td>0</td>\n",
       "      <td>1</td>\n",
       "      <td>0</td>\n",
       "      <td>0</td>\n",
       "      <td>0</td>\n",
       "      <td>0</td>\n",
       "      <td>0</td>\n",
       "    </tr>\n",
       "    <tr>\n",
       "      <th>219</th>\n",
       "      <td>Data Analyst</td>\n",
       "      <td>Morgan McKinley</td>\n",
       "      <td>Min 5 years (Non-Executive)</td>\n",
       "      <td>Human Resources Management/Consulting</td>\n",
       "      <td>NaN</td>\n",
       "      <td>Across</td>\n",
       "      <td>Raffles Place  One Raffles Place Tower Singap...</td>\n",
       "      <td>Min 7-10 years of experience as Business Anal...</td>\n",
       "      <td>135000.0</td>\n",
       "      <td>1</td>\n",
       "      <td>...</td>\n",
       "      <td>0</td>\n",
       "      <td>0</td>\n",
       "      <td>0</td>\n",
       "      <td>0</td>\n",
       "      <td>1</td>\n",
       "      <td>0</td>\n",
       "      <td>0</td>\n",
       "      <td>0</td>\n",
       "      <td>0</td>\n",
       "      <td>0</td>\n",
       "    </tr>\n",
       "    <tr>\n",
       "      <th>363</th>\n",
       "      <td>Analyst(others)</td>\n",
       "      <td>Cobalt Consulting Asia Pte Ltd</td>\n",
       "      <td>Min 4 years (Non-Executive)</td>\n",
       "      <td>Human Resources Management/Consulting</td>\n",
       "      <td>NaN</td>\n",
       "      <td>Across</td>\n",
       "      <td>Market Street  Grace Global Raffles Singapore</td>\n",
       "      <td>NaN</td>\n",
       "      <td>66000.0</td>\n",
       "      <td>0</td>\n",
       "      <td>...</td>\n",
       "      <td>0</td>\n",
       "      <td>0</td>\n",
       "      <td>0</td>\n",
       "      <td>0</td>\n",
       "      <td>1</td>\n",
       "      <td>0</td>\n",
       "      <td>0</td>\n",
       "      <td>0</td>\n",
       "      <td>0</td>\n",
       "      <td>0</td>\n",
       "    </tr>\n",
       "    <tr>\n",
       "      <th>886</th>\n",
       "      <td>Data Scientist</td>\n",
       "      <td>Macdonald And Company Pte Ltd</td>\n",
       "      <td>Min 4 years (Manager)</td>\n",
       "      <td>Human Resources Management/Consulting</td>\n",
       "      <td>NaN</td>\n",
       "      <td>Across</td>\n",
       "      <td>Unknown</td>\n",
       "      <td>Experience creating end to end data science s...</td>\n",
       "      <td>20000.0</td>\n",
       "      <td>0</td>\n",
       "      <td>...</td>\n",
       "      <td>0</td>\n",
       "      <td>0</td>\n",
       "      <td>0</td>\n",
       "      <td>0</td>\n",
       "      <td>1</td>\n",
       "      <td>0</td>\n",
       "      <td>0</td>\n",
       "      <td>0</td>\n",
       "      <td>0</td>\n",
       "      <td>0</td>\n",
       "    </tr>\n",
       "  </tbody>\n",
       "</table>\n",
       "<p>5 rows × 23 columns</p>\n",
       "</div>"
      ],
      "text/plain": [
       "               Title                         Company  \\\n",
       "96      Data Analyst                 Morgan McKinley   \n",
       "203     Data Analyst                 Morgan McKinley   \n",
       "219     Data Analyst                 Morgan McKinley   \n",
       "363  Analyst(others)  Cobalt Consulting Asia Pte Ltd   \n",
       "886   Data Scientist   Macdonald And Company Pte Ltd   \n",
       "\n",
       "                       Seniority                               Industry  \\\n",
       "96   Min 2 years (Non-Executive)  Human Resources Management/Consulting   \n",
       "203  Min 5 years (Non-Executive)  Human Resources Management/Consulting   \n",
       "219  Min 5 years (Non-Executive)  Human Resources Management/Consulting   \n",
       "363  Min 4 years (Non-Executive)  Human Resources Management/Consulting   \n",
       "886        Min 4 years (Manager)  Human Resources Management/Consulting   \n",
       "\n",
       "    Emp_type Location                                            Address  \\\n",
       "96       NaN   Across   Raffles Place  One Raffles Place Tower Singap...   \n",
       "203      NaN   Across   Raffles Place  One Raffles Place Tower Singap...   \n",
       "219      NaN   Across   Raffles Place  One Raffles Place Tower Singap...   \n",
       "363      NaN   Across     Market Street  Grace Global Raffles Singapore    \n",
       "886      NaN   Across                                            Unknown   \n",
       "\n",
       "                                           Description    Salary  \\\n",
       "96                                                 NaN   57500.0   \n",
       "203   Min 7-10 years of experience as Business Anal...  135000.0   \n",
       "219   Min 7-10 years of experience as Business Anal...  135000.0   \n",
       "363                                                NaN   66000.0   \n",
       "886   Experience creating end to end data science s...   20000.0   \n",
       "\n",
       "     title_Data Analyst        ...          title_Reseach Scientist  \\\n",
       "96                    1        ...                                0   \n",
       "203                   1        ...                                0   \n",
       "219                   1        ...                                0   \n",
       "363                   0        ...                                0   \n",
       "886                   0        ...                                0   \n",
       "\n",
       "     title_Data(others)  title_Business(others)  title_Data Engineer  \\\n",
       "96                    0                       0                    0   \n",
       "203                   0                       0                    0   \n",
       "219                   0                       0                    0   \n",
       "363                   0                       0                    0   \n",
       "886                   0                       0                    0   \n",
       "\n",
       "     location_Across  location_Central  location_West  location_East  \\\n",
       "96                 1                 0              0              0   \n",
       "203                1                 0              0              0   \n",
       "219                1                 0              0              0   \n",
       "363                1                 0              0              0   \n",
       "886                1                 0              0              0   \n",
       "\n",
       "     location_North  location_Overseas  \n",
       "96                0                  0  \n",
       "203               0                  0  \n",
       "219               0                  0  \n",
       "363               0                  0  \n",
       "886               0                  0  \n",
       "\n",
       "[5 rows x 23 columns]"
      ]
     },
     "execution_count": 2602,
     "metadata": {},
     "output_type": "execute_result"
    }
   ],
   "source": [
    "# some seem to be yearly salary\n",
    "\n",
    "df[df.Salary>15000].head()"
   ]
  },
  {
   "cell_type": "code",
   "execution_count": 2603,
   "metadata": {},
   "outputs": [],
   "source": [
    "df['Salary'] = df.Salary.apply(lambda x: x/12 if x > 20000 else x)"
   ]
  },
  {
   "cell_type": "code",
   "execution_count": 2604,
   "metadata": {
    "scrolled": true
   },
   "outputs": [
    {
     "data": {
      "text/html": [
       "<div>\n",
       "<style scoped>\n",
       "    .dataframe tbody tr th:only-of-type {\n",
       "        vertical-align: middle;\n",
       "    }\n",
       "\n",
       "    .dataframe tbody tr th {\n",
       "        vertical-align: top;\n",
       "    }\n",
       "\n",
       "    .dataframe thead th {\n",
       "        text-align: right;\n",
       "    }\n",
       "</style>\n",
       "<table border=\"1\" class=\"dataframe\">\n",
       "  <thead>\n",
       "    <tr style=\"text-align: right;\">\n",
       "      <th></th>\n",
       "      <th>Title</th>\n",
       "      <th>Company</th>\n",
       "      <th>Seniority</th>\n",
       "      <th>Industry</th>\n",
       "      <th>Emp_type</th>\n",
       "      <th>Location</th>\n",
       "      <th>Address</th>\n",
       "      <th>Description</th>\n",
       "      <th>Salary</th>\n",
       "      <th>title_Data Analyst</th>\n",
       "      <th>...</th>\n",
       "      <th>title_Reseach Scientist</th>\n",
       "      <th>title_Data(others)</th>\n",
       "      <th>title_Business(others)</th>\n",
       "      <th>title_Data Engineer</th>\n",
       "      <th>location_Across</th>\n",
       "      <th>location_Central</th>\n",
       "      <th>location_West</th>\n",
       "      <th>location_East</th>\n",
       "      <th>location_North</th>\n",
       "      <th>location_Overseas</th>\n",
       "    </tr>\n",
       "  </thead>\n",
       "  <tbody>\n",
       "    <tr>\n",
       "      <th>3580</th>\n",
       "      <td>Data(others)</td>\n",
       "      <td>DATASPARK PTE LTD</td>\n",
       "      <td>Middle Management</td>\n",
       "      <td>Information Technology</td>\n",
       "      <td>Permanent</td>\n",
       "      <td>Unknown</td>\n",
       "      <td>COMCENTRE  EXETER ROAD</td>\n",
       "      <td>RequirementsQualifications  7+ years’ experien...</td>\n",
       "      <td>25000.000000</td>\n",
       "      <td>0</td>\n",
       "      <td>...</td>\n",
       "      <td>0</td>\n",
       "      <td>1</td>\n",
       "      <td>0</td>\n",
       "      <td>0</td>\n",
       "      <td>0</td>\n",
       "      <td>0</td>\n",
       "      <td>0</td>\n",
       "      <td>0</td>\n",
       "      <td>0</td>\n",
       "      <td>0</td>\n",
       "    </tr>\n",
       "    <tr>\n",
       "      <th>3596</th>\n",
       "      <td>Data(others)</td>\n",
       "      <td>AMAZON WEB SERVICES SINGAPORE PRIVATE LIMITED</td>\n",
       "      <td>Professional</td>\n",
       "      <td>Information Technology</td>\n",
       "      <td>Permanent</td>\n",
       "      <td>Unknown</td>\n",
       "      <td>AIA TOWER  ROBINSON ROAD</td>\n",
       "      <td>RequirementsBasic Qualifications  BA/BS degree...</td>\n",
       "      <td>22916.666667</td>\n",
       "      <td>0</td>\n",
       "      <td>...</td>\n",
       "      <td>0</td>\n",
       "      <td>1</td>\n",
       "      <td>0</td>\n",
       "      <td>0</td>\n",
       "      <td>0</td>\n",
       "      <td>0</td>\n",
       "      <td>0</td>\n",
       "      <td>0</td>\n",
       "      <td>0</td>\n",
       "      <td>0</td>\n",
       "    </tr>\n",
       "  </tbody>\n",
       "</table>\n",
       "<p>2 rows × 23 columns</p>\n",
       "</div>"
      ],
      "text/plain": [
       "             Title                                        Company  \\\n",
       "3580  Data(others)                              DATASPARK PTE LTD   \n",
       "3596  Data(others)  AMAZON WEB SERVICES SINGAPORE PRIVATE LIMITED   \n",
       "\n",
       "              Seniority                Industry   Emp_type Location  \\\n",
       "3580  Middle Management  Information Technology  Permanent  Unknown   \n",
       "3596       Professional  Information Technology  Permanent  Unknown   \n",
       "\n",
       "                        Address  \\\n",
       "3580    COMCENTRE  EXETER ROAD    \n",
       "3596  AIA TOWER  ROBINSON ROAD    \n",
       "\n",
       "                                            Description        Salary  \\\n",
       "3580  RequirementsQualifications  7+ years’ experien...  25000.000000   \n",
       "3596  RequirementsBasic Qualifications  BA/BS degree...  22916.666667   \n",
       "\n",
       "      title_Data Analyst        ...          title_Reseach Scientist  \\\n",
       "3580                   0        ...                                0   \n",
       "3596                   0        ...                                0   \n",
       "\n",
       "      title_Data(others)  title_Business(others)  title_Data Engineer  \\\n",
       "3580                   1                       0                    0   \n",
       "3596                   1                       0                    0   \n",
       "\n",
       "      location_Across  location_Central  location_West  location_East  \\\n",
       "3580                0                 0              0              0   \n",
       "3596                0                 0              0              0   \n",
       "\n",
       "      location_North  location_Overseas  \n",
       "3580               0                  0  \n",
       "3596               0                  0  \n",
       "\n",
       "[2 rows x 23 columns]"
      ]
     },
     "execution_count": 2604,
     "metadata": {},
     "output_type": "execute_result"
    }
   ],
   "source": [
    "df[df.Salary > 20000]\n",
    "\n",
    "# double-checked the posting to verify... guess the numbers are correct.\n",
    "\n",
    "# AMAZON WEB SERVICES SINGAPORE PRIVATE LIMITEDSr. Data Architect, Data Warehousing & MPP\n",
    "\n",
    "# AIA TOWER, 1 ROBINSON ROAD 048542\n",
    "\n",
    "# Permanent\n",
    "\n",
    "# Professional\n",
    "\n",
    "# Information Technology\n",
    "# $250,000to$300,000\n",
    "\n",
    "# Annually"
   ]
  },
  {
   "cell_type": "code",
   "execution_count": 2605,
   "metadata": {},
   "outputs": [
    {
     "name": "stdout",
     "output_type": "stream",
     "text": [
      "3018.930936819172\n"
     ]
    }
   ],
   "source": [
    "# mean salary for valid numbers below 4000\n",
    "below = df[(df.Salary != 0) & (df.Salary != 1) & (df.Salary != -1)].Salary[df[(df.Salary != 0) & (df.Salary != 1) & (df.Salary != -1)].Salary < 4000].mean()\n",
    "print(below)\n",
    "df['Salary'] = [below if salary == -1 else salary for salary in df.Salary]"
   ]
  },
  {
   "cell_type": "code",
   "execution_count": 2606,
   "metadata": {},
   "outputs": [
    {
     "name": "stdout",
     "output_type": "stream",
     "text": [
      "6906.916326877339\n"
     ]
    }
   ],
   "source": [
    "# mean salary for valid numbers above 4000\n",
    "above = df[(df.Salary != 0) & (df.Salary != 1) & (df.Salary != -1)].Salary[df[(df.Salary != 0) & (df.Salary != 1) & (df.Salary != -1)].Salary > 4000].mean()\n",
    "print(above)\n",
    "df['Salary'] = [above if salary == 1 else salary for salary in df.Salary]"
   ]
  },
  {
   "cell_type": "code",
   "execution_count": 2607,
   "metadata": {},
   "outputs": [
    {
     "data": {
      "text/plain": [
       "0.000000       1046\n",
       "6906.916327     653\n",
       "4000.000000     410\n",
       "6000.000000     147\n",
       "5000.000000     128\n",
       "Name: Salary, dtype: int64"
      ]
     },
     "execution_count": 2607,
     "metadata": {},
     "output_type": "execute_result"
    }
   ],
   "source": [
    "# unknown salary values are still registered as 0.0 - impute or drop later.\n",
    "df.Salary.value_counts().head()"
   ]
  },
  {
   "cell_type": "markdown",
   "metadata": {},
   "source": [
    "Cleaning the job descriptions"
   ]
  },
  {
   "cell_type": "code",
   "execution_count": 2608,
   "metadata": {},
   "outputs": [],
   "source": [
    "df['Description'] = df.Description.apply(lambda x: str(x).replace('\\r', ''))\n",
    "df['Description'] = df.Description.apply(lambda x: str(x).replace('\\n', ''))"
   ]
  },
  {
   "cell_type": "code",
   "execution_count": 2609,
   "metadata": {
    "scrolled": true
   },
   "outputs": [
    {
     "data": {
      "text/plain": [
       "nan    1866\n",
       "Name: Description, dtype: int64"
      ]
     },
     "execution_count": 2609,
     "metadata": {},
     "output_type": "execute_result"
    }
   ],
   "source": [
    "# a lot of empty job descriptions... this isn't something that can be imputed. drop or proceed regardless?\n",
    "df.Description.value_counts().head(1)"
   ]
  },
  {
   "cell_type": "markdown",
   "metadata": {},
   "source": [
    "Cleaning the seniority columns, and extracting the years from it to create a new column for minimum years of experience, then turning it into dummy variables"
   ]
  },
  {
   "cell_type": "code",
   "execution_count": 2610,
   "metadata": {},
   "outputs": [],
   "source": [
    "df['Min Years'] = [int(''.join([char for char in seniority if char in '0123456789'])) if bool(re.search(r'\\d', seniority)) is True else np.NaN for seniority in df.Seniority]"
   ]
  },
  {
   "cell_type": "code",
   "execution_count": 2611,
   "metadata": {},
   "outputs": [],
   "source": [
    "# for null values, imputing the average number of years for a given job title\n",
    "impute_dict = dict(zip(df.groupby('Title')['Min Years'].mean().index, df.groupby('Title')['Min Years'].mean()))\n",
    "df['Min Years'] = [impute_dict[title] if year != year else year for year, title in zip(df['Min Years'], df['Title'])]"
   ]
  },
  {
   "cell_type": "code",
   "execution_count": 2612,
   "metadata": {},
   "outputs": [],
   "source": [
    "df['Seniority'] = [''.join(char for char in seniority if char.lower() in 'abcedfghijklmnopqrstuvwxyz ') for seniority in df.Seniority]\n",
    "df['Seniority'] = [seniority.replace('Min', '') for seniority in df.Seniority]\n",
    "df['Seniority'] = [seniority.replace('  years ', '') for seniority in df.Seniority]\n",
    "df['Seniority'] = [seniority.replace('  year ', '') for seniority in df.Seniority]\n",
    "df['Seniority'] = ['Entry Level' if 'entry' in seniority.lower() and 'level' in seniority.lower() else seniority for seniority in df.Seniority]\n",
    "df['Seniority'] = ['Unknown' if seniority.lower() == 'none' else seniority for seniority in df.Seniority]"
   ]
  },
  {
   "cell_type": "code",
   "execution_count": 2613,
   "metadata": {},
   "outputs": [],
   "source": [
    "df['Seniority'] = ['Professional' if 'professional' in seniority.lower() else seniority for seniority in df.Seniority]\n",
    "df['Seniority'] = ['Senior Executive' if 'Senior Executive' in seniority else seniority for seniority in df.Seniority]\n",
    "df['Seniority'] = ['Senior Management' if 'Senior Management' in seniority else seniority for seniority in df.Seniority]\n",
    "df['Seniority'] = ['Junior Executive' if 'Junior Executive' in seniority else seniority for seniority in df.Seniority]\n",
    "df['Seniority'] = ['Manager' if 'Middle Management' in seniority else seniority for seniority in df.Seniority]\n",
    "df['Seniority'] = ['Senior Manager' if 'Senior Manag' in seniority or 'Experienced Man' in seniority else seniority for seniority in df.Seniority]"
   ]
  },
  {
   "cell_type": "code",
   "execution_count": 2614,
   "metadata": {
    "scrolled": true
   },
   "outputs": [],
   "source": [
    "for seniority in df.Seniority.value_counts().head(7).index:\n",
    "    df['seniority_'+seniority] = [1 if seniority == row else 0 for row in df.Seniority]"
   ]
  },
  {
   "cell_type": "markdown",
   "metadata": {},
   "source": [
    "Cleaning the employment type column"
   ]
  },
  {
   "cell_type": "code",
   "execution_count": 2615,
   "metadata": {},
   "outputs": [],
   "source": [
    "df['Emp_type'] = ['Unknown' if Emp_type != Emp_type or Emp_type == '0.0' or Emp_type.lower() == 'none'  else Emp_type for Emp_type in df['Emp_type']]"
   ]
  },
  {
   "cell_type": "code",
   "execution_count": 2616,
   "metadata": {},
   "outputs": [
    {
     "data": {
      "text/plain": [
       "Unknown                                                              2855\n",
       "Permanent                                                             743\n",
       "Full Time                                                             503\n",
       "Permanent, Full Time                                                  260\n",
       "Contract                                                              241\n",
       "Contract, Full Time                                                   143\n",
       "Permanent, Contract                                                    94\n",
       "Contract, Temporary                                                    39\n",
       "Permanent, Contract, Full Time                                         16\n",
       "Temporary                                                               7\n",
       "Internship                                                              7\n",
       "Part Time, Full Time, Internship                                        5\n",
       "Permanent, Part Time                                                    5\n",
       "Part Time                                                               5\n",
       "Contract, Project Basis                                                 5\n",
       "Contract, Part Time                                                     3\n",
       "Temporary, Contract                                                     2\n",
       "Project Basis, Temporary                                                2\n",
       "Internship, Temporary                                                   1\n",
       "Permanent, Internship                                                   1\n",
       "Temporary, Contract, Full Time                                          1\n",
       "Contract, Freelance, Full Time, Flexi work                              1\n",
       "Part Time, Temporary, Contract, Full Time, Flexi work                   1\n",
       "Permanent, Project Basis                                                1\n",
       "Part Time, Permanent, Temporary, Contract, Flexi work, Internship       1\n",
       "Part Time, Permanent, Internship                                        1\n",
       "Part Time, Flexi work                                                   1\n",
       "Part Time, Contract                                                     1\n",
       "Name: Emp_type, dtype: int64"
      ]
     },
     "execution_count": 2616,
     "metadata": {},
     "output_type": "execute_result"
    }
   ],
   "source": [
    "# seems too varied, with too many null fields - throw into the description column and drop the rest\n",
    "df.Emp_type.value_counts()"
   ]
  },
  {
   "cell_type": "code",
   "execution_count": 2617,
   "metadata": {},
   "outputs": [],
   "source": [
    "df['Description'] = [j if i == 'Unknown' else i + j for i, j in zip(df.Emp_type, df.Description)]\n",
    "df.drop('Emp_type', axis=1, inplace=True)"
   ]
  },
  {
   "cell_type": "code",
   "execution_count": 2618,
   "metadata": {},
   "outputs": [],
   "source": [
    "df['Description'] = ['Unknown' if Description.lower() == 'none' or Description.lower() == 'nan' or Description.lower() == 'nonenone' or Description.lower() == '' else Description for Description in df.Description]"
   ]
  },
  {
   "cell_type": "markdown",
   "metadata": {},
   "source": [
    "Cleaning and dummy-ing the Indstury column"
   ]
  },
  {
   "cell_type": "code",
   "execution_count": 2619,
   "metadata": {},
   "outputs": [],
   "source": [
    "df['Industry'] = ['Unknown' if industry != industry or industry.lower() == 'none' else industry for industry in df['Industry']]\n",
    "df['Industry'] = ['Banking and Finance' if 'banking' in industry.lower() or 'finance' in industry.lower() else industry for industry in df.Industry]\n",
    "df['Industry'] = ['Information Technology' if 'information' in industry.lower() else industry for industry in df.Industry]\n",
    "df['Industry'] = ['Human Resources Management/Consulting' if 'consult' in industry.lower() or 'human' in industry.lower() else industry for industry in df.Industry]\n",
    "df['Industry'] = ['R&D' if 'r&d' in industry.lower() else industry for industry in df.Industry]\n"
   ]
  },
  {
   "cell_type": "code",
   "execution_count": 2620,
   "metadata": {},
   "outputs": [],
   "source": [
    "df['Industry'] = ['Human Resources Management/Consulting' if 'consult' in industry.lower() or 'human' in industry.lower() else industry for industry in df.Industry]\n"
   ]
  },
  {
   "cell_type": "code",
   "execution_count": null,
   "metadata": {},
   "outputs": [],
   "source": [
    "for industry in df.Industry.value_counts().head().index:\n",
    "    if industry != 'Unknown':\n",
    "        df['industry_'+industry] = [1 if row == industry else 0 for row in df.Industry]"
   ]
  },
  {
   "cell_type": "markdown",
   "metadata": {},
   "source": [
    "Cleaning the company column"
   ]
  },
  {
   "cell_type": "code",
   "execution_count": null,
   "metadata": {},
   "outputs": [],
   "source": [
    "df['Company'] = ['Unknown' if Company.lower() == 'none' or Company.lower() == 'nan' or Company.lower() == '' else Company for Company in df.Company]"
   ]
  },
  {
   "cell_type": "markdown",
   "metadata": {},
   "source": [
    "Dropping columns that got turned into dummy variables"
   ]
  },
  {
   "cell_type": "code",
   "execution_count": null,
   "metadata": {},
   "outputs": [],
   "source": [
    "df.drop_duplicates(inplace=True)"
   ]
  },
  {
   "cell_type": "code",
   "execution_count": null,
   "metadata": {},
   "outputs": [],
   "source": [
    "df.to_csv('nodrop_df.csv', index=False)"
   ]
  },
  {
   "cell_type": "code",
   "execution_count": null,
   "metadata": {},
   "outputs": [],
   "source": [
    "df.drop('Title', axis=1, inplace=True)\n",
    "df.drop('Location', axis=1, inplace=True)\n",
    "df.drop('Seniority', axis=1, inplace=True)\n",
    "df.drop('Industry', axis=1, inplace=True)"
   ]
  },
  {
   "cell_type": "code",
   "execution_count": null,
   "metadata": {},
   "outputs": [],
   "source": [
    "df.dtypes"
   ]
  },
  {
   "cell_type": "code",
   "execution_count": null,
   "metadata": {},
   "outputs": [],
   "source": [
    "df.to_csv('final_df.csv', index=False)"
   ]
  },
  {
   "cell_type": "code",
   "execution_count": null,
   "metadata": {},
   "outputs": [],
   "source": [
    "pd.read_csv('final_df.csv')"
   ]
  }
 ],
 "metadata": {
  "kernelspec": {
   "display_name": "Python 3",
   "language": "python",
   "name": "python3"
  },
  "language_info": {
   "codemirror_mode": {
    "name": "ipython",
    "version": 3
   },
   "file_extension": ".py",
   "mimetype": "text/x-python",
   "name": "python",
   "nbconvert_exporter": "python",
   "pygments_lexer": "ipython3",
   "version": "3.6.4"
  }
 },
 "nbformat": 4,
 "nbformat_minor": 2
}
