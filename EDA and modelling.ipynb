{
 "cells": [
  {
   "cell_type": "code",
   "execution_count": 1,
   "metadata": {},
   "outputs": [],
   "source": [
    "import numpy as np\n",
    "import pandas as pd\n",
    "import seaborn as sns\n",
    "from sklearn.feature_extraction.text import TfidfVectorizer, CountVectorizer, HashingVectorizer, TfidfTransformer\n",
    "from sklearn.model_selection import train_test_split\n",
    "from sklearn.ensemble import RandomForestClassifier\n",
    "from sklearn.linear_model import LogisticRegression, LinearRegression, Lasso, Ridge, ElasticNet, RidgeCV\n",
    "from sklearn.naive_bayes import GaussianNB\n",
    "from sklearn.pipeline import FeatureUnion\n",
    "from sklearn.metrics import r2_score"
   ]
  },
  {
   "cell_type": "code",
   "execution_count": 2,
   "metadata": {},
   "outputs": [],
   "source": [
    "df = pd.read_csv('final_df.csv')"
   ]
  },
  {
   "cell_type": "code",
   "execution_count": 3,
   "metadata": {},
   "outputs": [],
   "source": [
    "# dropping the unknown salary figures\n",
    "df = df[df.Salary != 0]"
   ]
  },
  {
   "cell_type": "code",
   "execution_count": 4,
   "metadata": {},
   "outputs": [
    {
     "data": {
      "text/plain": [
       "count     2605.000000\n",
       "mean      5938.203972\n",
       "std       2868.774864\n",
       "min        222.000000\n",
       "25%       4000.000000\n",
       "50%       5500.000000\n",
       "75%       6906.916327\n",
       "max      25000.000000\n",
       "Name: Salary, dtype: float64"
      ]
     },
     "execution_count": 4,
     "metadata": {},
     "output_type": "execute_result"
    }
   ],
   "source": [
    "df.Salary.describe()"
   ]
  },
  {
   "cell_type": "code",
   "execution_count": 5,
   "metadata": {},
   "outputs": [
    {
     "data": {
      "text/html": [
       "<div>\n",
       "<style scoped>\n",
       "    .dataframe tbody tr th:only-of-type {\n",
       "        vertical-align: middle;\n",
       "    }\n",
       "\n",
       "    .dataframe tbody tr th {\n",
       "        vertical-align: top;\n",
       "    }\n",
       "\n",
       "    .dataframe thead th {\n",
       "        text-align: right;\n",
       "    }\n",
       "</style>\n",
       "<table border=\"1\" class=\"dataframe\">\n",
       "  <thead>\n",
       "    <tr style=\"text-align: right;\">\n",
       "      <th></th>\n",
       "      <th>Company</th>\n",
       "      <th>Address</th>\n",
       "      <th>Description</th>\n",
       "      <th>Salary</th>\n",
       "      <th>title_Data Analyst</th>\n",
       "      <th>title_Analyst(others)</th>\n",
       "      <th>title_Business Analyst</th>\n",
       "      <th>title_Data Scientist</th>\n",
       "      <th>title_Reseach Scientist</th>\n",
       "      <th>title_Data(others)</th>\n",
       "      <th>...</th>\n",
       "      <th>seniority_Junior Executive</th>\n",
       "      <th>seniority_Manager</th>\n",
       "      <th>seniority_Entry Level</th>\n",
       "      <th>seniority_Professional</th>\n",
       "      <th>seniority_Executive</th>\n",
       "      <th>seniority_Senior Manager</th>\n",
       "      <th>industry_Human Resources Management/Consulting</th>\n",
       "      <th>industry_Information Technology</th>\n",
       "      <th>industry_Banking and Finance</th>\n",
       "      <th>industry_R&amp;D</th>\n",
       "    </tr>\n",
       "  </thead>\n",
       "  <tbody>\n",
       "    <tr>\n",
       "      <th>326</th>\n",
       "      <td>Smartblock Pte Ltd</td>\n",
       "      <td>Unknown</td>\n",
       "      <td>Unknown</td>\n",
       "      <td>475.0</td>\n",
       "      <td>0</td>\n",
       "      <td>1</td>\n",
       "      <td>0</td>\n",
       "      <td>0</td>\n",
       "      <td>0</td>\n",
       "      <td>0</td>\n",
       "      <td>...</td>\n",
       "      <td>0</td>\n",
       "      <td>0</td>\n",
       "      <td>1</td>\n",
       "      <td>0</td>\n",
       "      <td>0</td>\n",
       "      <td>0</td>\n",
       "      <td>0</td>\n",
       "      <td>1</td>\n",
       "      <td>0</td>\n",
       "      <td>0</td>\n",
       "    </tr>\n",
       "    <tr>\n",
       "      <th>656</th>\n",
       "      <td>Kelly Services S Pte Ltd</td>\n",
       "      <td>Unknown</td>\n",
       "      <td>Unknown</td>\n",
       "      <td>396.0</td>\n",
       "      <td>0</td>\n",
       "      <td>0</td>\n",
       "      <td>1</td>\n",
       "      <td>0</td>\n",
       "      <td>0</td>\n",
       "      <td>0</td>\n",
       "      <td>...</td>\n",
       "      <td>1</td>\n",
       "      <td>0</td>\n",
       "      <td>0</td>\n",
       "      <td>0</td>\n",
       "      <td>0</td>\n",
       "      <td>0</td>\n",
       "      <td>1</td>\n",
       "      <td>0</td>\n",
       "      <td>0</td>\n",
       "      <td>0</td>\n",
       "    </tr>\n",
       "    <tr>\n",
       "      <th>1412</th>\n",
       "      <td>PrimusTech Private Limited</td>\n",
       "      <td>Unknown</td>\n",
       "      <td>Contract, TemporaryDiploma, Bachelor's / Honou...</td>\n",
       "      <td>222.0</td>\n",
       "      <td>0</td>\n",
       "      <td>0</td>\n",
       "      <td>0</td>\n",
       "      <td>0</td>\n",
       "      <td>0</td>\n",
       "      <td>0</td>\n",
       "      <td>...</td>\n",
       "      <td>0</td>\n",
       "      <td>0</td>\n",
       "      <td>0</td>\n",
       "      <td>0</td>\n",
       "      <td>0</td>\n",
       "      <td>0</td>\n",
       "      <td>0</td>\n",
       "      <td>0</td>\n",
       "      <td>0</td>\n",
       "      <td>0</td>\n",
       "    </tr>\n",
       "    <tr>\n",
       "      <th>1554</th>\n",
       "      <td>Borden Company Pte Ltd</td>\n",
       "      <td>Unknown</td>\n",
       "      <td>PermanentBachelor's / Honours, Masters / PhDBr...</td>\n",
       "      <td>228.0</td>\n",
       "      <td>0</td>\n",
       "      <td>0</td>\n",
       "      <td>0</td>\n",
       "      <td>0</td>\n",
       "      <td>0</td>\n",
       "      <td>0</td>\n",
       "      <td>...</td>\n",
       "      <td>0</td>\n",
       "      <td>0</td>\n",
       "      <td>0</td>\n",
       "      <td>0</td>\n",
       "      <td>0</td>\n",
       "      <td>1</td>\n",
       "      <td>0</td>\n",
       "      <td>0</td>\n",
       "      <td>0</td>\n",
       "      <td>0</td>\n",
       "    </tr>\n",
       "    <tr>\n",
       "      <th>3159</th>\n",
       "      <td>GROUP NAUTICAL PTE LIMITED</td>\n",
       "      <td>ECENTRE  REDHILL  JALAN BUKIT MERAH</td>\n",
       "      <td>InternshipRequirementsSkills and Qualification...</td>\n",
       "      <td>400.0</td>\n",
       "      <td>0</td>\n",
       "      <td>0</td>\n",
       "      <td>0</td>\n",
       "      <td>0</td>\n",
       "      <td>0</td>\n",
       "      <td>0</td>\n",
       "      <td>...</td>\n",
       "      <td>0</td>\n",
       "      <td>0</td>\n",
       "      <td>0</td>\n",
       "      <td>0</td>\n",
       "      <td>0</td>\n",
       "      <td>0</td>\n",
       "      <td>0</td>\n",
       "      <td>1</td>\n",
       "      <td>0</td>\n",
       "      <td>0</td>\n",
       "    </tr>\n",
       "  </tbody>\n",
       "</table>\n",
       "<p>5 rows × 30 columns</p>\n",
       "</div>"
      ],
      "text/plain": [
       "                         Company                               Address  \\\n",
       "326           Smartblock Pte Ltd                               Unknown   \n",
       "656     Kelly Services S Pte Ltd                               Unknown   \n",
       "1412  PrimusTech Private Limited                               Unknown   \n",
       "1554      Borden Company Pte Ltd                               Unknown   \n",
       "3159  GROUP NAUTICAL PTE LIMITED  ECENTRE  REDHILL  JALAN BUKIT MERAH    \n",
       "\n",
       "                                            Description  Salary  \\\n",
       "326                                             Unknown   475.0   \n",
       "656                                             Unknown   396.0   \n",
       "1412  Contract, TemporaryDiploma, Bachelor's / Honou...   222.0   \n",
       "1554  PermanentBachelor's / Honours, Masters / PhDBr...   228.0   \n",
       "3159  InternshipRequirementsSkills and Qualification...   400.0   \n",
       "\n",
       "      title_Data Analyst  title_Analyst(others)  title_Business Analyst  \\\n",
       "326                    0                      1                       0   \n",
       "656                    0                      0                       1   \n",
       "1412                   0                      0                       0   \n",
       "1554                   0                      0                       0   \n",
       "3159                   0                      0                       0   \n",
       "\n",
       "      title_Data Scientist  title_Reseach Scientist  title_Data(others)  \\\n",
       "326                      0                        0                   0   \n",
       "656                      0                        0                   0   \n",
       "1412                     0                        0                   0   \n",
       "1554                     0                        0                   0   \n",
       "3159                     0                        0                   0   \n",
       "\n",
       "          ...       seniority_Junior Executive  seniority_Manager  \\\n",
       "326       ...                                0                  0   \n",
       "656       ...                                1                  0   \n",
       "1412      ...                                0                  0   \n",
       "1554      ...                                0                  0   \n",
       "3159      ...                                0                  0   \n",
       "\n",
       "      seniority_Entry Level  seniority_Professional  seniority_Executive  \\\n",
       "326                       1                       0                    0   \n",
       "656                       0                       0                    0   \n",
       "1412                      0                       0                    0   \n",
       "1554                      0                       0                    0   \n",
       "3159                      0                       0                    0   \n",
       "\n",
       "      seniority_Senior Manager  \\\n",
       "326                          0   \n",
       "656                          0   \n",
       "1412                         0   \n",
       "1554                         1   \n",
       "3159                         0   \n",
       "\n",
       "      industry_Human Resources Management/Consulting  \\\n",
       "326                                                0   \n",
       "656                                                1   \n",
       "1412                                               0   \n",
       "1554                                               0   \n",
       "3159                                               0   \n",
       "\n",
       "      industry_Information Technology  industry_Banking and Finance  \\\n",
       "326                                 1                             0   \n",
       "656                                 0                             0   \n",
       "1412                                0                             0   \n",
       "1554                                0                             0   \n",
       "3159                                1                             0   \n",
       "\n",
       "      industry_R&D  \n",
       "326              0  \n",
       "656              0  \n",
       "1412             0  \n",
       "1554             0  \n",
       "3159             0  \n",
       "\n",
       "[5 rows x 30 columns]"
      ]
     },
     "execution_count": 5,
     "metadata": {},
     "output_type": "execute_result"
    }
   ],
   "source": [
    "# which joker put 222 as the salary?\n",
    "df[df.Salary < 500].head()"
   ]
  },
  {
   "cell_type": "code",
   "execution_count": 6,
   "metadata": {},
   "outputs": [],
   "source": [
    "df = df[df.Salary > 1500]\n",
    "df.reset_index(drop=True, inplace=True)"
   ]
  },
  {
   "cell_type": "code",
   "execution_count": 7,
   "metadata": {},
   "outputs": [
    {
     "data": {
      "text/plain": [
       "count     2580.000000\n",
       "mean      5986.463312\n",
       "std       2839.956296\n",
       "min       1550.000000\n",
       "25%       4000.000000\n",
       "50%       5500.000000\n",
       "75%       6906.916327\n",
       "max      25000.000000\n",
       "Name: Salary, dtype: float64"
      ]
     },
     "execution_count": 7,
     "metadata": {},
     "output_type": "execute_result"
    }
   ],
   "source": [
    "df.Salary.describe()"
   ]
  },
  {
   "cell_type": "code",
   "execution_count": 8,
   "metadata": {},
   "outputs": [],
   "source": [
    "df['Salary'] = df.Salary.astype(int)"
   ]
  },
  {
   "cell_type": "code",
   "execution_count": 9,
   "metadata": {},
   "outputs": [
    {
     "data": {
      "text/plain": [
       "Company                                            object\n",
       "Address                                            object\n",
       "Description                                        object\n",
       "Salary                                              int32\n",
       "title_Data Analyst                                  int64\n",
       "title_Analyst(others)                               int64\n",
       "title_Business Analyst                              int64\n",
       "title_Data Scientist                                int64\n",
       "title_Reseach Scientist                             int64\n",
       "title_Data(others)                                  int64\n",
       "title_Business(others)                              int64\n",
       "title_Data Engineer                                 int64\n",
       "location_Across                                     int64\n",
       "location_Central                                    int64\n",
       "location_West                                       int64\n",
       "location_East                                       int64\n",
       "location_North                                      int64\n",
       "location_Overseas                                   int64\n",
       "Min Years                                         float64\n",
       "seniority_Senior Executive                          int64\n",
       "seniority_Junior Executive                          int64\n",
       "seniority_Manager                                   int64\n",
       "seniority_Entry Level                               int64\n",
       "seniority_Professional                              int64\n",
       "seniority_Executive                                 int64\n",
       "seniority_Senior Manager                            int64\n",
       "industry_Human Resources Management/Consulting      int64\n",
       "industry_Information Technology                     int64\n",
       "industry_Banking and Finance                        int64\n",
       "industry_R&D                                        int64\n",
       "dtype: object"
      ]
     },
     "execution_count": 9,
     "metadata": {},
     "output_type": "execute_result"
    }
   ],
   "source": [
    "df.dtypes"
   ]
  },
  {
   "cell_type": "code",
   "execution_count": 10,
   "metadata": {},
   "outputs": [
    {
     "data": {
      "text/plain": [
       "<matplotlib.axes._subplots.AxesSubplot at 0x1e9709adac8>"
      ]
     },
     "execution_count": 10,
     "metadata": {},
     "output_type": "execute_result"
    },
    {
     "data": {
      "image/png": "[encoded data removed]",
      "text/plain": [
       "<matplotlib.figure.Figure at 0x1e970958f98>"
      ]
     },
     "metadata": {},
     "output_type": "display_data"
    }
   ],
   "source": [
    "sns.regplot(df['Min Years'], df.Salary)"
   ]
  },
  {
   "cell_type": "markdown",
   "metadata": {},
   "source": [
    "Train test split"
   ]
  },
  {
   "cell_type": "code",
   "execution_count": 11,
   "metadata": {},
   "outputs": [],
   "source": [
    "X_train, X_test, y_train, y_test = train_test_split(df.drop('Salary', axis=1), df.Salary, test_size=0.2, random_state=322)"
   ]
  },
  {
   "cell_type": "code",
   "execution_count": 12,
   "metadata": {},
   "outputs": [],
   "source": [
    "def scorer(nlp, method, column):\n",
    "    nlp.fit(X_train[column], y_train)\n",
    "    method.fit(nlp.transform(X_train[column]), y_train)\n",
    "    print('The mean salary prediction error is {}'.format(int(abs(method.predict(nlp.transform(X_test[column])) - y_test).mean())))\n",
    "    print('The score is {:.4f}'.format(method.score(nlp.transform(X_test[column]), y_test)))"
   ]
  },
  {
   "cell_type": "code",
   "execution_count": 13,
   "metadata": {},
   "outputs": [],
   "source": [
    "nlps = [(HashingVectorizer(ngram_range=(1,2)), 'Hashing Vectorizer'), \n",
    "        (TfidfVectorizer(ngram_range=(1,2)), 'Tfidf Vectorizer'), \n",
    "        (CountVectorizer(ngram_range=(1,2)), 'Count Vectorizer')]"
   ]
  },
  {
   "cell_type": "code",
   "execution_count": 14,
   "metadata": {},
   "outputs": [],
   "source": [
    "methods = [(LinearRegression(), 'Linear Regression'),\n",
    "           (Lasso(), 'Lasso'), \n",
    "           (Ridge(), 'Ridge'),]"
   ]
  },
  {
   "cell_type": "markdown",
   "metadata": {},
   "source": [
    "A quick look at several vectorizing methods and how well the individual text columns predict salary based on different regression models"
   ]
  },
  {
   "cell_type": "code",
   "execution_count": 15,
   "metadata": {
    "scrolled": true
   },
   "outputs": [],
   "source": [
    "# for nlp in nlps:\n",
    "#     for method in methods:\n",
    "#         print('For '+ nlp[1] + ', ' + method[1] + ',')\n",
    "#         try:\n",
    "#             scorer(nlp[0], method[0], 'Company')\n",
    "#         except:\n",
    "#             print('error error')\n",
    "#         print('-'*20)"
   ]
  },
  {
   "cell_type": "code",
   "execution_count": 16,
   "metadata": {},
   "outputs": [],
   "source": [
    "# for nlp in nlps:\n",
    "#     for method in methods:\n",
    "#         print('For '+ nlp[1] + ', ' + method[1] + ',')\n",
    "#         try:\n",
    "#             scorer(nlp[0], method[0], 'Address')\n",
    "#         except:\n",
    "#             print('error error')\n",
    "#         print('-'*20)"
   ]
  },
  {
   "cell_type": "code",
   "execution_count": 17,
   "metadata": {
    "scrolled": true
   },
   "outputs": [],
   "source": [
    "# holy shit this one takes years to run\n",
    "# for nlp in nlps:\n",
    "#     for method in methods:\n",
    "#         print('For '+ nlp[1] + ', ' + method[1] + ',')\n",
    "#         try:\n",
    "#             scorer(nlp[0], method[0], 'Description')\n",
    "#         except:\n",
    "#             print('error error')\n",
    "#         print('-'*20)"
   ]
  },
  {
   "cell_type": "markdown",
   "metadata": {},
   "source": [
    "The general takeaway seems to be that regardless of vectorizing method, Ridge consistently outperforms the other regression models. That said, for both the 'Company' and 'Address' columns, Hashing Vectorizer scores the highest on average, while Tfidf performs the best for the 'Description' column. However, as the feature names cannot be gotten from the hashing vectorizer, Count Vectorizer will be used instead."
   ]
  },
  {
   "cell_type": "code",
   "execution_count": 18,
   "metadata": {},
   "outputs": [],
   "source": [
    "cv = CountVectorizer(ngram_range=(1,2))\n",
    "tfid = TfidfVectorizer(ngram_range=(1,2), min_df=5)"
   ]
  },
  {
   "cell_type": "code",
   "execution_count": 19,
   "metadata": {},
   "outputs": [],
   "source": [
    "X_test.reset_index(inplace=True, drop=True)\n",
    "X_train.reset_index(inplace=True, drop=True)"
   ]
  },
  {
   "cell_type": "code",
   "execution_count": 20,
   "metadata": {},
   "outputs": [
    {
     "data": {
      "text/plain": [
       "CountVectorizer(analyzer='word', binary=False, decode_error='strict',\n",
       "        dtype=<class 'numpy.int64'>, encoding='utf-8', input='content',\n",
       "        lowercase=True, max_df=1.0, max_features=None, min_df=1,\n",
       "        ngram_range=(1, 2), preprocessor=None, stop_words=None,\n",
       "        strip_accents=None, token_pattern='(?u)\\\\b\\\\w\\\\w+\\\\b',\n",
       "        tokenizer=None, vocabulary=None)"
      ]
     },
     "execution_count": 20,
     "metadata": {},
     "output_type": "execute_result"
    }
   ],
   "source": [
    "cv.fit(X_train.Company)"
   ]
  },
  {
   "cell_type": "code",
   "execution_count": 21,
   "metadata": {},
   "outputs": [],
   "source": [
    "X_test = pd.concat([X_test, pd.DataFrame(cv.transform(X_test.Company).todense(), columns=['company_'+name for name in cv.get_feature_names()])], axis=1)\n",
    "X_train = pd.concat([X_train, pd.DataFrame(cv.transform(X_train.Company).todense(), columns=['company_'+name for name in cv.get_feature_names()])], axis=1)"
   ]
  },
  {
   "cell_type": "code",
   "execution_count": 22,
   "metadata": {},
   "outputs": [],
   "source": [
    "X_test.drop('Company', axis=1, inplace=True)\n",
    "X_train.drop('Company', axis=1, inplace=True)"
   ]
  },
  {
   "cell_type": "code",
   "execution_count": 23,
   "metadata": {},
   "outputs": [
    {
     "data": {
      "text/plain": [
       "CountVectorizer(analyzer='word', binary=False, decode_error='strict',\n",
       "        dtype=<class 'numpy.int64'>, encoding='utf-8', input='content',\n",
       "        lowercase=True, max_df=1.0, max_features=None, min_df=1,\n",
       "        ngram_range=(1, 2), preprocessor=None, stop_words=None,\n",
       "        strip_accents=None, token_pattern='(?u)\\\\b\\\\w\\\\w+\\\\b',\n",
       "        tokenizer=None, vocabulary=None)"
      ]
     },
     "execution_count": 23,
     "metadata": {},
     "output_type": "execute_result"
    }
   ],
   "source": [
    "cv.fit(X_train.Address)"
   ]
  },
  {
   "cell_type": "code",
   "execution_count": 24,
   "metadata": {},
   "outputs": [],
   "source": [
    "X_test = pd.concat([X_test, pd.DataFrame(cv.transform(X_test.Address).todense(), columns=['address_'+name for name in cv.get_feature_names()])], axis=1)\n",
    "X_train = pd.concat([X_train, pd.DataFrame(cv.transform(X_train.Address).todense(), columns=['address_'+name for name in cv.get_feature_names()])], axis=1)"
   ]
  },
  {
   "cell_type": "code",
   "execution_count": 25,
   "metadata": {},
   "outputs": [],
   "source": [
    "X_test.drop('Address', axis=1, inplace=True)\n",
    "X_train.drop('Address', axis=1, inplace=True)"
   ]
  },
  {
   "cell_type": "code",
   "execution_count": 26,
   "metadata": {
    "scrolled": true
   },
   "outputs": [
    {
     "data": {
      "text/plain": [
       "TfidfVectorizer(analyzer='word', binary=False, decode_error='strict',\n",
       "        dtype=<class 'numpy.int64'>, encoding='utf-8', input='content',\n",
       "        lowercase=True, max_df=1.0, max_features=None, min_df=5,\n",
       "        ngram_range=(1, 2), norm='l2', preprocessor=None, smooth_idf=True,\n",
       "        stop_words=None, strip_accents=None, sublinear_tf=False,\n",
       "        token_pattern='(?u)\\\\b\\\\w\\\\w+\\\\b', tokenizer=None, use_idf=True,\n",
       "        vocabulary=None)"
      ]
     },
     "execution_count": 26,
     "metadata": {},
     "output_type": "execute_result"
    }
   ],
   "source": [
    "tfid.fit(X_train.Description)"
   ]
  },
  {
   "cell_type": "code",
   "execution_count": 27,
   "metadata": {},
   "outputs": [],
   "source": [
    "X_test = pd.concat([X_test, pd.DataFrame(tfid.transform(X_test.Description).todense(), columns=['description_'+name for name in tfid.get_feature_names()])], axis=1)\n",
    "X_train = pd.concat([X_train, pd.DataFrame(tfid.transform(X_train.Description).todense(), columns=['description_'+name for name in tfid.get_feature_names()])], axis=1)"
   ]
  },
  {
   "cell_type": "code",
   "execution_count": 28,
   "metadata": {},
   "outputs": [],
   "source": [
    "X_test.drop('Description', axis=1, inplace=True)\n",
    "X_train.drop('Description', axis=1, inplace=True)"
   ]
  },
  {
   "cell_type": "code",
   "execution_count": 29,
   "metadata": {},
   "outputs": [
    {
     "data": {
      "text/plain": [
       "(2064, 22752)"
      ]
     },
     "execution_count": 29,
     "metadata": {},
     "output_type": "execute_result"
    }
   ],
   "source": [
    "X_train.shape"
   ]
  },
  {
   "cell_type": "code",
   "execution_count": 30,
   "metadata": {},
   "outputs": [
    {
     "data": {
      "text/plain": [
       "0.5210170572256003"
      ]
     },
     "execution_count": 30,
     "metadata": {},
     "output_type": "execute_result"
    }
   ],
   "source": [
    "ridge = Ridge()\n",
    "ridge.fit(X_train, y_train)\n",
    "ridge.score(X_test, y_test)"
   ]
  },
  {
   "cell_type": "code",
   "execution_count": 31,
   "metadata": {},
   "outputs": [
    {
     "name": "stdout",
     "output_type": "stream",
     "text": [
      "The mean salary prediction error is 1410.47 dollars.\n"
     ]
    }
   ],
   "source": [
    "print('The mean salary prediction error is {:.2f} dollars.'.format(abs(ridge.predict(X_test) - y_test).mean()))"
   ]
  },
  {
   "cell_type": "code",
   "execution_count": 32,
   "metadata": {},
   "outputs": [
    {
     "data": {
      "text/plain": [
       "0.16666666666666666"
      ]
     },
     "execution_count": 32,
     "metadata": {},
     "output_type": "execute_result"
    }
   ],
   "source": [
    "rfc = RandomForestClassifier()\n",
    "rfc.fit(X_train, y_train)\n",
    "rfc.score(X_test, y_test)"
   ]
  },
  {
   "cell_type": "code",
   "execution_count": 33,
   "metadata": {},
   "outputs": [
    {
     "name": "stdout",
     "output_type": "stream",
     "text": [
      "The mean salary prediction error is 1742.72 dollars.\n"
     ]
    }
   ],
   "source": [
    "print('The mean salary prediction error is {:.2f} dollars.'.format(abs(rfc.predict(X_test) - y_test).mean()))"
   ]
  },
  {
   "cell_type": "markdown",
   "metadata": {},
   "source": [
    "As can be seen from above, random forest classifier does a poor job of predicting the salary from the data compared to ridge regression."
   ]
  },
  {
   "cell_type": "code",
   "execution_count": 34,
   "metadata": {},
   "outputs": [
    {
     "data": {
      "text/plain": [
       "Index(['Company', 'Address', 'Description', 'Salary', 'title_Data Analyst',\n",
       "       'title_Analyst(others)', 'title_Business Analyst',\n",
       "       'title_Data Scientist', 'title_Reseach Scientist', 'title_Data(others)',\n",
       "       'title_Business(others)', 'title_Data Engineer', 'location_Across',\n",
       "       'location_Central', 'location_West', 'location_East', 'location_North',\n",
       "       'location_Overseas', 'Min Years', 'seniority_Senior Executive',\n",
       "       'seniority_Junior Executive', 'seniority_Manager',\n",
       "       'seniority_Entry Level', 'seniority_Professional',\n",
       "       'seniority_Executive', 'seniority_Senior Manager',\n",
       "       'industry_Human Resources Management/Consulting',\n",
       "       'industry_Information Technology', 'industry_Banking and Finance',\n",
       "       'industry_R&D'],\n",
       "      dtype='object')"
      ]
     },
     "execution_count": 34,
     "metadata": {},
     "output_type": "execute_result"
    }
   ],
   "source": [
    "df.columns"
   ]
  },
  {
   "cell_type": "code",
   "execution_count": 35,
   "metadata": {},
   "outputs": [],
   "source": [
    "coefs = sorted(list(zip(ridge.coef_, X_test.columns)), reverse=True)"
   ]
  },
  {
   "cell_type": "markdown",
   "metadata": {},
   "source": [
    "From here we can see that company names that have 'novartis', 'macdonald', 'billigence', 'marall' and 'lego' in it are the highest paying companies."
   ]
  },
  {
   "cell_type": "code",
   "execution_count": 36,
   "metadata": {},
   "outputs": [
    {
     "data": {
      "text/plain": [
       "[(3056.4346772799363, 'company_novartis singapore'),\n",
       " (3056.4346772799363, 'company_novartis'),\n",
       " (1992.3175441358082, 'company_macdonald and'),\n",
       " (1992.3175441358082, 'company_macdonald'),\n",
       " (1992.3175441358082, 'company_and company'),\n",
       " (1869.8043662497787, 'company_billigence'),\n",
       " (1737.3330632651214, 'company_marall services'),\n",
       " (1737.3330632651214, 'company_marall'),\n",
       " (1611.7605472707617, 'company_lego singapore'),\n",
       " (1611.7605472707617, 'company_lego')]"
      ]
     },
     "execution_count": 36,
     "metadata": {},
     "output_type": "execute_result"
    }
   ],
   "source": [
    "[(i,j) for i,j in coefs if 'company' in j][:10]"
   ]
  },
  {
   "cell_type": "markdown",
   "metadata": {},
   "source": [
    "On the other hand, companies with the words 'ascent', 'cloak', 'zendesk', 'power' and 'trakomatic' are likely to pay less."
   ]
  },
  {
   "cell_type": "code",
   "execution_count": 37,
   "metadata": {},
   "outputs": [
    {
     "data": {
      "text/plain": [
       "[(-1018.0200240004194, 'company_ascent'),\n",
       " (-1018.0200240004194, 'company_ascent asia'),\n",
       " (-1018.0200240004194, 'company_pulley'),\n",
       " (-1018.0200240004194, 'company_pulley ascent'),\n",
       " (-954.159989343352, 'company_cloak'),\n",
       " (-954.159989343352, 'company_cloak pte'),\n",
       " (-940.2367724532891, 'company_zendesk'),\n",
       " (-940.2367724532891, 'company_zendesk singapore'),\n",
       " (-931.5752381462089, 'company_power'),\n",
       " (-864.8328610494094, 'company_trakomatic'),\n",
       " (-864.8328610494094, 'company_trakomatic pte')]"
      ]
     },
     "execution_count": 37,
     "metadata": {},
     "output_type": "execute_result"
    }
   ],
   "source": [
    "[(i,j) for i,j in coefs if 'company' in j][:-12:-1]"
   ]
  },
  {
   "cell_type": "markdown",
   "metadata": {},
   "source": [
    "Likewise for address"
   ]
  },
  {
   "cell_type": "code",
   "execution_count": 38,
   "metadata": {},
   "outputs": [
    {
     "data": {
      "text/plain": [
       "[(1595.3420388963318, 'address_square north'),\n",
       " (1595.3420388963318, 'address_parkview square'),\n",
       " (1595.3420388963318, 'address_parkview'),\n",
       " (1454.745522783558, 'address_malaysia kl'),\n",
       " (1454.745522783558, 'address_kl'),\n",
       " (1310.454295586454, 'address_malaysia'),\n",
       " (1170.1933844999512, 'address_two'),\n",
       " (1170.1933844999512, 'address_tower two'),\n",
       " (1165.2501950423407, 'address_comcentre exeter'),\n",
       " (1122.4401360803292, 'address_exeter road')]"
      ]
     },
     "execution_count": 38,
     "metadata": {},
     "output_type": "execute_result"
    }
   ],
   "source": [
    "[(i,j) for i,j in coefs if 'address' in j][:10]"
   ]
  },
  {
   "cell_type": "code",
   "execution_count": 39,
   "metadata": {},
   "outputs": [
    {
     "data": {
      "text/plain": [
       "[(-1272.8706465525738, 'address_centre eunos'),\n",
       " (-1257.9597875540617, 'address_street singapore'),\n",
       " (-789.0102858596272, 'address_industrial'),\n",
       " (-787.3868463393494, 'address_quay ocean'),\n",
       " (-736.6824418952039, 'address_place singapore'),\n",
       " (-703.0656461974577, 'address_four temasek'),\n",
       " (-688.1570076281262, 'address_one harbourfront'),\n",
       " (-623.3400370841141, 'address_octagon the'),\n",
       " (-623.3400370841141, 'address_the cecil')]"
      ]
     },
     "execution_count": 39,
     "metadata": {},
     "output_type": "execute_result"
    }
   ],
   "source": [
    "[(i,j) for i,j in coefs if 'address_' in j][:-10:-1]"
   ]
  },
  {
   "cell_type": "markdown",
   "metadata": {},
   "source": [
    "Description"
   ]
  },
  {
   "cell_type": "code",
   "execution_count": 40,
   "metadata": {},
   "outputs": [
    {
     "data": {
      "text/plain": [
       "[(2014.3410928904343, 'description_trading'),\n",
       " (1925.410702310025, 'description_india'),\n",
       " (1836.143810089632, 'description_across'),\n",
       " (1683.2726268059628, 'description_strategy'),\n",
       " (1654.5923220469556, 'description_integration'),\n",
       " (1565.2964857182817, 'description_banking'),\n",
       " (1559.4319585982282, 'description_power'),\n",
       " (1525.3253689314356, 'description_engagements'),\n",
       " (1476.889930147725, 'description_digital'),\n",
       " (1431.126114983525, 'description_lead')]"
      ]
     },
     "execution_count": 40,
     "metadata": {},
     "output_type": "execute_result"
    }
   ],
   "source": [
    "[(i,j) for i,j in coefs if 'description_' in j][:10]"
   ]
  },
  {
   "cell_type": "markdown",
   "metadata": {},
   "source": [
    "Title"
   ]
  },
  {
   "cell_type": "code",
   "execution_count": 41,
   "metadata": {},
   "outputs": [
    {
     "data": {
      "text/plain": [
       "[(489.7950873178197, 'title_Data Scientist'),\n",
       " (-46.406222262347455, 'title_Reseach Scientist'),\n",
       " (-283.199403140361, 'title_Business Analyst'),\n",
       " (-288.4182772403474, 'title_Data(others)'),\n",
       " (-406.54162611650963, 'title_Analyst(others)'),\n",
       " (-477.05193889405837, 'title_Business(others)'),\n",
       " (-536.4921517676657, 'title_Data Analyst'),\n",
       " (-943.4706781196105, 'title_Data Engineer')]"
      ]
     },
     "execution_count": 41,
     "metadata": {},
     "output_type": "execute_result"
    }
   ],
   "source": [
    "[(i,j) for i,j in coefs if 'title_' in j][:10]"
   ]
  },
  {
   "cell_type": "markdown",
   "metadata": {},
   "source": [
    "Location"
   ]
  },
  {
   "cell_type": "code",
   "execution_count": 42,
   "metadata": {},
   "outputs": [
    {
     "data": {
      "text/plain": [
       "[(328.9624543450375, 'location_North'),\n",
       " (166.99091926197798, 'location_Across'),\n",
       " (101.70655770972235, 'location_East'),\n",
       " (34.17442868144508, 'location_West'),\n",
       " (-85.76452403453641, 'location_Central'),\n",
       " (-1034.5880066725479, 'location_Overseas')]"
      ]
     },
     "execution_count": 42,
     "metadata": {},
     "output_type": "execute_result"
    }
   ],
   "source": [
    "[(i,j) for i,j in coefs if 'location_' in j][:10]"
   ]
  },
  {
   "cell_type": "markdown",
   "metadata": {},
   "source": [
    "Seniority"
   ]
  },
  {
   "cell_type": "code",
   "execution_count": 43,
   "metadata": {},
   "outputs": [
    {
     "data": {
      "text/plain": [
       "[(2390.294879153078, 'seniority_Senior Manager'),\n",
       " (1381.2466405631822, 'seniority_Manager'),\n",
       " (1018.7158034697004, 'seniority_Professional'),\n",
       " (371.03753027667517, 'seniority_Senior Executive'),\n",
       " (-588.5244881946774, 'seniority_Executive'),\n",
       " (-679.8133285493382, 'seniority_Junior Executive'),\n",
       " (-1183.0016292407854, 'seniority_Entry Level')]"
      ]
     },
     "execution_count": 43,
     "metadata": {},
     "output_type": "execute_result"
    }
   ],
   "source": [
    "[(i,j) for i,j in coefs if 'seniority_' in j][:10]"
   ]
  },
  {
   "cell_type": "markdown",
   "metadata": {},
   "source": [
    "Industry"
   ]
  },
  {
   "cell_type": "code",
   "execution_count": 44,
   "metadata": {},
   "outputs": [
    {
     "data": {
      "text/plain": [
       "[(602.5669375734979, 'industry_Banking and Finance'),\n",
       " (503.34916551437254, 'industry_Information Technology'),\n",
       " (359.5772587832471, 'industry_Human Resources Management/Consulting'),\n",
       " (254.81243094445335, 'industry_R&D')]"
      ]
     },
     "execution_count": 44,
     "metadata": {},
     "output_type": "execute_result"
    }
   ],
   "source": [
    "[(i,j) for i,j in coefs if 'industry_' in j][:10]"
   ]
  },
  {
   "cell_type": "markdown",
   "metadata": {},
   "source": [
    "Moving on to attempting to predict job title using the other categories:"
   ]
  },
  {
   "cell_type": "code",
   "execution_count": 45,
   "metadata": {},
   "outputs": [
    {
     "data": {
      "text/plain": [
       "Index(['Company', 'Address', 'Description', 'Salary', 'title_Data Analyst',\n",
       "       'title_Analyst(others)', 'title_Business Analyst',\n",
       "       'title_Data Scientist', 'title_Reseach Scientist', 'title_Data(others)',\n",
       "       'title_Business(others)', 'title_Data Engineer', 'location_Across',\n",
       "       'location_Central', 'location_West', 'location_East', 'location_North',\n",
       "       'location_Overseas', 'Min Years', 'seniority_Senior Executive',\n",
       "       'seniority_Junior Executive', 'seniority_Manager',\n",
       "       'seniority_Entry Level', 'seniority_Professional',\n",
       "       'seniority_Executive', 'seniority_Senior Manager',\n",
       "       'industry_Human Resources Management/Consulting',\n",
       "       'industry_Information Technology', 'industry_Banking and Finance',\n",
       "       'industry_R&D'],\n",
       "      dtype='object')"
      ]
     },
     "execution_count": 45,
     "metadata": {},
     "output_type": "execute_result"
    }
   ],
   "source": [
    "df.columns"
   ]
  },
  {
   "cell_type": "code",
   "execution_count": 46,
   "metadata": {},
   "outputs": [],
   "source": [
    "def dedummy(df):\n",
    "    roles = [column.replace('title_', '') for column in df.columns if 'title_' in column]\n",
    "    titles = df[[column for column in df.columns if 'title_' in column]]\n",
    "    temp = []\n",
    "    for k in range(len(titles)):\n",
    "        if titles.loc[k].sum() == 0:\n",
    "            temp.append('Unknown')\n",
    "        else:\n",
    "            temp.append([j for i,j in zip(titles.loc[k], roles) if i == 1][0])\n",
    "    df['Title'] = temp\n",
    "    \n",
    "    for column in df.columns:\n",
    "        if 'title_' in column:\n",
    "            df.drop(column, axis=1, inplace=True)"
   ]
  },
  {
   "cell_type": "code",
   "execution_count": 47,
   "metadata": {},
   "outputs": [],
   "source": [
    "dedummy(X_train)\n",
    "dedummy(X_test)"
   ]
  },
  {
   "cell_type": "code",
   "execution_count": 48,
   "metadata": {},
   "outputs": [],
   "source": [
    "y_train = X_train.Title\n",
    "y_test = X_test.Title"
   ]
  },
  {
   "cell_type": "code",
   "execution_count": 49,
   "metadata": {},
   "outputs": [],
   "source": [
    "X_train = X_train.drop('Title', axis=1)\n",
    "X_test = X_test.drop('Title', axis=1)"
   ]
  },
  {
   "cell_type": "code",
   "execution_count": 50,
   "metadata": {},
   "outputs": [
    {
     "ename": "MemoryError",
     "evalue": "",
     "output_type": "error",
     "traceback": [
      "\u001b[1;31m---------------------------------------------------------------------------\u001b[0m",
      "\u001b[1;31mMemoryError\u001b[0m                               Traceback (most recent call last)",
      "\u001b[1;32m<ipython-input-50-cac808b29b1d>\u001b[0m in \u001b[0;36m<module>\u001b[1;34m()\u001b[0m\n\u001b[0;32m      1\u001b[0m \u001b[0mlogit\u001b[0m \u001b[1;33m=\u001b[0m \u001b[0mLogisticRegression\u001b[0m\u001b[1;33m(\u001b[0m\u001b[1;33m)\u001b[0m\u001b[1;33m\u001b[0m\u001b[0m\n\u001b[1;32m----> 2\u001b[1;33m \u001b[0mlogit\u001b[0m\u001b[1;33m.\u001b[0m\u001b[0mfit\u001b[0m\u001b[1;33m(\u001b[0m\u001b[0mX_train\u001b[0m\u001b[1;33m,\u001b[0m \u001b[0my_train\u001b[0m\u001b[1;33m)\u001b[0m\u001b[1;33m\u001b[0m\u001b[0m\n\u001b[0m\u001b[0;32m      3\u001b[0m \u001b[0mlogit\u001b[0m\u001b[1;33m.\u001b[0m\u001b[0mscore\u001b[0m\u001b[1;33m(\u001b[0m\u001b[0mX_test\u001b[0m\u001b[1;33m,\u001b[0m \u001b[0my_test\u001b[0m\u001b[1;33m)\u001b[0m\u001b[1;33m\u001b[0m\u001b[0m\n",
      "\u001b[1;32m~\\Anaconda3\\lib\\site-packages\\sklearn\\linear_model\\logistic.py\u001b[0m in \u001b[0;36mfit\u001b[1;34m(self, X, y, sample_weight)\u001b[0m\n\u001b[0;32m   1214\u001b[0m \u001b[1;33m\u001b[0m\u001b[0m\n\u001b[0;32m   1215\u001b[0m         X, y = check_X_y(X, y, accept_sparse='csr', dtype=_dtype,\n\u001b[1;32m-> 1216\u001b[1;33m                          order=\"C\")\n\u001b[0m\u001b[0;32m   1217\u001b[0m         \u001b[0mcheck_classification_targets\u001b[0m\u001b[1;33m(\u001b[0m\u001b[0my\u001b[0m\u001b[1;33m)\u001b[0m\u001b[1;33m\u001b[0m\u001b[0m\n\u001b[0;32m   1218\u001b[0m         \u001b[0mself\u001b[0m\u001b[1;33m.\u001b[0m\u001b[0mclasses_\u001b[0m \u001b[1;33m=\u001b[0m \u001b[0mnp\u001b[0m\u001b[1;33m.\u001b[0m\u001b[0munique\u001b[0m\u001b[1;33m(\u001b[0m\u001b[0my\u001b[0m\u001b[1;33m)\u001b[0m\u001b[1;33m\u001b[0m\u001b[0m\n",
      "\u001b[1;32m~\\Anaconda3\\lib\\site-packages\\sklearn\\utils\\validation.py\u001b[0m in \u001b[0;36mcheck_X_y\u001b[1;34m(X, y, accept_sparse, dtype, order, copy, force_all_finite, ensure_2d, allow_nd, multi_output, ensure_min_samples, ensure_min_features, y_numeric, warn_on_dtype, estimator)\u001b[0m\n\u001b[0;32m    571\u001b[0m     X = check_array(X, accept_sparse, dtype, order, copy, force_all_finite,\n\u001b[0;32m    572\u001b[0m                     \u001b[0mensure_2d\u001b[0m\u001b[1;33m,\u001b[0m \u001b[0mallow_nd\u001b[0m\u001b[1;33m,\u001b[0m \u001b[0mensure_min_samples\u001b[0m\u001b[1;33m,\u001b[0m\u001b[1;33m\u001b[0m\u001b[0m\n\u001b[1;32m--> 573\u001b[1;33m                     ensure_min_features, warn_on_dtype, estimator)\n\u001b[0m\u001b[0;32m    574\u001b[0m     \u001b[1;32mif\u001b[0m \u001b[0mmulti_output\u001b[0m\u001b[1;33m:\u001b[0m\u001b[1;33m\u001b[0m\u001b[0m\n\u001b[0;32m    575\u001b[0m         y = check_array(y, 'csr', force_all_finite=True, ensure_2d=False,\n",
      "\u001b[1;32m~\\Anaconda3\\lib\\site-packages\\sklearn\\utils\\validation.py\u001b[0m in \u001b[0;36mcheck_array\u001b[1;34m(array, accept_sparse, dtype, order, copy, force_all_finite, ensure_2d, allow_nd, ensure_min_samples, ensure_min_features, warn_on_dtype, estimator)\u001b[0m\n\u001b[0;32m    431\u001b[0m                                       force_all_finite)\n\u001b[0;32m    432\u001b[0m     \u001b[1;32melse\u001b[0m\u001b[1;33m:\u001b[0m\u001b[1;33m\u001b[0m\u001b[0m\n\u001b[1;32m--> 433\u001b[1;33m         \u001b[0marray\u001b[0m \u001b[1;33m=\u001b[0m \u001b[0mnp\u001b[0m\u001b[1;33m.\u001b[0m\u001b[0marray\u001b[0m\u001b[1;33m(\u001b[0m\u001b[0marray\u001b[0m\u001b[1;33m,\u001b[0m \u001b[0mdtype\u001b[0m\u001b[1;33m=\u001b[0m\u001b[0mdtype\u001b[0m\u001b[1;33m,\u001b[0m \u001b[0morder\u001b[0m\u001b[1;33m=\u001b[0m\u001b[0morder\u001b[0m\u001b[1;33m,\u001b[0m \u001b[0mcopy\u001b[0m\u001b[1;33m=\u001b[0m\u001b[0mcopy\u001b[0m\u001b[1;33m)\u001b[0m\u001b[1;33m\u001b[0m\u001b[0m\n\u001b[0m\u001b[0;32m    434\u001b[0m \u001b[1;33m\u001b[0m\u001b[0m\n\u001b[0;32m    435\u001b[0m         \u001b[1;32mif\u001b[0m \u001b[0mensure_2d\u001b[0m\u001b[1;33m:\u001b[0m\u001b[1;33m\u001b[0m\u001b[0m\n",
      "\u001b[1;31mMemoryError\u001b[0m: "
     ]
    }
   ],
   "source": [
    "logit = LogisticRegression()\n",
    "logit.fit(X_train, y_train)\n",
    "logit.score(X_test, y_test)"
   ]
  },
  {
   "cell_type": "code",
   "execution_count": null,
   "metadata": {},
   "outputs": [],
   "source": [
    "rfc.fit(X_train, y_train)\n",
    "rfc.score(X_test, y_test)"
   ]
  },
  {
   "cell_type": "code",
   "execution_count": null,
   "metadata": {},
   "outputs": [],
   "source": []
  }
 ],
 "metadata": {
  "kernelspec": {
   "display_name": "Python 3",
   "language": "python",
   "name": "python3"
  },
  "language_info": {
   "codemirror_mode": {
    "name": "ipython",
    "version": 3
   },
   "file_extension": ".py",
   "mimetype": "text/x-python",
   "name": "python",
   "nbconvert_exporter": "python",
   "pygments_lexer": "ipython3",
   "version": "3.6.4"
  }
 },
 "nbformat": 4,
 "nbformat_minor": 2
}
