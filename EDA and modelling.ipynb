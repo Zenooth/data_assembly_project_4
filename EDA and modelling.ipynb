{
 "cells": [
  {
   "cell_type": "code",
   "execution_count": 1,
   "metadata": {},
   "outputs": [],
   "source": [
    "import numpy as np\n",
    "import pandas as pd\n",
    "import seaborn as sns\n",
    "import matplotlib.pyplot as plt\n",
    "from sklearn.feature_extraction.text import TfidfVectorizer, CountVectorizer, HashingVectorizer, TfidfTransformer\n",
    "from sklearn.model_selection import train_test_split\n",
    "from sklearn.ensemble import RandomForestClassifier\n",
    "from sklearn.linear_model import LogisticRegression, LinearRegression, Lasso, Ridge, ElasticNet, RidgeCV\n",
    "from sklearn.naive_bayes import GaussianNB\n",
    "from sklearn.pipeline import FeatureUnion\n",
    "from sklearn.metrics import r2_score\n"
   ]
  },
  {
   "cell_type": "code",
   "execution_count": 2,
   "metadata": {},
   "outputs": [],
   "source": [
    "df = pd.read_csv('final_df.csv')"
   ]
  },
  {
   "cell_type": "code",
   "execution_count": 3,
   "metadata": {},
   "outputs": [],
   "source": [
    "# dropping the unknown salary figures\n",
    "df = df[df.Salary != 0]"
   ]
  },
  {
   "cell_type": "code",
   "execution_count": 4,
   "metadata": {},
   "outputs": [
    {
     "data": {
      "text/plain": [
       "count     2605.000000\n",
       "mean      5938.203972\n",
       "std       2868.774864\n",
       "min        222.000000\n",
       "25%       4000.000000\n",
       "50%       5500.000000\n",
       "75%       6906.916327\n",
       "max      25000.000000\n",
       "Name: Salary, dtype: float64"
      ]
     },
     "execution_count": 4,
     "metadata": {},
     "output_type": "execute_result"
    }
   ],
   "source": [
    "df.Salary.describe()"
   ]
  },
  {
   "cell_type": "code",
   "execution_count": 5,
   "metadata": {},
   "outputs": [
    {
     "data": {
      "text/html": [
       "<div>\n",
       "<style scoped>\n",
       "    .dataframe tbody tr th:only-of-type {\n",
       "        vertical-align: middle;\n",
       "    }\n",
       "\n",
       "    .dataframe tbody tr th {\n",
       "        vertical-align: top;\n",
       "    }\n",
       "\n",
       "    .dataframe thead th {\n",
       "        text-align: right;\n",
       "    }\n",
       "</style>\n",
       "<table border=\"1\" class=\"dataframe\">\n",
       "  <thead>\n",
       "    <tr style=\"text-align: right;\">\n",
       "      <th></th>\n",
       "      <th>Company</th>\n",
       "      <th>Address</th>\n",
       "      <th>Description</th>\n",
       "      <th>Salary</th>\n",
       "      <th>title_Data Analyst</th>\n",
       "      <th>title_Analyst(others)</th>\n",
       "      <th>title_Business Analyst</th>\n",
       "      <th>title_Data Scientist</th>\n",
       "      <th>title_Reseach Scientist</th>\n",
       "      <th>title_Data(others)</th>\n",
       "      <th>...</th>\n",
       "      <th>seniority_Junior Executive</th>\n",
       "      <th>seniority_Manager</th>\n",
       "      <th>seniority_Entry Level</th>\n",
       "      <th>seniority_Professional</th>\n",
       "      <th>seniority_Executive</th>\n",
       "      <th>seniority_Senior Manager</th>\n",
       "      <th>industry_Human Resources Management/Consulting</th>\n",
       "      <th>industry_Information Technology</th>\n",
       "      <th>industry_Banking and Finance</th>\n",
       "      <th>industry_R&amp;D</th>\n",
       "    </tr>\n",
       "  </thead>\n",
       "  <tbody>\n",
       "    <tr>\n",
       "      <th>326</th>\n",
       "      <td>Smartblock Pte Ltd</td>\n",
       "      <td>Unknown</td>\n",
       "      <td>Unknown</td>\n",
       "      <td>475.0</td>\n",
       "      <td>0</td>\n",
       "      <td>1</td>\n",
       "      <td>0</td>\n",
       "      <td>0</td>\n",
       "      <td>0</td>\n",
       "      <td>0</td>\n",
       "      <td>...</td>\n",
       "      <td>0</td>\n",
       "      <td>0</td>\n",
       "      <td>1</td>\n",
       "      <td>0</td>\n",
       "      <td>0</td>\n",
       "      <td>0</td>\n",
       "      <td>0</td>\n",
       "      <td>1</td>\n",
       "      <td>0</td>\n",
       "      <td>0</td>\n",
       "    </tr>\n",
       "    <tr>\n",
       "      <th>656</th>\n",
       "      <td>Kelly Services S Pte Ltd</td>\n",
       "      <td>Unknown</td>\n",
       "      <td>Unknown</td>\n",
       "      <td>396.0</td>\n",
       "      <td>0</td>\n",
       "      <td>0</td>\n",
       "      <td>1</td>\n",
       "      <td>0</td>\n",
       "      <td>0</td>\n",
       "      <td>0</td>\n",
       "      <td>...</td>\n",
       "      <td>1</td>\n",
       "      <td>0</td>\n",
       "      <td>0</td>\n",
       "      <td>0</td>\n",
       "      <td>0</td>\n",
       "      <td>0</td>\n",
       "      <td>1</td>\n",
       "      <td>0</td>\n",
       "      <td>0</td>\n",
       "      <td>0</td>\n",
       "    </tr>\n",
       "    <tr>\n",
       "      <th>1412</th>\n",
       "      <td>PrimusTech Private Limited</td>\n",
       "      <td>Unknown</td>\n",
       "      <td>Contract, TemporaryDiploma, Bachelor's / Honou...</td>\n",
       "      <td>222.0</td>\n",
       "      <td>0</td>\n",
       "      <td>0</td>\n",
       "      <td>0</td>\n",
       "      <td>0</td>\n",
       "      <td>0</td>\n",
       "      <td>0</td>\n",
       "      <td>...</td>\n",
       "      <td>0</td>\n",
       "      <td>0</td>\n",
       "      <td>0</td>\n",
       "      <td>0</td>\n",
       "      <td>0</td>\n",
       "      <td>0</td>\n",
       "      <td>0</td>\n",
       "      <td>0</td>\n",
       "      <td>0</td>\n",
       "      <td>0</td>\n",
       "    </tr>\n",
       "    <tr>\n",
       "      <th>1554</th>\n",
       "      <td>Borden Company Pte Ltd</td>\n",
       "      <td>Unknown</td>\n",
       "      <td>PermanentBachelor's / Honours, Masters / PhDBr...</td>\n",
       "      <td>228.0</td>\n",
       "      <td>0</td>\n",
       "      <td>0</td>\n",
       "      <td>0</td>\n",
       "      <td>0</td>\n",
       "      <td>0</td>\n",
       "      <td>0</td>\n",
       "      <td>...</td>\n",
       "      <td>0</td>\n",
       "      <td>0</td>\n",
       "      <td>0</td>\n",
       "      <td>0</td>\n",
       "      <td>0</td>\n",
       "      <td>1</td>\n",
       "      <td>0</td>\n",
       "      <td>0</td>\n",
       "      <td>0</td>\n",
       "      <td>0</td>\n",
       "    </tr>\n",
       "    <tr>\n",
       "      <th>3159</th>\n",
       "      <td>GROUP NAUTICAL PTE LIMITED</td>\n",
       "      <td>ECENTRE  REDHILL  JALAN BUKIT MERAH</td>\n",
       "      <td>InternshipRequirementsSkills and Qualification...</td>\n",
       "      <td>400.0</td>\n",
       "      <td>0</td>\n",
       "      <td>0</td>\n",
       "      <td>0</td>\n",
       "      <td>0</td>\n",
       "      <td>0</td>\n",
       "      <td>0</td>\n",
       "      <td>...</td>\n",
       "      <td>0</td>\n",
       "      <td>0</td>\n",
       "      <td>0</td>\n",
       "      <td>0</td>\n",
       "      <td>0</td>\n",
       "      <td>0</td>\n",
       "      <td>0</td>\n",
       "      <td>1</td>\n",
       "      <td>0</td>\n",
       "      <td>0</td>\n",
       "    </tr>\n",
       "  </tbody>\n",
       "</table>\n",
       "<p>5 rows × 30 columns</p>\n",
       "</div>"
      ],
      "text/plain": [
       "                         Company                               Address  \\\n",
       "326           Smartblock Pte Ltd                               Unknown   \n",
       "656     Kelly Services S Pte Ltd                               Unknown   \n",
       "1412  PrimusTech Private Limited                               Unknown   \n",
       "1554      Borden Company Pte Ltd                               Unknown   \n",
       "3159  GROUP NAUTICAL PTE LIMITED  ECENTRE  REDHILL  JALAN BUKIT MERAH    \n",
       "\n",
       "                                            Description  Salary  \\\n",
       "326                                             Unknown   475.0   \n",
       "656                                             Unknown   396.0   \n",
       "1412  Contract, TemporaryDiploma, Bachelor's / Honou...   222.0   \n",
       "1554  PermanentBachelor's / Honours, Masters / PhDBr...   228.0   \n",
       "3159  InternshipRequirementsSkills and Qualification...   400.0   \n",
       "\n",
       "      title_Data Analyst  title_Analyst(others)  title_Business Analyst  \\\n",
       "326                    0                      1                       0   \n",
       "656                    0                      0                       1   \n",
       "1412                   0                      0                       0   \n",
       "1554                   0                      0                       0   \n",
       "3159                   0                      0                       0   \n",
       "\n",
       "      title_Data Scientist  title_Reseach Scientist  title_Data(others)  \\\n",
       "326                      0                        0                   0   \n",
       "656                      0                        0                   0   \n",
       "1412                     0                        0                   0   \n",
       "1554                     0                        0                   0   \n",
       "3159                     0                        0                   0   \n",
       "\n",
       "          ...       seniority_Junior Executive  seniority_Manager  \\\n",
       "326       ...                                0                  0   \n",
       "656       ...                                1                  0   \n",
       "1412      ...                                0                  0   \n",
       "1554      ...                                0                  0   \n",
       "3159      ...                                0                  0   \n",
       "\n",
       "      seniority_Entry Level  seniority_Professional  seniority_Executive  \\\n",
       "326                       1                       0                    0   \n",
       "656                       0                       0                    0   \n",
       "1412                      0                       0                    0   \n",
       "1554                      0                       0                    0   \n",
       "3159                      0                       0                    0   \n",
       "\n",
       "      seniority_Senior Manager  \\\n",
       "326                          0   \n",
       "656                          0   \n",
       "1412                         0   \n",
       "1554                         1   \n",
       "3159                         0   \n",
       "\n",
       "      industry_Human Resources Management/Consulting  \\\n",
       "326                                                0   \n",
       "656                                                1   \n",
       "1412                                               0   \n",
       "1554                                               0   \n",
       "3159                                               0   \n",
       "\n",
       "      industry_Information Technology  industry_Banking and Finance  \\\n",
       "326                                 1                             0   \n",
       "656                                 0                             0   \n",
       "1412                                0                             0   \n",
       "1554                                0                             0   \n",
       "3159                                1                             0   \n",
       "\n",
       "      industry_R&D  \n",
       "326              0  \n",
       "656              0  \n",
       "1412             0  \n",
       "1554             0  \n",
       "3159             0  \n",
       "\n",
       "[5 rows x 30 columns]"
      ]
     },
     "execution_count": 5,
     "metadata": {},
     "output_type": "execute_result"
    }
   ],
   "source": [
    "# which joker put 222 as the salary?\n",
    "df[df.Salary < 500].head()"
   ]
  },
  {
   "cell_type": "code",
   "execution_count": 6,
   "metadata": {},
   "outputs": [],
   "source": [
    "df = df[df.Salary > 1500]\n",
    "df.reset_index(drop=True, inplace=True)"
   ]
  },
  {
   "cell_type": "code",
   "execution_count": 7,
   "metadata": {},
   "outputs": [
    {
     "data": {
      "text/plain": [
       "count     2580.000000\n",
       "mean      5986.463312\n",
       "std       2839.956296\n",
       "min       1550.000000\n",
       "25%       4000.000000\n",
       "50%       5500.000000\n",
       "75%       6906.916327\n",
       "max      25000.000000\n",
       "Name: Salary, dtype: float64"
      ]
     },
     "execution_count": 7,
     "metadata": {},
     "output_type": "execute_result"
    }
   ],
   "source": [
    "df.Salary.describe()"
   ]
  },
  {
   "cell_type": "code",
   "execution_count": 8,
   "metadata": {},
   "outputs": [],
   "source": [
    "df['Salary'] = df.Salary.astype(int)"
   ]
  },
  {
   "cell_type": "code",
   "execution_count": 9,
   "metadata": {},
   "outputs": [
    {
     "data": {
      "text/plain": [
       "Company                                            object\n",
       "Address                                            object\n",
       "Description                                        object\n",
       "Salary                                              int32\n",
       "title_Data Analyst                                  int64\n",
       "title_Analyst(others)                               int64\n",
       "title_Business Analyst                              int64\n",
       "title_Data Scientist                                int64\n",
       "title_Reseach Scientist                             int64\n",
       "title_Data(others)                                  int64\n",
       "title_Business(others)                              int64\n",
       "title_Data Engineer                                 int64\n",
       "location_Across                                     int64\n",
       "location_Central                                    int64\n",
       "location_West                                       int64\n",
       "location_East                                       int64\n",
       "location_North                                      int64\n",
       "location_Overseas                                   int64\n",
       "Min Years                                         float64\n",
       "seniority_Senior Executive                          int64\n",
       "seniority_Junior Executive                          int64\n",
       "seniority_Manager                                   int64\n",
       "seniority_Entry Level                               int64\n",
       "seniority_Professional                              int64\n",
       "seniority_Executive                                 int64\n",
       "seniority_Senior Manager                            int64\n",
       "industry_Human Resources Management/Consulting      int64\n",
       "industry_Information Technology                     int64\n",
       "industry_Banking and Finance                        int64\n",
       "industry_R&D                                        int64\n",
       "dtype: object"
      ]
     },
     "execution_count": 9,
     "metadata": {},
     "output_type": "execute_result"
    }
   ],
   "source": [
    "df.dtypes"
   ]
  },
  {
   "cell_type": "code",
   "execution_count": 10,
   "metadata": {},
   "outputs": [
    {
     "data": {
      "text/plain": [
       "<matplotlib.axes._subplots.AxesSubplot at 0x16722a6dc18>"
      ]
     },
     "execution_count": 10,
     "metadata": {},
     "output_type": "execute_result"
    },
    {
     "data": {
      "image/png": "[encoded data removed]",
      "text/plain": [
       "<matplotlib.figure.Figure at 0x16722a19f60>"
      ]
     },
     "metadata": {},
     "output_type": "display_data"
    }
   ],
   "source": [
    "sns.regplot(df['Min Years'], df.Salary)"
   ]
  },
  {
   "cell_type": "markdown",
   "metadata": {},
   "source": [
    "Train test split"
   ]
  },
  {
   "cell_type": "code",
   "execution_count": 11,
   "metadata": {},
   "outputs": [],
   "source": [
    "X_train, X_test, y_train, y_test = train_test_split(df.drop('Salary', axis=1), df.Salary, test_size=0.2, random_state=322)"
   ]
  },
  {
   "cell_type": "code",
   "execution_count": 12,
   "metadata": {},
   "outputs": [],
   "source": [
    "def scorer(nlp, method, column):\n",
    "    nlp.fit(X_train[column], y_train)\n",
    "    method.fit(nlp.transform(X_train[column]), y_train)\n",
    "    print('The mean salary prediction error is {}'.format(int(abs(method.predict(nlp.transform(X_test[column])) - y_test).mean())))\n",
    "    print('The score is {:.4f}'.format(method.score(nlp.transform(X_test[column]), y_test)))"
   ]
  },
  {
   "cell_type": "code",
   "execution_count": 13,
   "metadata": {},
   "outputs": [],
   "source": [
    "nlps = [(HashingVectorizer(ngram_range=(1,2)), 'Hashing Vectorizer'), \n",
    "        (TfidfVectorizer(ngram_range=(1,2)), 'Tfidf Vectorizer'), \n",
    "        (CountVectorizer(ngram_range=(1,2)), 'Count Vectorizer')]"
   ]
  },
  {
   "cell_type": "code",
   "execution_count": 14,
   "metadata": {},
   "outputs": [],
   "source": [
    "methods = [(LinearRegression(), 'Linear Regression'),\n",
    "           (Lasso(), 'Lasso'), \n",
    "           (Ridge(), 'Ridge'),]"
   ]
  },
  {
   "cell_type": "markdown",
   "metadata": {},
   "source": [
    "A quick look at several vectorizing methods and how well the individual text columns predict salary based on different regression models"
   ]
  },
  {
   "cell_type": "code",
   "execution_count": 15,
   "metadata": {
    "scrolled": true
   },
   "outputs": [
    {
     "name": "stdout",
     "output_type": "stream",
     "text": [
      "For Hashing Vectorizer, Linear Regression,\n",
      "The mean salary prediction error is 1756\n",
      "The score is 0.2497\n",
      "--------------------\n",
      "For Hashing Vectorizer, Lasso,\n",
      "The mean salary prediction error is 1750\n",
      "The score is 0.3030\n",
      "--------------------\n",
      "For Hashing Vectorizer, Ridge,\n",
      "The mean salary prediction error is 1741\n",
      "The score is 0.3071\n",
      "--------------------\n",
      "For Tfidf Vectorizer, Linear Regression,\n",
      "The mean salary prediction error is 1799\n",
      "The score is 0.2191\n",
      "--------------------\n",
      "For Tfidf Vectorizer, Lasso,\n",
      "The mean salary prediction error is 1788\n",
      "The score is 0.2781\n",
      "--------------------\n",
      "For Tfidf Vectorizer, Ridge,\n",
      "The mean salary prediction error is 1797\n",
      "The score is 0.2617\n",
      "--------------------\n",
      "For Count Vectorizer, Linear Regression,\n",
      "The mean salary prediction error is 1760\n",
      "The score is 0.2485\n",
      "--------------------\n",
      "For Count Vectorizer, Lasso,\n",
      "The mean salary prediction error is 1728\n",
      "The score is 0.3009\n",
      "--------------------\n",
      "For Count Vectorizer, Ridge,\n",
      "The mean salary prediction error is 1732\n",
      "The score is 0.2907\n",
      "--------------------\n"
     ]
    }
   ],
   "source": [
    "for nlp in nlps:\n",
    "    for method in methods:\n",
    "        print('For '+ nlp[1] + ', ' + method[1] + ',')\n",
    "        try:\n",
    "            scorer(nlp[0], method[0], 'Company')\n",
    "        except:\n",
    "            print('error error')\n",
    "        print('-'*20)"
   ]
  },
  {
   "cell_type": "code",
   "execution_count": 16,
   "metadata": {},
   "outputs": [
    {
     "name": "stdout",
     "output_type": "stream",
     "text": [
      "For Hashing Vectorizer, Linear Regression,\n",
      "The mean salary prediction error is 1964\n",
      "The score is 0.0891\n",
      "--------------------\n",
      "For Hashing Vectorizer, Lasso,\n",
      "The mean salary prediction error is 1907\n",
      "The score is 0.1614\n",
      "--------------------\n",
      "For Hashing Vectorizer, Ridge,\n",
      "The mean salary prediction error is 1898\n",
      "The score is 0.1857\n",
      "--------------------\n",
      "For Tfidf Vectorizer, Linear Regression,\n",
      "The mean salary prediction error is 1980\n",
      "The score is 0.0759\n",
      "--------------------\n",
      "For Tfidf Vectorizer, Lasso,\n",
      "The mean salary prediction error is 1935\n",
      "The score is 0.1412\n",
      "--------------------\n",
      "For Tfidf Vectorizer, Ridge,\n",
      "The mean salary prediction error is 1909\n",
      "The score is 0.1740\n",
      "--------------------\n",
      "For Count Vectorizer, Linear Regression,\n",
      "The mean salary prediction error is 1973\n",
      "The score is 0.0696\n",
      "--------------------\n",
      "For Count Vectorizer, Lasso,\n",
      "The mean salary prediction error is 1896\n",
      "The score is 0.1640\n",
      "--------------------\n",
      "For Count Vectorizer, Ridge,\n",
      "The mean salary prediction error is 1901\n",
      "The score is 0.1537\n",
      "--------------------\n"
     ]
    }
   ],
   "source": [
    "for nlp in nlps:\n",
    "    for method in methods:\n",
    "        print('For '+ nlp[1] + ', ' + method[1] + ',')\n",
    "        try:\n",
    "            scorer(nlp[0], method[0], 'Address')\n",
    "        except:\n",
    "            print('error error')\n",
    "        print('-'*20)"
   ]
  },
  {
   "cell_type": "code",
   "execution_count": 17,
   "metadata": {
    "scrolled": true
   },
   "outputs": [
    {
     "name": "stdout",
     "output_type": "stream",
     "text": [
      "For Hashing Vectorizer, Linear Regression,\n",
      "The mean salary prediction error is 2051\n",
      "The score is -0.0128\n",
      "--------------------\n",
      "For Hashing Vectorizer, Lasso,\n",
      "The mean salary prediction error is 1741\n",
      "The score is 0.3507\n",
      "--------------------\n",
      "For Hashing Vectorizer, Ridge,\n",
      "The mean salary prediction error is 1664\n",
      "The score is 0.4012\n",
      "--------------------\n",
      "For Tfidf Vectorizer, Linear Regression,\n",
      "The mean salary prediction error is 1836\n",
      "The score is 0.2044\n",
      "--------------------\n",
      "For Tfidf Vectorizer, Lasso,\n",
      "The mean salary prediction error is 1710\n",
      "The score is 0.3825\n",
      "--------------------\n",
      "For Tfidf Vectorizer, Ridge,\n",
      "The mean salary prediction error is 1615\n",
      "The score is 0.4485\n",
      "--------------------\n",
      "For Count Vectorizer, Linear Regression,\n",
      "The mean salary prediction error is 1989\n",
      "The score is -0.0009\n",
      "--------------------\n",
      "For Count Vectorizer, Lasso,\n"
     ]
    },
    {
     "name": "stderr",
     "output_type": "stream",
     "text": [
      "C:\\Users\\User\\Anaconda3\\lib\\site-packages\\sklearn\\linear_model\\coordinate_descent.py:491: ConvergenceWarning: Objective did not converge. You might want to increase the number of iterations. Fitting data with very small alpha may cause precision problems.\n",
      "  ConvergenceWarning)\n"
     ]
    },
    {
     "name": "stdout",
     "output_type": "stream",
     "text": [
      "The mean salary prediction error is 1999\n",
      "The score is 0.0255\n",
      "--------------------\n",
      "For Count Vectorizer, Ridge,\n",
      "The mean salary prediction error is 1611\n",
      "The score is 0.4072\n",
      "--------------------\n"
     ]
    }
   ],
   "source": [
    "# holy shit this one takes years to run\n",
    "for nlp in nlps:\n",
    "    for method in methods:\n",
    "        print('For '+ nlp[1] + ', ' + method[1] + ',')\n",
    "        try:\n",
    "            scorer(nlp[0], method[0], 'Description')\n",
    "        except:\n",
    "            print('error error')\n",
    "        print('-'*20)"
   ]
  },
  {
   "cell_type": "markdown",
   "metadata": {},
   "source": [
    "The general takeaway seems to be that regardless of vectorizing method, Ridge consistently outperforms the other regression models. That said, for both the 'Company' and 'Address' columns, Hashing Vectorizer scores the highest on average, while Tfidf performs the best for the 'Description' column. However, as the feature names cannot be gotten from the hashing vectorizer, Count Vectorizer will be used instead."
   ]
  },
  {
   "cell_type": "code",
   "execution_count": 18,
   "metadata": {},
   "outputs": [],
   "source": [
    "cv = CountVectorizer(ngram_range=(1,2))\n",
    "tfid = TfidfVectorizer(ngram_range=(1,2), min_df=5)"
   ]
  },
  {
   "cell_type": "code",
   "execution_count": 19,
   "metadata": {},
   "outputs": [],
   "source": [
    "X_test.reset_index(inplace=True, drop=True)\n",
    "X_train.reset_index(inplace=True, drop=True)"
   ]
  },
  {
   "cell_type": "code",
   "execution_count": 20,
   "metadata": {},
   "outputs": [
    {
     "data": {
      "text/plain": [
       "CountVectorizer(analyzer='word', binary=False, decode_error='strict',\n",
       "        dtype=<class 'numpy.int64'>, encoding='utf-8', input='content',\n",
       "        lowercase=True, max_df=1.0, max_features=None, min_df=1,\n",
       "        ngram_range=(1, 2), preprocessor=None, stop_words=None,\n",
       "        strip_accents=None, token_pattern='(?u)\\\\b\\\\w\\\\w+\\\\b',\n",
       "        tokenizer=None, vocabulary=None)"
      ]
     },
     "execution_count": 20,
     "metadata": {},
     "output_type": "execute_result"
    }
   ],
   "source": [
    "cv.fit(X_train.Company)"
   ]
  },
  {
   "cell_type": "code",
   "execution_count": 21,
   "metadata": {},
   "outputs": [],
   "source": [
    "X_test = pd.concat([X_test, pd.DataFrame(cv.transform(X_test.Company).todense(), columns=['company_'+name for name in cv.get_feature_names()])], axis=1)\n",
    "X_train = pd.concat([X_train, pd.DataFrame(cv.transform(X_train.Company).todense(), columns=['company_'+name for name in cv.get_feature_names()])], axis=1)"
   ]
  },
  {
   "cell_type": "code",
   "execution_count": 22,
   "metadata": {},
   "outputs": [],
   "source": [
    "X_test.drop('Company', axis=1, inplace=True)\n",
    "X_train.drop('Company', axis=1, inplace=True)"
   ]
  },
  {
   "cell_type": "code",
   "execution_count": 23,
   "metadata": {},
   "outputs": [
    {
     "data": {
      "text/plain": [
       "CountVectorizer(analyzer='word', binary=False, decode_error='strict',\n",
       "        dtype=<class 'numpy.int64'>, encoding='utf-8', input='content',\n",
       "        lowercase=True, max_df=1.0, max_features=None, min_df=1,\n",
       "        ngram_range=(1, 2), preprocessor=None, stop_words=None,\n",
       "        strip_accents=None, token_pattern='(?u)\\\\b\\\\w\\\\w+\\\\b',\n",
       "        tokenizer=None, vocabulary=None)"
      ]
     },
     "execution_count": 23,
     "metadata": {},
     "output_type": "execute_result"
    }
   ],
   "source": [
    "cv.fit(X_train.Address)"
   ]
  },
  {
   "cell_type": "code",
   "execution_count": 24,
   "metadata": {},
   "outputs": [],
   "source": [
    "X_test = pd.concat([X_test, pd.DataFrame(cv.transform(X_test.Address).todense(), columns=['address_'+name for name in cv.get_feature_names()])], axis=1)\n",
    "X_train = pd.concat([X_train, pd.DataFrame(cv.transform(X_train.Address).todense(), columns=['address_'+name for name in cv.get_feature_names()])], axis=1)"
   ]
  },
  {
   "cell_type": "code",
   "execution_count": 25,
   "metadata": {},
   "outputs": [],
   "source": [
    "X_test.drop('Address', axis=1, inplace=True)\n",
    "X_train.drop('Address', axis=1, inplace=True)"
   ]
  },
  {
   "cell_type": "code",
   "execution_count": 26,
   "metadata": {
    "scrolled": true
   },
   "outputs": [
    {
     "data": {
      "text/plain": [
       "TfidfVectorizer(analyzer='word', binary=False, decode_error='strict',\n",
       "        dtype=<class 'numpy.int64'>, encoding='utf-8', input='content',\n",
       "        lowercase=True, max_df=1.0, max_features=None, min_df=5,\n",
       "        ngram_range=(1, 2), norm='l2', preprocessor=None, smooth_idf=True,\n",
       "        stop_words=None, strip_accents=None, sublinear_tf=False,\n",
       "        token_pattern='(?u)\\\\b\\\\w\\\\w+\\\\b', tokenizer=None, use_idf=True,\n",
       "        vocabulary=None)"
      ]
     },
     "execution_count": 26,
     "metadata": {},
     "output_type": "execute_result"
    }
   ],
   "source": [
    "tfid.fit(X_train.Description)"
   ]
  },
  {
   "cell_type": "code",
   "execution_count": 27,
   "metadata": {},
   "outputs": [],
   "source": [
    "X_test = pd.concat([X_test, pd.DataFrame(tfid.transform(X_test.Description).todense(), columns=['description_'+name for name in tfid.get_feature_names()])], axis=1)\n",
    "X_train = pd.concat([X_train, pd.DataFrame(tfid.transform(X_train.Description).todense(), columns=['description_'+name for name in tfid.get_feature_names()])], axis=1)"
   ]
  },
  {
   "cell_type": "code",
   "execution_count": 28,
   "metadata": {},
   "outputs": [],
   "source": [
    "X_test.drop('Description', axis=1, inplace=True)\n",
    "X_train.drop('Description', axis=1, inplace=True)"
   ]
  },
  {
   "cell_type": "code",
   "execution_count": 29,
   "metadata": {},
   "outputs": [
    {
     "data": {
      "text/plain": [
       "(2064, 22752)"
      ]
     },
     "execution_count": 29,
     "metadata": {},
     "output_type": "execute_result"
    }
   ],
   "source": [
    "X_train.shape"
   ]
  },
  {
   "cell_type": "code",
   "execution_count": 30,
   "metadata": {},
   "outputs": [
    {
     "data": {
      "text/plain": [
       "0.5210170572256003"
      ]
     },
     "execution_count": 30,
     "metadata": {},
     "output_type": "execute_result"
    }
   ],
   "source": [
    "ridge = Ridge()\n",
    "ridge.fit(X_train, y_train)\n",
    "ridge.score(X_test, y_test)"
   ]
  },
  {
   "cell_type": "code",
   "execution_count": 31,
   "metadata": {},
   "outputs": [
    {
     "name": "stdout",
     "output_type": "stream",
     "text": [
      "The mean salary prediction error is 1410.47 dollars.\n"
     ]
    }
   ],
   "source": [
    "print('The mean salary prediction error is {:.2f} dollars.'.format(abs(ridge.predict(X_test) - y_test).mean()))"
   ]
  },
  {
   "cell_type": "code",
   "execution_count": 32,
   "metadata": {},
   "outputs": [
    {
     "data": {
      "text/plain": [
       "0.16279069767441862"
      ]
     },
     "execution_count": 32,
     "metadata": {},
     "output_type": "execute_result"
    }
   ],
   "source": [
    "rfc = RandomForestClassifier()\n",
    "rfc.fit(X_train, y_train)\n",
    "rfc.score(X_test, y_test)"
   ]
  },
  {
   "cell_type": "code",
   "execution_count": 33,
   "metadata": {},
   "outputs": [
    {
     "name": "stdout",
     "output_type": "stream",
     "text": [
      "The mean salary prediction error is 1901.34 dollars.\n"
     ]
    }
   ],
   "source": [
    "print('The mean salary prediction error is {:.2f} dollars.'.format(abs(rfc.predict(X_test) - y_test).mean()))"
   ]
  },
  {
   "cell_type": "markdown",
   "metadata": {},
   "source": [
    "As can be seen from above, random forest classifier does a poor job of predicting the salary from the data compared to ridge regression."
   ]
  },
  {
   "cell_type": "code",
   "execution_count": 34,
   "metadata": {},
   "outputs": [
    {
     "data": {
      "text/plain": [
       "Index(['Company', 'Address', 'Description', 'Salary', 'title_Data Analyst',\n",
       "       'title_Analyst(others)', 'title_Business Analyst',\n",
       "       'title_Data Scientist', 'title_Reseach Scientist', 'title_Data(others)',\n",
       "       'title_Business(others)', 'title_Data Engineer', 'location_Across',\n",
       "       'location_Central', 'location_West', 'location_East', 'location_North',\n",
       "       'location_Overseas', 'Min Years', 'seniority_Senior Executive',\n",
       "       'seniority_Junior Executive', 'seniority_Manager',\n",
       "       'seniority_Entry Level', 'seniority_Professional',\n",
       "       'seniority_Executive', 'seniority_Senior Manager',\n",
       "       'industry_Human Resources Management/Consulting',\n",
       "       'industry_Information Technology', 'industry_Banking and Finance',\n",
       "       'industry_R&D'],\n",
       "      dtype='object')"
      ]
     },
     "execution_count": 34,
     "metadata": {},
     "output_type": "execute_result"
    }
   ],
   "source": [
    "df.columns"
   ]
  },
  {
   "cell_type": "code",
   "execution_count": 35,
   "metadata": {},
   "outputs": [],
   "source": [
    "coefs = sorted(list(zip(ridge.coef_, X_test.columns)), reverse=True)"
   ]
  },
  {
   "cell_type": "markdown",
   "metadata": {},
   "source": [
    "From here we can see that company names that have 'novartis', 'macdonald', 'billigence', 'marall' and 'lego' in it are the highest paying companies."
   ]
  },
  {
   "cell_type": "code",
   "execution_count": 36,
   "metadata": {},
   "outputs": [
    {
     "data": {
      "text/plain": [
       "[(3056.4346772799363, 'company_novartis singapore'),\n",
       " (3056.4346772799363, 'company_novartis'),\n",
       " (1992.3175441358082, 'company_macdonald and'),\n",
       " (1992.3175441358082, 'company_macdonald'),\n",
       " (1992.3175441358082, 'company_and company'),\n",
       " (1869.8043662497787, 'company_billigence'),\n",
       " (1737.3330632651214, 'company_marall services'),\n",
       " (1737.3330632651214, 'company_marall'),\n",
       " (1611.7605472707617, 'company_lego singapore'),\n",
       " (1611.7605472707617, 'company_lego')]"
      ]
     },
     "execution_count": 36,
     "metadata": {},
     "output_type": "execute_result"
    }
   ],
   "source": [
    "[(i,j) for i,j in coefs if 'company' in j][:10]"
   ]
  },
  {
   "cell_type": "markdown",
   "metadata": {},
   "source": [
    "On the other hand, companies with the words 'ascent', 'cloak', 'zendesk', 'power' and 'trakomatic' are likely to pay less."
   ]
  },
  {
   "cell_type": "code",
   "execution_count": 37,
   "metadata": {},
   "outputs": [
    {
     "data": {
      "text/plain": [
       "[(-1018.0200240004194, 'company_ascent'),\n",
       " (-1018.0200240004194, 'company_ascent asia'),\n",
       " (-1018.0200240004194, 'company_pulley'),\n",
       " (-1018.0200240004194, 'company_pulley ascent'),\n",
       " (-954.159989343352, 'company_cloak'),\n",
       " (-954.159989343352, 'company_cloak pte'),\n",
       " (-940.2367724532891, 'company_zendesk'),\n",
       " (-940.2367724532891, 'company_zendesk singapore'),\n",
       " (-931.5752381462089, 'company_power'),\n",
       " (-864.8328610494094, 'company_trakomatic'),\n",
       " (-864.8328610494094, 'company_trakomatic pte')]"
      ]
     },
     "execution_count": 37,
     "metadata": {},
     "output_type": "execute_result"
    }
   ],
   "source": [
    "[(i,j) for i,j in coefs if 'company' in j][:-12:-1]"
   ]
  },
  {
   "cell_type": "markdown",
   "metadata": {},
   "source": [
    "Likewise for address"
   ]
  },
  {
   "cell_type": "code",
   "execution_count": 38,
   "metadata": {},
   "outputs": [
    {
     "data": {
      "text/plain": [
       "[(1595.3420388963318, 'address_square north'),\n",
       " (1595.3420388963318, 'address_parkview square'),\n",
       " (1595.3420388963318, 'address_parkview'),\n",
       " (1454.745522783558, 'address_malaysia kl'),\n",
       " (1454.745522783558, 'address_kl'),\n",
       " (1310.454295586454, 'address_malaysia'),\n",
       " (1170.1933844999512, 'address_two'),\n",
       " (1170.1933844999512, 'address_tower two'),\n",
       " (1165.2501950423407, 'address_comcentre exeter'),\n",
       " (1122.4401360803292, 'address_exeter road')]"
      ]
     },
     "execution_count": 38,
     "metadata": {},
     "output_type": "execute_result"
    }
   ],
   "source": [
    "[(i,j) for i,j in coefs if 'address' in j][:10]"
   ]
  },
  {
   "cell_type": "code",
   "execution_count": 39,
   "metadata": {},
   "outputs": [
    {
     "data": {
      "text/plain": [
       "[(-1272.8706465525738, 'address_centre eunos'),\n",
       " (-1257.9597875540617, 'address_street singapore'),\n",
       " (-789.0102858596272, 'address_industrial'),\n",
       " (-787.3868463393494, 'address_quay ocean'),\n",
       " (-736.6824418952039, 'address_place singapore'),\n",
       " (-703.0656461974577, 'address_four temasek'),\n",
       " (-688.1570076281262, 'address_one harbourfront'),\n",
       " (-623.3400370841141, 'address_octagon the'),\n",
       " (-623.3400370841141, 'address_the cecil')]"
      ]
     },
     "execution_count": 39,
     "metadata": {},
     "output_type": "execute_result"
    }
   ],
   "source": [
    "[(i,j) for i,j in coefs if 'address_' in j][:-10:-1]"
   ]
  },
  {
   "cell_type": "markdown",
   "metadata": {},
   "source": [
    "Description"
   ]
  },
  {
   "cell_type": "code",
   "execution_count": 40,
   "metadata": {},
   "outputs": [
    {
     "data": {
      "text/plain": [
       "[(2014.3410928904343, 'description_trading'),\n",
       " (1925.410702310025, 'description_india'),\n",
       " (1836.143810089632, 'description_across'),\n",
       " (1683.2726268059628, 'description_strategy'),\n",
       " (1654.5923220469556, 'description_integration'),\n",
       " (1565.2964857182817, 'description_banking'),\n",
       " (1559.4319585982282, 'description_power'),\n",
       " (1525.3253689314356, 'description_engagements'),\n",
       " (1476.889930147725, 'description_digital'),\n",
       " (1431.126114983525, 'description_lead')]"
      ]
     },
     "execution_count": 40,
     "metadata": {},
     "output_type": "execute_result"
    }
   ],
   "source": [
    "[(i,j) for i,j in coefs if 'description_' in j][:10]"
   ]
  },
  {
   "cell_type": "markdown",
   "metadata": {},
   "source": [
    "Title"
   ]
  },
  {
   "cell_type": "code",
   "execution_count": 41,
   "metadata": {},
   "outputs": [
    {
     "data": {
      "text/plain": [
       "[(489.7950873178197, 'title_Data Scientist'),\n",
       " (-46.406222262347455, 'title_Reseach Scientist'),\n",
       " (-283.199403140361, 'title_Business Analyst'),\n",
       " (-288.4182772403474, 'title_Data(others)'),\n",
       " (-406.54162611650963, 'title_Analyst(others)'),\n",
       " (-477.05193889405837, 'title_Business(others)'),\n",
       " (-536.4921517676657, 'title_Data Analyst'),\n",
       " (-943.4706781196105, 'title_Data Engineer')]"
      ]
     },
     "execution_count": 41,
     "metadata": {},
     "output_type": "execute_result"
    }
   ],
   "source": [
    "[(i,j) for i,j in coefs if 'title_' in j][:10]"
   ]
  },
  {
   "cell_type": "markdown",
   "metadata": {},
   "source": [
    "Location"
   ]
  },
  {
   "cell_type": "code",
   "execution_count": 42,
   "metadata": {},
   "outputs": [
    {
     "data": {
      "text/plain": [
       "[(328.9624543450375, 'location_North'),\n",
       " (166.99091926197798, 'location_Across'),\n",
       " (101.70655770972235, 'location_East'),\n",
       " (34.17442868144508, 'location_West'),\n",
       " (-85.76452403453641, 'location_Central'),\n",
       " (-1034.5880066725479, 'location_Overseas')]"
      ]
     },
     "execution_count": 42,
     "metadata": {},
     "output_type": "execute_result"
    }
   ],
   "source": [
    "[(i,j) for i,j in coefs if 'location_' in j][:10]"
   ]
  },
  {
   "cell_type": "markdown",
   "metadata": {},
   "source": [
    "Seniority"
   ]
  },
  {
   "cell_type": "code",
   "execution_count": 43,
   "metadata": {},
   "outputs": [
    {
     "data": {
      "text/plain": [
       "[(2390.294879153078, 'seniority_Senior Manager'),\n",
       " (1381.2466405631822, 'seniority_Manager'),\n",
       " (1018.7158034697004, 'seniority_Professional'),\n",
       " (371.03753027667517, 'seniority_Senior Executive'),\n",
       " (-588.5244881946774, 'seniority_Executive'),\n",
       " (-679.8133285493382, 'seniority_Junior Executive'),\n",
       " (-1183.0016292407854, 'seniority_Entry Level')]"
      ]
     },
     "execution_count": 43,
     "metadata": {},
     "output_type": "execute_result"
    }
   ],
   "source": [
    "[(i,j) for i,j in coefs if 'seniority_' in j][:10]"
   ]
  },
  {
   "cell_type": "markdown",
   "metadata": {},
   "source": [
    "Industry"
   ]
  },
  {
   "cell_type": "code",
   "execution_count": 44,
   "metadata": {},
   "outputs": [
    {
     "data": {
      "text/plain": [
       "[(602.5669375734979, 'industry_Banking and Finance'),\n",
       " (503.34916551437254, 'industry_Information Technology'),\n",
       " (359.5772587832471, 'industry_Human Resources Management/Consulting'),\n",
       " (254.81243094445335, 'industry_R&D')]"
      ]
     },
     "execution_count": 44,
     "metadata": {},
     "output_type": "execute_result"
    }
   ],
   "source": [
    "[(i,j) for i,j in coefs if 'industry_' in j][:10]"
   ]
  },
  {
   "cell_type": "markdown",
   "metadata": {},
   "source": [
    "Moving on to attempting to predict job title using the other categories:"
   ]
  },
  {
   "cell_type": "code",
   "execution_count": 45,
   "metadata": {},
   "outputs": [
    {
     "data": {
      "text/plain": [
       "Index(['Company', 'Address', 'Description', 'Salary', 'title_Data Analyst',\n",
       "       'title_Analyst(others)', 'title_Business Analyst',\n",
       "       'title_Data Scientist', 'title_Reseach Scientist', 'title_Data(others)',\n",
       "       'title_Business(others)', 'title_Data Engineer', 'location_Across',\n",
       "       'location_Central', 'location_West', 'location_East', 'location_North',\n",
       "       'location_Overseas', 'Min Years', 'seniority_Senior Executive',\n",
       "       'seniority_Junior Executive', 'seniority_Manager',\n",
       "       'seniority_Entry Level', 'seniority_Professional',\n",
       "       'seniority_Executive', 'seniority_Senior Manager',\n",
       "       'industry_Human Resources Management/Consulting',\n",
       "       'industry_Information Technology', 'industry_Banking and Finance',\n",
       "       'industry_R&D'],\n",
       "      dtype='object')"
      ]
     },
     "execution_count": 45,
     "metadata": {},
     "output_type": "execute_result"
    }
   ],
   "source": [
    "df.columns"
   ]
  },
  {
   "cell_type": "code",
   "execution_count": 46,
   "metadata": {},
   "outputs": [],
   "source": [
    "def dedummy(df):\n",
    "    roles = [column.replace('title_', '') for column in df.columns if 'title_' in column]\n",
    "    titles = df[[column for column in df.columns if 'title_' in column]]\n",
    "    temp = []\n",
    "    for k in range(len(titles)):\n",
    "        if titles.loc[k].sum() == 0:\n",
    "            temp.append('Unknown')\n",
    "        else:\n",
    "            temp.append([j for i,j in zip(titles.loc[k], roles) if i == 1][0])\n",
    "    df['Title'] = temp\n",
    "    \n",
    "    for column in df.columns:\n",
    "        if 'title_' in column:\n",
    "            df.drop(column, axis=1, inplace=True)"
   ]
  },
  {
   "cell_type": "code",
   "execution_count": 47,
   "metadata": {},
   "outputs": [],
   "source": [
    "dedummy(X_train)\n",
    "dedummy(X_test)"
   ]
  },
  {
   "cell_type": "code",
   "execution_count": 48,
   "metadata": {},
   "outputs": [],
   "source": [
    "y_train = X_train.Title\n",
    "y_test = X_test.Title"
   ]
  },
  {
   "cell_type": "code",
   "execution_count": 49,
   "metadata": {},
   "outputs": [],
   "source": [
    "X_train = X_train.drop('Title', axis=1)\n",
    "X_test = X_test.drop('Title', axis=1)"
   ]
  },
  {
   "cell_type": "code",
   "execution_count": 50,
   "metadata": {},
   "outputs": [
    {
     "data": {
      "text/plain": [
       "0.563953488372093"
      ]
     },
     "execution_count": 50,
     "metadata": {},
     "output_type": "execute_result"
    }
   ],
   "source": [
    "logit = LogisticRegression()\n",
    "logit.fit(X_train.to_sparse(), y_train)\n",
    "logit.score(X_test, y_test)"
   ]
  },
  {
   "cell_type": "code",
   "execution_count": 51,
   "metadata": {},
   "outputs": [
    {
     "data": {
      "text/plain": [
       "Unknown              941\n",
       "Business Analyst     389\n",
       "Analyst(others)      244\n",
       "Data Analyst         156\n",
       "Data Scientist       110\n",
       "Business(others)      85\n",
       "Data(others)          72\n",
       "Data Engineer         58\n",
       "Reseach Scientist      9\n",
       "Name: Title, dtype: int64"
      ]
     },
     "execution_count": 51,
     "metadata": {},
     "output_type": "execute_result"
    }
   ],
   "source": [
    "y_train.value_counts()"
   ]
  },
  {
   "cell_type": "code",
   "execution_count": 52,
   "metadata": {},
   "outputs": [
    {
     "data": {
      "text/plain": [
       "0.627906976744186"
      ]
     },
     "execution_count": 52,
     "metadata": {},
     "output_type": "execute_result"
    }
   ],
   "source": [
    "rfc.fit(X_train.to_sparse(), y_train)\n",
    "rfc.score(X_test, y_test)"
   ]
  },
  {
   "cell_type": "code",
   "execution_count": 53,
   "metadata": {},
   "outputs": [],
   "source": [
    "logit_coef = list(zip(logit.classes_, logit.coef_))"
   ]
  },
  {
   "cell_type": "code",
   "execution_count": 54,
   "metadata": {},
   "outputs": [
    {
     "name": "stdout",
     "output_type": "stream",
     "text": [
      "Analyst(others)\n",
      "[(1.1564912821871474, 'location_North'), (1.0094123409426716, 'company_logistics'), (0.9845679839067102, 'company_bw'), (0.8851825224148218, 'company_aryan search'), (0.8851825224148218, 'company_aryan'), (0.865056760524203, 'company_globesoft'), (0.8344452291837253, 'description_finance'), (0.8087934482400587, 'company_johnson'), (0.7661683596514468, 'address_office tower'), (0.7517773076290258, 'industry_Human Resources Management/Consulting')]\n",
      "----------------------------------------------------------------------------------------------------\n",
      "Business Analyst\n",
      "[(2.4086777625061067, 'description_business'), (1.5722370953406966, 'description_requirements'), (1.361121244696315, 'description_project'), (1.140266389743101, 'description_functional'), (1.1163686513238467, 'description_business analyst'), (1.0466451066910771, 'description_user'), (0.9542788829190403, 'industry_Banking and Finance'), (0.9487667338653153, 'description_analyst'), (0.929002892866074, 'company_myrepublic'), (0.9271934193438083, 'description_users')]\n",
      "----------------------------------------------------------------------------------------------------\n",
      "Business(others)\n",
      "[(1.2993832594414734, 'company_unknown'), (0.8962327685730783, 'address_road singapore'), (0.8725783178666492, 'description_business'), (0.8707371384267082, 'address_way tower'), (0.7345543189924582, 'company_aquis search'), (0.7345543189924582, 'company_aquis'), (0.7267283339753041, 'address_orchard road'), (0.7058287987549124, 'company_quinnox solutions'), (0.7058287987549124, 'company_quinnox'), (0.6985864868060698, 'address_pemimpin')]\n",
      "----------------------------------------------------------------------------------------------------\n",
      "Data Analyst\n",
      "[(2.9561875307363827, 'description_data'), (0.8329141023894941, 'company_edge asia'), (0.8329141023894941, 'company_career edge'), (0.8214422727824646, 'company_edge'), (0.8115786895552644, 'company_snaphunt pte'), (0.8115786895552644, 'company_snaphunt'), (0.7926573416095904, 'industry_Banking and Finance'), (0.7830581634973587, 'company_global pte'), (0.7811087149249673, 'industry_Human Resources Management/Consulting'), (0.7548263112454687, 'company_foresense pte')]\n",
      "----------------------------------------------------------------------------------------------------\n",
      "Data Engineer\n",
      "[(2.2945623757959512, 'description_data'), (1.1361568486800633, 'description_and'), (1.1077420998418837, 'company_stafflink services'), (1.1077420998418837, 'company_stafflink'), (0.748525483589019, 'company_ltd'), (0.7288419750141826, 'industry_Information Technology'), (0.6929242441028871, 'company_yara asia'), (0.6929242441028871, 'company_yara'), (0.6422991859027217, 'company_dbs bank'), (0.6422991859027217, 'company_dbs')]\n",
      "----------------------------------------------------------------------------------------------------\n",
      "Data Scientist\n",
      "[(2.299231266311362, 'description_data'), (1.37677972259168, 'description_learning'), (1.1858478928475564, 'description_machine'), (1.1835810141576613, 'company_reeracoen singapore'), (1.1835810141576613, 'company_reeracoen'), (1.1537852871891523, 'description_machine learning'), (1.1168256403300103, 'description_data science'), (1.0427034352805693, 'description_science'), (0.9386988273956663, 'description_statistical'), (0.8972169835292333, 'description_models')]\n",
      "----------------------------------------------------------------------------------------------------\n",
      "Data(others)\n",
      "[(1.3535024049295235, 'description_data'), (0.8505602851890177, 'company_advisory'), (0.788026118930106, 'company_young advisory'), (0.7437103768245045, 'company_ca search'), (0.7437103768245045, 'company_ca'), (0.6780086522528515, 'company_bank'), (0.6680126888281477, 'address_boon'), (0.6453424201775974, 'Min Years'), (0.6309881627091575, 'company_clearstate pte'), (0.6309881627091575, 'company_clearstate')]\n",
      "----------------------------------------------------------------------------------------------------\n",
      "Reseach Scientist\n",
      "[(1.0658624152083511, 'company_technology'), (0.8227210595836361, 'seniority_Senior Manager'), (0.8012086322070155, 'company_singapore management'), (0.8012086322070155, 'company_management university'), (0.7712214860233532, 'company_management'), (0.7615405917100481, 'company_vcyber technology'), (0.7615405917100481, 'company_vcyber'), (0.7615405917100481, 'company_singapore vcyber'), (0.7351286393894346, 'company_technology pte'), (0.7164800751639243, 'company_singapore')]\n",
      "----------------------------------------------------------------------------------------------------\n",
      "Unknown\n",
      "[(1.3051816428400167, 'seniority_Manager'), (1.2726477192312695, 'description_design'), (1.1439301460979954, 'description_sales'), (0.8666491581868772, 'seniority_Senior Manager'), (0.8438316333697585, 'description_risk'), (0.7788157226426767, 'address_industrial'), (0.7509749366245042, 'company_billigence'), (0.7398849689369407, 'company_singapore division'), (0.7398849689369407, 'company_persol singapore'), (0.7398849689369407, 'company_persol')]\n",
      "----------------------------------------------------------------------------------------------------\n"
     ]
    }
   ],
   "source": [
    "for i in logit_coef:\n",
    "    print(i[0])\n",
    "    print(sorted(list(zip(i[1], X_train.columns)), reverse=True)[:10])\n",
    "    print('-'*100)"
   ]
  },
  {
   "cell_type": "code",
   "execution_count": 55,
   "metadata": {},
   "outputs": [
    {
     "data": {
      "text/plain": [
       "[(0.0514654511871523, 'Min Years'),\n",
       " (0.009262154406926706, 'seniority_Senior Executive'),\n",
       " (0.007977979224138853, 'seniority_Junior Executive'),\n",
       " (0.007409375806181619, 'description_business'),\n",
       " (0.006412991466321019, 'description_data'),\n",
       " (0.0063920721071047525, 'description_unknown'),\n",
       " (0.006127336642870557, 'seniority_Manager'),\n",
       " (0.005357782141388946, 'description_analyst'),\n",
       " (0.0044707905273039285, 'location_Across'),\n",
       " (0.004225531255652175, 'location_Central'),\n",
       " (0.004057243203007693, 'description_data science'),\n",
       " (0.0038065491549929783, 'seniority_Entry Level'),\n",
       " (0.0033715870148742534, 'address_unknown'),\n",
       " (0.003327141197648661, 'description_functional'),\n",
       " (0.0030041095435515653, 'description_specifications'),\n",
       " (0.0028225063941470807, 'description_business analyst'),\n",
       " (0.002810355521388614, 'description_and'),\n",
       " (0.002802651139069838, 'industry_Human Resources Management/Consulting'),\n",
       " (0.0027087918758482562, 'description_development'),\n",
       " (0.002695593669877295, 'address_tower'),\n",
       " (0.0026456087514287233, 'address_singapore'),\n",
       " (0.00262347134840054, 'description_you for'),\n",
       " (0.0026017961610108943, 'description_sql'),\n",
       " (0.0025665523424035527, 'location_East'),\n",
       " (0.0025405744264022506, 'description_analysis'),\n",
       " (0.0025405134410453043, 'description_the'),\n",
       " (0.0023008604973409038, 'location_West'),\n",
       " (0.002294456742441832, 'description_strong'),\n",
       " (0.002233464542614589, 'seniority_Senior Manager'),\n",
       " (0.002193072816311898, 'company_singapore'),\n",
       " (0.002065189390169532, 'description_spark'),\n",
       " (0.0020383183352982465, 'company_firm'),\n",
       " (0.0020156965204260386, 'company_pte'),\n",
       " (0.00195537753382053, 'company_ltd'),\n",
       " (0.0019413618896405509, 'description_degree'),\n",
       " (0.0019324790339388873, 'description_please'),\n",
       " (0.0018054021973240423, 'address_marina view'),\n",
       " (0.0017971759391985681, 'description_your'),\n",
       " (0.001796751427976256, 'description_systems'),\n",
       " (0.0017964733925470455, 'description_nitec'),\n",
       " (0.0017925956866141767, 'description_engagement'),\n",
       " (0.001787662101136462, 'description_learning'),\n",
       " (0.001756786546417946, 'description_data analysis'),\n",
       " (0.0017352999458818737, 'description_implementation'),\n",
       " (0.0017173245158797154, 'address_road'),\n",
       " (0.001694902853293722, 'description_data scientist'),\n",
       " (0.0016765760007346315, 'industry_Information Technology'),\n",
       " (0.001664229040652975, 'description_functional specifications'),\n",
       " (0.0016453979162718304, 'description_more'),\n",
       " (0.0016408277097249477, 'description_include'),\n",
       " (0.0016385069967369433, 'description_work'),\n",
       " (0.0016217436272724368, 'company_pte ltd'),\n",
       " (0.0016211225173654881, 'company_recruitment'),\n",
       " (0.001545156173448661, 'company_unknown'),\n",
       " (0.0015390050964708777, 'description_sign'),\n",
       " (0.0015332870214122686, 'description_mathematics'),\n",
       " (0.0015204644240491218, 'description_testing and'),\n",
       " (0.0014915043253242294, 'description_new'),\n",
       " (0.001452353352871792, 'description_machine'),\n",
       " (0.0014373967471799027, 'description_engineering'),\n",
       " (0.0014318457119680016, 'description_to support'),\n",
       " (0.001387230469789343, 'description_for'),\n",
       " (0.0013627522582452302, 'description_analytics'),\n",
       " (0.0013501925903112854, 'company_recruit'),\n",
       " (0.00134813840544923, 'description_big'),\n",
       " (0.001342585132842865, 'description_users'),\n",
       " (0.0013243771773153875, 'description_can'),\n",
       " (0.001285686526668667, 'address_tower singapore'),\n",
       " (0.0012812513211282511, 'description_skills'),\n",
       " (0.0012810182043556692, 'description_review'),\n",
       " (0.0012749196377928804, 'description_environment'),\n",
       " (0.0012556328924007596, 'address_square'),\n",
       " (0.0012483047883570058, 'description_development life'),\n",
       " (0.0012480974952395348, 'description_an email'),\n",
       " (0.0012418869494425836, 'description_stakeholders to'),\n",
       " (0.0012064535478559593, 'description_research'),\n",
       " (0.0012054496026695854, 'description_who'),\n",
       " (0.0012053319549177456, 'description_solving'),\n",
       " (0.0012022109612024236, 'company_group'),\n",
       " (0.0011928147573910582, 'description_largest'),\n",
       " (0.0011869702698971507, 'description_responsibilities'),\n",
       " (0.0011814928575267412, 'description_experience'),\n",
       " (0.0011752217451053092, 'description_required'),\n",
       " (0.0011686868432752493, 'company_recruit express'),\n",
       " (0.001166497439012462, 'description_science'),\n",
       " (0.0011616050617749194, 'company_singapore pte'),\n",
       " (0.0011582325289744386, 'company_asia'),\n",
       " (0.0011576816649405425, 'description_are'),\n",
       " (0.0011524822239789918, 'description_with'),\n",
       " (0.0011472383178143953, 'description_strategic'),\n",
       " (0.0011457056925894948, 'address_avenue'),\n",
       " (0.0011454618274157168, 'description_about'),\n",
       " (0.0011432933039214582, 'description_higher'),\n",
       " (0.0011423501987174105, 'description_prepare'),\n",
       " (0.0011397280601214356, 'description_masters'),\n",
       " (0.001136865352451987, 'address_city'),\n",
       " (0.0011361862922014358, 'description_test cases'),\n",
       " (0.0011225197078320425, 'company_persol singapore'),\n",
       " (0.0011069698259494835, 'description_permanentbachelor'),\n",
       " (0.0011058852358584348, 'description_sdlc'),\n",
       " (0.001102119551051574, 'description_inform'),\n",
       " (0.001097625822771888, 'description_in'),\n",
       " (0.0010924356486228313, 'description_written communications'),\n",
       " (0.0010921454006578607, 'company_achieve career'),\n",
       " (0.0010903911946206657, 'description_execute'),\n",
       " (0.001089171226148288, 'description_big data'),\n",
       " (0.001084025708642267, 'description_participate'),\n",
       " (0.0010794319813316714, 'description_hands'),\n",
       " (0.0010674756205053353, 'description_reports'),\n",
       " (0.0010639342834684834, 'description_managing'),\n",
       " (0.001058405721779092, 'description_enhancements'),\n",
       " (0.001057598622432944, 'description_mining and'),\n",
       " (0.001051306656534733, 'description_application'),\n",
       " (0.001048645359296779, 'description_that'),\n",
       " (0.0010366234141588571, 'description_financial and'),\n",
       " (0.001032685763738494, 'description_complex'),\n",
       " (0.0010272429221179409, 'company_limited'),\n",
       " (0.001023222578363216, 'description_management'),\n",
       " (0.0010181794519568618, 'description_bachelor'),\n",
       " (0.0010014624673710536, 'address_one'),\n",
       " (0.000997842025398868, 'company_group pte'),\n",
       " (0.0009914365684599805, 'description_communication'),\n",
       " (0.0009902436186811467, 'address_east'),\n",
       " (0.000989596786472495, 'description_and corporate'),\n",
       " (0.000987544698632226, 'company_bank'),\n",
       " (0.0009798394121269959, 'address_place'),\n",
       " (0.0009787457278398063, 'description_experience in'),\n",
       " (0.0009689863633451817, 'address_battery'),\n",
       " (0.0009683522413498636, 'address_raffles'),\n",
       " (0.0009659124676651122, 'description_another'),\n",
       " (0.0009656419750134534, 'description_you about'),\n",
       " (0.0009622765877895376, 'description_excel'),\n",
       " (0.0009593919103792668, 'description_develop and'),\n",
       " (0.000945919454223515, 'description_and analysis'),\n",
       " (0.000941624578873001, 'description_or'),\n",
       " (0.0009404545162877949, 'company_people'),\n",
       " (0.0009313553765245436, 'description_professional'),\n",
       " (0.000925210012805095, 'description_technical'),\n",
       " (0.0009232903545492584, 'description_only shortlisted'),\n",
       " (0.0009213567036669654, 'description_capita pte'),\n",
       " (0.0009197683351188015, 'description_statistics applied'),\n",
       " (0.0009183905937723222, 'description_permanent'),\n",
       " (0.0009180311951925691, 'description_with in'),\n",
       " (0.0009120714798392046, 'description_processes'),\n",
       " (0.0009008187253869863, 'company_capita pte'),\n",
       " (0.000898790921838342, 'address_centre singapore'),\n",
       " (0.0008980757004904385, 'description_solution'),\n",
       " (0.0008828927695506998, 'company_global resources'),\n",
       " (0.0008802671684497205, 'description_business analysis'),\n",
       " (0.0008785441035929608, 'description_on data'),\n",
       " (0.0008702911492123461, 'company_recruitment firm'),\n",
       " (0.0008680101895845487, 'description_working'),\n",
       " (0.0008664485040935216, 'description_information'),\n",
       " (0.0008638405123057724, 'description_technologies'),\n",
       " (0.0008630545860830892, 'description_analytics and'),\n",
       " (0.0008627810276058646, 'description_analyze'),\n",
       " (0.0008597957406172174, 'address_lane'),\n",
       " (0.0008575057964795123, 'company_career services'),\n",
       " (0.0008572817816151427, 'address_raffles place'),\n",
       " (0.000856886237696074, 'description_to'),\n",
       " (0.0008556304371923048, 'address_shenton'),\n",
       " (0.0008533174481175264, 'description_innovative'),\n",
       " (0.0008525434730702681, 'company_express'),\n",
       " (0.0008505285878422714, 'description_requirements'),\n",
       " (0.0008504574889817099, 'description_expertise'),\n",
       " (0.0008467874764560956, 'description_it'),\n",
       " (0.0008467353635793123, 'company_services'),\n",
       " (0.0008435030237858726, 'description_perform'),\n",
       " (0.0008427417295644339, 'company_robert'),\n",
       " (0.0008380548015962958, 'description_scope'),\n",
       " (0.0008308121850920431, 'description_for data'),\n",
       " (0.0008275514067611742, 'description_equipment'),\n",
       " (0.0008200201087617727, 'description_sales'),\n",
       " (0.0008176640342751975, 'address_park'),\n",
       " (0.0008151217597332989, 'description_process'),\n",
       " (0.0008103102192473956, 'description_relationship'),\n",
       " (0.0008096924032233042, 'description_an'),\n",
       " (0.0008090029235153234, 'address_battery road'),\n",
       " (0.00080828782052572, 'description_as'),\n",
       " (0.0008076712052336879, 'company_united'),\n",
       " (0.0008075747993464205, 'description_conduct'),\n",
       " (0.0008044378496029327, 'company_search'),\n",
       " (0.0008003797498637291, 'description_of statistics'),\n",
       " (0.0007997837795646709, 'description_uat'),\n",
       " (0.0007978422702674289, 'industry_Banking and Finance'),\n",
       " (0.0007977059384935512, 'description_market'),\n",
       " (0.0007954354743422235, 'description_trading'),\n",
       " (0.0007952587515550728, 'description_support in'),\n",
       " (0.0007912185853880458, 'description_and business'),\n",
       " (0.0007901421420301949, 'company_personnel'),\n",
       " (0.0007897952174693524, 'description_requirement'),\n",
       " (0.0007896675973160783, 'address_robinson road'),\n",
       " (0.0007855878374754367, 'address_street singapore'),\n",
       " (0.0007855316020251365, 'description_shortlisted candidates'),\n",
       " (0.0007829091986742718, 'description_including'),\n",
       " (0.0007787812373034307, 'description_life'),\n",
       " (0.0007781436034621261, 'description_format to'),\n",
       " (0.0007743007221237962, 'description_master data'),\n",
       " (0.0007711717196097416, 'description_model'),\n",
       " (0.0007700213838146555, 'description_business requirements'),\n",
       " (0.0007662597046382334, 'company_technology'),\n",
       " (0.0007662359756974502, 'company_consultant pte'),\n",
       " (0.0007602395299835106, 'description_manager'),\n",
       " (0.0007539427839258943, 'description_data analytics'),\n",
       " (0.0007510054614800719, 'address_ncs hub'),\n",
       " (0.0007490292067472996, 'description_conversion'),\n",
       " (0.0007462646107993943, 'description_highly'),\n",
       " (0.0007401089089860062, 'company_consulting'),\n",
       " (0.0007395328140646746, 'company_career'),\n",
       " (0.0007389651552569444, 'description_solving skills'),\n",
       " (0.0007384371151709376, 'description_information about'),\n",
       " (0.000735892564202513, 'industry_R&D'),\n",
       " (0.0007348349331401672, 'description_building'),\n",
       " (0.00073365433020127, 'description_domains'),\n",
       " (0.0007313025915214938, 'description_be'),\n",
       " (0.0007312487163867287, 'description_business models'),\n",
       " (0.000729370805641639, 'company_infocomm'),\n",
       " (0.0007273366559247942, 'description_multiple'),\n",
       " (0.0007272317715896036, 'description_days'),\n",
       " (0.0007269029027457385, 'description_cash'),\n",
       " (0.0007268542091365237, 'description_excellent'),\n",
       " (0.000726131158160881, 'description_insights'),\n",
       " (0.0007254398849678785, 'description_the functional'),\n",
       " (0.0007244649076101858, 'description_and translate'),\n",
       " (0.0007154389380848545, 'description_benefits'),\n",
       " (0.0007152334214936588, 'description_and the'),\n",
       " (0.0007128276902309992, 'description_training'),\n",
       " (0.0007108064141565239, 'description_responsible for'),\n",
       " (0.0007063266090434553, 'company_todays'),\n",
       " (0.0007058949424835059, 'description_account'),\n",
       " (0.0007056015300280665, 'description_would'),\n",
       " (0.0007055593061198495, 'description_interpersonal'),\n",
       " (0.0007054777035064699, 'description_tableau'),\n",
       " (0.0007044951208221864, 'description_consulting'),\n",
       " (0.0007018714756647954, 'address_shenton way'),\n",
       " (0.0007018585641916083, 'description_please send'),\n",
       " (0.0007014588611740814, 'description_analytical'),\n",
       " (0.0007012085711650743, 'company_it'),\n",
       " (0.00070063472184472, 'description_with the'),\n",
       " (0.0007000214330528133, 'description_deep'),\n",
       " (0.0006923754391790878, 'description_tracking of'),\n",
       " (0.0006920018099559748, 'description_click here'),\n",
       " (0.0006918436052170431, 'description_assigned'),\n",
       " (0.0006899308173409651, 'description_business needs'),\n",
       " (0.0006896518550194841, 'description_cases'),\n",
       " (0.0006830488191156407, 'description_from'),\n",
       " (0.0006829910947555265, 'description_develop data'),\n",
       " (0.0006825985459852507, 'description_shortlisted'),\n",
       " (0.0006806606453671368, 'description_network analysis'),\n",
       " (0.0006749401391919698, 'address_coleman'),\n",
       " (0.000674593106202092, 'description_tools such'),\n",
       " (0.0006734777735617027, 'description_ltdea'),\n",
       " (0.0006734569995905492, 'description_10'),\n",
       " (0.0006727114393083348, 'address_avenue singapore'),\n",
       " (0.0006712495821611144, 'company_page'),\n",
       " (0.0006687336270826275, 'description_lead'),\n",
       " (0.000668396002646295, 'description_banking'),\n",
       " (0.0006664038693402598, 'description_targets'),\n",
       " (0.0006657808210476732, 'description_techniques'),\n",
       " (0.0006634486195488357, 'address_bendemeer'),\n",
       " (0.0006633339922982732, 'description_experience is'),\n",
       " (0.0006610591643507178, 'description_ensure'),\n",
       " (0.0006571433988801575, 'address_road singapore'),\n",
       " (0.0006568715308812691, 'description_able'),\n",
       " (0.0006558400213186072, 'description_changes'),\n",
       " (0.0006543812182863816, 'description_architect'),\n",
       " (0.0006508407617493203, 'description_must'),\n",
       " (0.0006504146261419241, 'description_etc'),\n",
       " (0.0006488841620920573, 'description_time series'),\n",
       " (0.0006485908097684259, 'description_that only'),\n",
       " (0.0006476522406523941, 'address_robinson'),\n",
       " (0.0006460575523622893, 'description_send'),\n",
       " (0.0006448637703289738, 'description_creative with'),\n",
       " (0.0006442985746197295, 'description_here'),\n",
       " (0.0006435297617306153, 'description_computer science'),\n",
       " (0.0006418397063891839, 'description_resolved'),\n",
       " (0.00064142027711595, 'address_the'),\n",
       " (0.0006400757692154263, 'company_forte employment'),\n",
       " (0.0006388610636701864, 'description_best'),\n",
       " (0.0006378672691627485, 'address_tower level'),\n",
       " (0.0006367133588513858, 'address_pasir'),\n",
       " (0.000635694484241356, 'description_r1110177'),\n",
       " (0.0006354186325556444, 'description_to ensure'),\n",
       " (0.0006350349095060595, 'description_honours'),\n",
       " (0.0006346069938329375, 'description_engineer'),\n",
       " (0.0006345062157300859, 'description_applied'),\n",
       " (0.0006336897596515795, 'description_feasibility'),\n",
       " (0.0006317426668248124, 'description_and consented'),\n",
       " (0.000628698565249464, 'company_singapore vcyber'),\n",
       " (0.0006286709634193176, 'description_advanced'),\n",
       " (0.0006263243073771909, 'description_planning'),\n",
       " (0.0006251324355625466, 'company_michael page'),\n",
       " (0.000624987263195182, 'description_problem'),\n",
       " (0.0006221204739558933, 'description_for this'),\n",
       " (0.0006212744563903318, 'description_developments'),\n",
       " (0.000620869349165046, 'description_on'),\n",
       " (0.0006205546971800751, 'location_North'),\n",
       " (0.000619884000250616, 'description_to work'),\n",
       " (0.0006197352396559653, 'description_software'),\n",
       " (0.0006190761485437505, 'description_the careers'),\n",
       " (0.0006189935371550024, 'address_south tower'),\n",
       " (0.0006159124102058651, 'description_analysis and'),\n",
       " (0.0006135001027810674, 'description_knowledge of'),\n",
       " (0.0006110847070778636, 'description_such'),\n",
       " (0.00061023925852761, 'description_global and'),\n",
       " (0.0006090178341982523, 'company_international'),\n",
       " (0.0006080658769827333, 'description_business processes'),\n",
       " (0.0006071240488256779, 'address_plaza singapore'),\n",
       " (0.0006036011680847369, 'description_of all'),\n",
       " (0.0006014758717642272, 'description_contractdiploma'),\n",
       " (0.0005995448715308256, 'company_of'),\n",
       " (0.0005979151061405889, 'description_essential'),\n",
       " (0.0005965158485053115, 'description_looking'),\n",
       " (0.0005960250858790549, 'address_business'),\n",
       " (0.0005958445997278102, 'description_key roles'),\n",
       " (0.0005953210702694846, 'description_responsibilitiesto'),\n",
       " (0.0005940844283514576, 'description_distributions'),\n",
       " (0.0005921061983130036, 'description_email address'),\n",
       " (0.0005907063376939866, 'description_with data'),\n",
       " (0.0005894576231751242, 'description_risks and'),\n",
       " (0.0005890448865167412, 'description_forecast'),\n",
       " (0.0005885014015209903, 'description_innovate'),\n",
       " (0.0005870593452654029, 'address_jalan pemimpin'),\n",
       " (0.0005865100002770559, 'description_communication skills'),\n",
       " (0.0005861545587584709, 'description_experience of'),\n",
       " (0.0005830125947549362, 'company_global'),\n",
       " (0.0005821934131119086, 'description_accuracy'),\n",
       " (0.0005810448117626649, 'description_implement the'),\n",
       " (0.00058058456064994, 'description_predictive models'),\n",
       " (0.0005799849418584947, 'description_months'),\n",
       " (0.0005796456430953501, 'description_team responsible'),\n",
       " (0.0005791566606728335, 'description_complex data'),\n",
       " (0.0005777987449368576, 'company_management'),\n",
       " (0.0005772999742316581, 'description_customers'),\n",
       " (0.0005769775293042948, 'description_expertise in'),\n",
       " (0.0005765930421996341, 'description_improve'),\n",
       " (0.000576460151787597, 'description_extraction'),\n",
       " (0.0005747239354620319, 'description_ability'),\n",
       " (0.0005747167596964764, 'company_for'),\n",
       " (0.0005706434726678826, 'address_surbana'),\n",
       " (0.0005700825405236514, 'address_cecil'),\n",
       " (0.0005697359964747447, 'description_salary'),\n",
       " (0.0005651070790632014, 'description_user acceptance'),\n",
       " (0.0005647609723643949, 'description_worked'),\n",
       " (0.00056392388380366, 'description_in data'),\n",
       " (0.0005634646014552973, 'description_programming'),\n",
       " (0.000562647000458959, 'description_marketing'),\n",
       " (0.0005617956994007637, 'description_resolve'),\n",
       " (0.0005616812980512815, 'company_services pte'),\n",
       " (0.0005610333281800249, 'description_consultant'),\n",
       " (0.0005608003197010118, 'description_team within'),\n",
       " (0.0005605272898270568, 'description_capacity'),\n",
       " (0.0005592670665293899, 'company_nass'),\n",
       " (0.0005589850058507358, 'description_of new'),\n",
       " (0.0005581985703914957, 'description_problems with'),\n",
       " (0.0005566382753791488, 'description_conventional'),\n",
       " (0.0005558982070539038, 'address_north'),\n",
       " (0.0005554021119073144, 'description_locations'),\n",
       " (0.0005532290007377906, 'description_as well'),\n",
       " (0.0005530132510085707, 'company_of capita'),\n",
       " (0.000550154100598614, 'description_energy'),\n",
       " (0.0005451711893641695, 'company_globesoft'),\n",
       " (0.0005445060574640794, 'description_review and'),\n",
       " (0.0005438501547119228, 'company_resources'),\n",
       " (0.0005432086889583063, 'description_appropriate'),\n",
       " (0.0005429212135989782, 'description_from different'),\n",
       " (0.0005405644883610857, 'description_the way'),\n",
       " (0.0005382998602986044, 'address_ang mo'),\n",
       " (0.0005378197730132532, 'description_from multiple'),\n",
       " (0.0005373762341097439, 'description_of service'),\n",
       " (0.0005371375758907482, 'description_dependencies'),\n",
       " (0.0005369092941161044, 'description_submitting your'),\n",
       " (0.0005363527483245894, 'description_strategy'),\n",
       " (0.0005357403198892698, 'description_attention'),\n",
       " (0.0005346477620551272, 'description_good'),\n",
       " (0.0005321311103005397, 'description_oriented'),\n",
       " (0.0005306877381983915, 'company_kelly services'),\n",
       " (0.0005299494420586121, 'description_any'),\n",
       " (0.0005293076486134656, 'address_panjang'),\n",
       " (0.0005284324949150589, 'description_maintain'),\n",
       " (0.000527065854538574, 'company_walters pte'),\n",
       " (0.0005264775496483791, 'description_yan'),\n",
       " (0.0005262614197797762, 'company_kerry'),\n",
       " (0.0005261751296807773, 'description_attitude'),\n",
       " (0.000525371790676195, 'address_one raffles'),\n",
       " (0.0005234548450451978, 'company_frontiers pte'),\n",
       " (0.000522668078211524, 'description_business process'),\n",
       " (0.0005216857801932423, 'description_email'),\n",
       " (0.00052114491447976, 'description_team'),\n",
       " (0.0005201547744399596, 'description_next generation'),\n",
       " (0.000519696598251051, 'company_hanalytics pte'),\n",
       " (0.0005191537691096988, 'description_data to'),\n",
       " (0.000518830174868529, 'address_business city'),\n",
       " (0.0005176958544041742, 'description_of responsibility'),\n",
       " (0.0005176694987884548, 'company_profilers'),\n",
       " (0.0005170859553243856, 'description_develop'),\n",
       " (0.0005156923431856118, 'description_document'),\n",
       " (0.0005153102693640245, 'company_consultancy'),\n",
       " (0.0005149821617503483, 'description_regularly'),\n",
       " (0.0005141285761160101, 'company_overseas bank'),\n",
       " (0.0005139009149662982, 'description_ltd'),\n",
       " (0.0005134518842663327, 'description_experience understanding'),\n",
       " (0.0005118579138511942, 'address_central'),\n",
       " (0.0005114838791335987, 'description_small team'),\n",
       " (0.0005114245142663188, 'description_of'),\n",
       " (0.0005111101712428584, 'company_career consultant'),\n",
       " (0.0005097499724161786, 'description_the data'),\n",
       " (0.0005097125665126753, 'description_multiple data'),\n",
       " (0.0005095154769365522, 'description_roles'),\n",
       " (0.0005094638308506773, 'description_with minimum'),\n",
       " (0.0005092593331749821, 'description_table and'),\n",
       " (0.0005089327988434864, 'address_quay'),\n",
       " (0.0005085254531132404, 'description_business logics'),\n",
       " (0.0005077369004318344, 'description_listed'),\n",
       " (0.0005053783892741148, 'description_xa0'),\n",
       " (0.0005052602329786106, 'description_permanentdiploma bachelor'),\n",
       " (0.0005042406060662315, 'description_tools like'),\n",
       " (0.0005041931343743034, 'description_oil and'),\n",
       " (0.0005037934497302157, 'company_reeracoen singapore'),\n",
       " (0.0005035261441543806, 'company_achieve'),\n",
       " (0.0005030689441405903, 'address_orchard road'),\n",
       " (0.0005027794728806717, 'company_express pte'),\n",
       " (0.0005024973493710473, 'address_wallich street'),\n",
       " (0.0005014669066849373, 'description_middle'),\n",
       " (0.0005014248927481862, 'description_years of'),\n",
       " (0.000501137715281255, 'description_consented to'),\n",
       " (0.0005008427795161732, 'description_written communication'),\n",
       " (0.0005007179528713753, 'company_university'),\n",
       " (0.0005006811900496467, 'description_self'),\n",
       " (0.0004998915865464936, 'address_boulevard'),\n",
       " (0.000499192108173799, 'company_transcendent'),\n",
       " (0.0004985968304890857, 'description_least'),\n",
       " (0.0004977463585397738, 'description_databases'),\n",
       " (0.0004974791633333922, 'description_relationships develop'),\n",
       " (0.0004971130415535721, 'description_database'),\n",
       " (0.0004959036913523561, 'company_fairprice'),\n",
       " (0.0004956530019922439, 'company_partners'),\n",
       " (0.000494070349993771, 'description_designing'),\n",
       " (0.0004924951667787306, 'description_and accuracy'),\n",
       " (0.0004921814680290718, 'description_using'),\n",
       " (0.0004899297386627568, 'description_operational'),\n",
       " (0.0004895824593840936, 'description_from time'),\n",
       " (0.0004895335245251143, 'company_business'),\n",
       " (0.0004893953219557998, 'company_resources pte'),\n",
       " (0.0004884041353168877, 'description_resourceful'),\n",
       " (0.0004881197990208331, 'description_competitive'),\n",
       " (0.0004871031613204047, 'description_management reporting'),\n",
       " (0.00048579434885724984, 'company_scoot'),\n",
       " (0.0004845470347304644, 'company_solutions pte'),\n",
       " (0.0004842171937939033, 'description_regression'),\n",
       " (0.0004834918228253213, 'description_analytical mind'),\n",
       " (0.0004829465383320751, 'description_to solve'),\n",
       " (0.00048122260632486885, 'company_kelly'),\n",
       " (0.00047915249111750365, 'description_experiment'),\n",
       " (0.0004782378044996233, 'description_reference data'),\n",
       " (0.0004780010111424999, 'description_cassandra'),\n",
       " (0.00047733834276418184, 'description_notified'),\n",
       " (0.00047728240542902617, 'description_daily'),\n",
       " (0.00047725799403620174, 'description_utilities'),\n",
       " (0.00047672080088761326, 'description_system'),\n",
       " (0.0004765163697386688, 'description_following in'),\n",
       " (0.0004747695036396017, 'description_and procedures'),\n",
       " (0.0004740980220654923, 'company_talentvis singapore'),\n",
       " (0.0004725737520914164, 'description_secure'),\n",
       " (0.0004722804009785526, 'description_honoursit'),\n",
       " (0.0004722279133014154, 'description_monitoring'),\n",
       " (0.0004718866483840771, 'company_stafflink services'),\n",
       " (0.00047167041545662005, 'address_view'),\n",
       " (0.00047162433580514055, 'description_against'),\n",
       " (0.00047093235936411255, 'address_place one'),\n",
       " (0.0004705824723074084, 'description_close'),\n",
       " (0.00047052584306373727, 'company_hanalytics'),\n",
       " (0.0004703111208590093, 'description_student learning'),\n",
       " (0.00046961900978965303, 'description_as part'),\n",
       " (0.00046888173163933347, 'description_english'),\n",
       " (0.00046856029343147207, 'description_to drive'),\n",
       " (0.00046795653510235734, 'address_temasek boulevard'),\n",
       " (0.0004679337109462308, 'description_hive'),\n",
       " (0.0004670590177535378, 'description_write'),\n",
       " (0.00046662343139378, 'description_to make'),\n",
       " (0.00046568570653188754, 'description_by reviewing'),\n",
       " (0.00046547353458479423, 'description_our'),\n",
       " (0.00046501178031994016, 'description_how we'),\n",
       " (0.00046458890874029904, 'description_no'),\n",
       " (0.00046452844634637996, 'company_systems'),\n",
       " (0.0004623782971597769, 'description_quality'),\n",
       " (0.0004620172057226088, 'company_peoplebank'),\n",
       " (0.0004607171353032573, 'company_pc financial'),\n",
       " (0.0004591258449398279, 'description_talent acquisition'),\n",
       " (0.0004588395468334533, 'description_last drawn'),\n",
       " (0.00045867518872529464, 'description_and relevant'),\n",
       " (0.0004583077549775853, 'description_subject'),\n",
       " (0.0004575607851679984, 'description_of working'),\n",
       " (0.0004575569701465253, 'description_all'),\n",
       " (0.0004567593711962096, 'description_practices'),\n",
       " (0.00045662004122464233, 'description_the progress'),\n",
       " (0.00045586375564611185, 'description_platform for'),\n",
       " (0.00045276588118733365, 'company_solutions singapore'),\n",
       " (0.00045247588970065216, 'description_learning techniques'),\n",
       " (0.00045235204548266814, 'description_intelligence with'),\n",
       " (0.00045124460917518664, 'description_mongodb'),\n",
       " (0.00044972919455908266, 'description_supply'),\n",
       " (0.00044911676742983106, 'description_ms sql'),\n",
       " (0.00044788383714504203, 'address_way singapore'),\n",
       " (0.0004475993564449626, 'company_snaphunt pte'),\n",
       " (0.0004473531280308623, 'company_tigerair pte'),\n",
       " (0.000446813348938041, 'description_testing'),\n",
       " (0.00044625515818511746, 'description_management of'),\n",
       " (0.00044335630398656606, 'company_consulting pte'),\n",
       " (0.00044335262530491954, 'description_in computer'),\n",
       " (0.00044316109742254043, 'description_skills in'),\n",
       " (0.00044303271980910484, 'description_work experience'),\n",
       " (0.0004423602740972907, 'description_passion'),\n",
       " (0.0004416665944663254, 'description_ability to'),\n",
       " (0.000440823143319808, 'description_and financial'),\n",
       " (0.00044021176913679953, 'description_word format'),\n",
       " (0.00044004442181481355, 'description_digital'),\n",
       " (0.00043950529179612814, 'description_and methods'),\n",
       " (0.00043914528199712807, 'description_trade'),\n",
       " (0.0004386545757479071, 'address_boulevard singapore'),\n",
       " (0.00043850995060721427, 'description_well'),\n",
       " (0.00043805614641024047, 'description_production environment'),\n",
       " (0.00043685536273848247, 'description_business development'),\n",
       " (0.00043545173209309454, 'company_private limited'),\n",
       " (0.000434972179113372, 'description_and other'),\n",
       " (0.0004342104247291678, 'company_robert walters'),\n",
       " (0.0004335798121067163, 'description_at'),\n",
       " (0.000433157370726736, 'description_timely'),\n",
       " (0.00043202694172210076, 'company_branch'),\n",
       " (0.00042950566523206827, 'address_chulia street'),\n",
       " (0.00042926575672006147, 'description_associates'),\n",
       " (0.00042924859001195, 'description_job'),\n",
       " (0.00042924422023875525, 'description_with good'),\n",
       " (0.0004285779558082715, 'description_perform root'),\n",
       " (0.00042846860596826265, 'description_cost management'),\n",
       " (0.00042647709670083536, 'description_models'),\n",
       " (0.00042624254849768885, 'company_genus'),\n",
       " (0.0004261691667574026, 'description_collection'),\n",
       " (0.0004254282346499212, 'address_peninsula plaza'),\n",
       " (0.00042497823850281646, 'description_statistical'),\n",
       " (0.0004246012487377895, 'description_perspective'),\n",
       " (0.00042419343940968237, 'description_procedures'),\n",
       " (0.0004241774767559216, 'description_vendors and'),\n",
       " (0.00042384048188087747, 'description_written'),\n",
       " (0.0004227549052356619, 'address_serangoon'),\n",
       " (0.00042166585281107945, 'description_creating'),\n",
       " (0.00042133462836119737, 'address_international business'),\n",
       " (0.0004204970988650503, 'address_changi'),\n",
       " (0.0004203129689707482, 'address_beach road'),\n",
       " (0.0004202563123437902, 'description_objects'),\n",
       " (0.0004199482958390047, 'description_career'),\n",
       " (0.0004199465481074009, 'description_completion bonus'),\n",
       " (0.0004193850773200991, 'description_providers'),\n",
       " (0.00041931131837065933, 'description_market intelligence'),\n",
       " (0.0004178412231785245, 'company_ltd it'),\n",
       " (0.0004175927672173372, 'description_back to'),\n",
       " (0.0004163168250977376, 'address_green'),\n",
       " (0.00041621004735858876, 'company_asia pacific'),\n",
       " (0.00041577150418461344, 'description_science team'),\n",
       " (0.0004151273700276083, 'description_an advantage'),\n",
       " (0.00041498086456136045, 'company_global pte'),\n",
       " (0.0004138891772359001, 'description_where'),\n",
       " (0.0004137838896487362, 'description_intelligence'),\n",
       " (0.00041362503011682357, 'description_various market'),\n",
       " (0.00041328515112329075, 'company_als'),\n",
       " (0.0004122839748303106, 'description_design'),\n",
       " (0.00041170884251844465, 'description_over time'),\n",
       " (0.00041162761095332934, 'description_analytic skills'),\n",
       " (0.00041156800403861283, 'address_orchard'),\n",
       " (0.0004112629132331963, 'address_international plaza'),\n",
       " (0.0004108931767519756, 'description_risk control'),\n",
       " (0.0004107937259699622, 'description_of business'),\n",
       " (0.0004106869761259487, 'description_bank'),\n",
       " (0.0004104453070919578, 'address_place office'),\n",
       " (0.00040994219010787047, 'description_data and'),\n",
       " (0.0004099365944202476, 'description_software development'),\n",
       " (0.0004088288190937897, 'company_company'),\n",
       " (0.0004081252659096728, 'description_employees'),\n",
       " (0.0004073544918042465, 'description_become the'),\n",
       " (0.00040624913763310475, 'description_enterprise'),\n",
       " (0.0004062463521140772, 'description_university is'),\n",
       " (0.0004058466317636433, 'description_evaluate'),\n",
       " (0.0004056627080180339, 'description_they will'),\n",
       " (0.0004055972929885134, 'description_flume kafka'),\n",
       " (0.0004053932446190913, 'company_digital alchemy'),\n",
       " (0.0004048295663692009, 'company_top'),\n",
       " (0.0004043347782466852, 'description_performance'),\n",
       " (0.0004042827900105077, 'description_insights to'),\n",
       " (0.0004042141589968222, 'description_different'),\n",
       " (0.000403194430025556, 'description_click'),\n",
       " (0.0004031147730377834, 'description_come'),\n",
       " (0.0004026416413861998, 'address_asia'),\n",
       " (0.0004025038512082082, 'description_their'),\n",
       " (0.00040235105896229935, 'address_odeon'),\n",
       " (0.00040149109802327984, 'description_residing'),\n",
       " (0.00040069063321144236, 'description_growth and'),\n",
       " (0.0003991408092275245, 'company_capita'),\n",
       " (0.00039899330158632025, 'description_benefit'),\n",
       " (0.0003986180651150445, 'description_and intelligence'),\n",
       " (0.00039797816509299494, 'address_dbs'),\n",
       " (0.00039702907484587686, 'description_highly complex'),\n",
       " (0.0003964746796329108, 'description_the assigned'),\n",
       " (0.0003962845722818507, 'description_you'),\n",
       " (0.00039607924391795135, 'description_analysis on'),\n",
       " (0.0003960293577269521, 'description_statistical models'),\n",
       " (0.0003958183418072178, 'description_keen'),\n",
       " (0.000395735255850245, 'description_significant'),\n",
       " (0.00039521430573955733, 'description_timerequirements phd'),\n",
       " (0.0003948137881335745, 'description_hiring'),\n",
       " (0.0003943130660865847, 'description_is'),\n",
       " (0.00039336335630780144, 'description_local'),\n",
       " (0.00039327221607942856, 'description_based'),\n",
       " (0.00039134138937925477, 'address_chiang'),\n",
       " (0.00039115745091066937, 'description_monthly'),\n",
       " (0.00039015364767610217, 'company_cornerstone'),\n",
       " (0.00039007884984897714, 'description_data structures'),\n",
       " (0.0003898362797036943, 'description_responsibilities work'),\n",
       " (0.0003875121517433602, 'description_graduate diploma'),\n",
       " (0.0003872767177176072, 'description_strong written'),\n",
       " (0.00038680797788956357, 'company_luxasia pte'),\n",
       " (0.00038664215546793353, 'description_knowledge'),\n",
       " (0.00038640042429982126, 'description_candidates'),\n",
       " (0.0003861594459265196, 'description_highly scalable'),\n",
       " (0.00038558569074291147, 'description_progress of'),\n",
       " (0.0003852096121921439, 'description_applications analyst'),\n",
       " (0.0003852008136412636, 'address_payoh jackson'),\n",
       " (0.0003850643530722194, 'address_south avenue'),\n",
       " (0.00038362034356524124, 'description_relevant'),\n",
       " (0.00038325232248553426, 'description_where suitable'),\n",
       " (0.0003832206277083699, 'description_team leader'),\n",
       " (0.0003828542773318381, 'company_infineon'),\n",
       " (0.00038242492246993824, 'description_regret that'),\n",
       " (0.0003820483020717831, 'company_operations'),\n",
       " (0.000381655209843264, 'description_matter expert'),\n",
       " (0.00038031506406648437, 'description_offer'),\n",
       " (0.0003792442639850221, 'description_and email'),\n",
       " (0.00037921597667597823, 'address_panjang road'),\n",
       " (0.0003784014108380456, 'description_the ability'),\n",
       " (0.00037819016688416294, 'description_time to'),\n",
       " (0.0003775481558546532, 'description_decision trees'),\n",
       " (0.0003773322265592882, 'company_executive'),\n",
       " (0.00037694290478068447, 'description_nice'),\n",
       " (0.00037678284881122024, 'description_finance'),\n",
       " (0.00037653424585312246, 'description_the different'),\n",
       " (0.0003763148777720824, 'description_recommendations to'),\n",
       " (0.00037585275318446166, 'description_data management'),\n",
       " (0.00037580385806020277, 'description_in electrical'),\n",
       " (0.0003754051074082444, 'description_specific business'),\n",
       " (0.0003752413505627088, 'description_bpm'),\n",
       " (0.0003752190642362533, 'description_to click'),\n",
       " (0.00037478121310057324, 'description_com sgwe'),\n",
       " (0.0003746790975809618, 'description_to the'),\n",
       " (0.0003745917057056138, 'description_trends'),\n",
       " (0.0003740185148157042, 'description_good understanding'),\n",
       " (0.0003738108881704741, 'company_nus'),\n",
       " (0.0003733486927355325, 'description_hoc'),\n",
       " (0.000373125579960747, 'company_talent trader'),\n",
       " (0.0003729974317454413, 'description_plus ability'),\n",
       " (0.0003726260734383599, 'description_degree and'),\n",
       " (0.00037254779280745335, 'description_you all'),\n",
       " (0.0003719131706104783, 'address_link'),\n",
       " (0.0003714962520225515, 'description_assess'),\n",
       " (0.00037141485200090183, 'description_commitment and'),\n",
       " (0.0003713272981369652, 'description_and transaction'),\n",
       " (0.00037110835030894666, 'description_escalate'),\n",
       " (0.00037062636199303796, 'description_clients you'),\n",
       " (0.00037054308352610664, 'description_is the'),\n",
       " (0.0003704298500628938, 'description_derived from'),\n",
       " (0.0003686668157384035, 'description_consumer'),\n",
       " (0.0003685525626223521, 'description_analytics experience'),\n",
       " (0.0003685075536170506, 'company_bank limited'),\n",
       " (0.000368109267575317, 'description_architecture of'),\n",
       " (0.0003680173957044936, 'company_consultant'),\n",
       " (0.0003675149824055976, 'description_the requirement'),\n",
       " (0.0003671712992444747, 'company_information systems'),\n",
       " (0.00036654156239947526, 'description_ea reg'),\n",
       " (0.00036573518053394696, 'description_of sales'),\n",
       " (0.0003656112691016359, 'company_recruitfirst'),\n",
       " (0.0003648836294614144, 'description_with experience'),\n",
       " (0.0003637883338230577, 'company_people profilers'),\n",
       " (0.00036327945197330046, 'description_with their'),\n",
       " (0.0003631192326399509, 'description_in english'),\n",
       " (0.00036271044087107476, 'description_seek'),\n",
       " (0.00036267898536685524, 'description_agreement'),\n",
       " (0.0003622281151840407, 'description_client'),\n",
       " (0.0003621519118664796, 'address_rd'),\n",
       " (0.00036143876184205044, 'address_street'),\n",
       " (0.00036131663562644724, 'description_skills and'),\n",
       " (0.0003605045497688443, 'address_serangoon north'),\n",
       " (0.00035994632359750826, 'description_to demonstrate'),\n",
       " (0.0003598395336052946, 'description_will be'),\n",
       " (0.00035941946188272915, 'company_travel services'),\n",
       " (0.0003584041727011087, 'description_create'),\n",
       " (0.0003583698541792538, 'company_one'),\n",
       " (0.00035793662501042357, 'description_provide support'),\n",
       " (0.0003577167887888498, 'company_inc'),\n",
       " (0.00035749811408215533, 'description_equivalent'),\n",
       " (0.000357132780758744, 'description_new systems'),\n",
       " (0.0003568578437178004, 'description_name'),\n",
       " (0.0003568097284180011, 'description_interested'),\n",
       " (0.0003562703407275436, 'description_platform'),\n",
       " (0.00035611803411918534, 'description_executives and'),\n",
       " (0.000355830455375813, 'description_high level'),\n",
       " (0.0003557682067572055, 'description_is responsible'),\n",
       " (0.0003556635106125236, 'description_food'),\n",
       " (0.00035533573650223265, 'description_roles responsibilitiesas'),\n",
       " (0.00035514206105223, 'address_airline'),\n",
       " (0.00035503963933232046, 'description_familiarity with'),\n",
       " (0.00035465517523636166, 'description_presentations'),\n",
       " (0.0003546416906561076, 'address_clean tech'),\n",
       " (0.00035401414103839346, 'description_dashboards'),\n",
       " (0.0003532748861722583, 'description_will have'),\n",
       " (0.0003526615689159622, 'description_liaise with'),\n",
       " (0.0003524768338638598, 'description_provide'),\n",
       " (0.00035239927473383154, 'description_timerequirements'),\n",
       " (0.0003521447821668087, 'description_provided'),\n",
       " (0.0003513763525889911, 'company_half'),\n",
       " (0.00035102349182724246, 'description_with business'),\n",
       " (0.00035079737733576167, 'description_desirable experience'),\n",
       " (0.0003506238218357326, 'description_media channels'),\n",
       " (0.0003500183375215528, 'description_permanent contractdiploma'),\n",
       " (0.0003498089672279554, 'description_asp'),\n",
       " (0.00034980138925887346, 'description_automation'),\n",
       " (0.00034932699037001805, 'description_statistical methods'),\n",
       " (0.0003491426570894564, 'address_pwc building'),\n",
       " (0.000348362858969759, 'address_sgx'),\n",
       " (0.0003477287969323963, 'address_place tower'),\n",
       " (0.00034768019367219916, 'description_tasks to'),\n",
       " (0.0003474890047991686, 'description_track'),\n",
       " (0.0003473958198805357, 'description_mis'),\n",
       " (0.0003473027752908108, 'description_written verbal'),\n",
       " (0.0003471722098944217, 'description_reduce costs'),\n",
       " (0.00034706468290445186, 'description_internal stakeholders'),\n",
       " (0.00034702424711784596, 'description_presence in'),\n",
       " (0.00034601082364939695, 'description_word excel'),\n",
       " (0.00034567835809570156, 'description_advanced statistical'),\n",
       " (0.0003456239803315116, 'address_one north'),\n",
       " (0.0003455803936272535, 'description_by using'),\n",
       " (0.0003444754634214539, 'description_data you'),\n",
       " (0.00034374464460332953, 'description_dynamic team'),\n",
       " (0.0003433641055484789, 'description_and awareness'),\n",
       " (0.00034319464291210393, 'description_very large'),\n",
       " (0.000343024661381865, 'description_quality and'),\n",
       " (0.00034301676814050327, 'description_implement'),\n",
       " (0.00034269250373721374, 'description_microsoft'),\n",
       " (0.00034258164593680703, 'description_responsible in'),\n",
       " (0.0003418407619446275, 'description_applicants are'),\n",
       " (0.0003417896461804533, 'description_in the'),\n",
       " (0.00034152673709635486, 'company_singapore division'),\n",
       " (0.00034099485866699727, 'description_to lead'),\n",
       " (0.0003407475280781219, 'description_collect'),\n",
       " (0.0003405796920064422, 'description_in your'),\n",
       " (0.00034017484315698265, 'description_the product'),\n",
       " (0.00033981134497671, 'description_strong sense'),\n",
       " (0.00033926000702528354, 'description_evolving'),\n",
       " (0.0003391825352783418, 'description_an equal'),\n",
       " (0.0003390668445284868, 'description_resolution'),\n",
       " (0.0003389333106607424, 'description_windows'),\n",
       " (0.0003383939056436565, 'description_for one'),\n",
       " (0.0003382810200468779, 'description_com sg'),\n",
       " (0.0003377683247685422, 'company_starhub'),\n",
       " (0.00033752433728323386, 'description_advertised position'),\n",
       " (0.0003373135280270576, 'description_role may'),\n",
       " (0.00033722386501010857, 'description_specification'),\n",
       " (0.0003364321193596577, 'description_large data'),\n",
       " (0.0003359689899677983, 'address_quay singapore'),\n",
       " (0.00033579572265035276, 'address_mo kio'),\n",
       " (0.00033559892407345404, 'description_continuous'),\n",
       " (0.0003353317712221579, 'description_conversant with'),\n",
       " (0.0003346120033543196, 'address_boat'),\n",
       " (0.00033442799370305267, 'description_java or'),\n",
       " (0.00033372411681856207, 'description_language'),\n",
       " (0.0003334511498744009, 'description_latest'),\n",
       " (0.00033310475131814266, 'address_drive'),\n",
       " (0.0003328105482949897, 'description_and roll'),\n",
       " (0.0003326404103447223, 'description_management system'),\n",
       " (0.00033250768497307783, 'description_mssql'),\n",
       " (0.0003322739593759355, 'description_science or'),\n",
       " (0.00033209359908255596, 'description_solutions and'),\n",
       " (0.00033187979155694156, 'description_apply for'),\n",
       " (0.00033174787553857, 'description_sale'),\n",
       " (0.00033169919887105593, 'description_integrity'),\n",
       " (0.00033158766063337027, 'description_test'),\n",
       " (0.0003314659300694963, 'description_involved in'),\n",
       " (0.0003308148338913127, 'description_me'),\n",
       " (0.0003302152896824869, 'description_statistical and'),\n",
       " (0.0003301344267526346, 'address_mosque'),\n",
       " (0.0003300458864781611, 'description_bachelor honoursbusiness'),\n",
       " (0.0003298646318672207, 'description_believe that'),\n",
       " (0.0003297099385187762, 'address_road comcentre'),\n",
       " (0.0003288422838502581, 'description_on multiple'),\n",
       " (0.0003283798361679948, 'description_architecture and'),\n",
       " (0.0003281673957362463, 'description_and reliability'),\n",
       " (0.0003280294091541643, 'address_kallang avenue'),\n",
       " (0.00032759558427788353, 'description_challenging problems'),\n",
       " (0.0003272093290524848, 'description_skills good'),\n",
       " (0.0003270661662832614, 'company_infineon technologies'),\n",
       " (0.0003270452370090803, 'description_making'),\n",
       " (0.0003268992039231947, 'company_banking corporation'),\n",
       " (0.00032671412214974526, 'company_ambition'),\n",
       " (0.00032648820774735436, 'description_escalation'),\n",
       " (0.0003257979330775362, 'address_guoco'),\n",
       " (0.00032571844115328416, 'description_roles responsibilitiesour'),\n",
       " (0.00032472668682348747, 'description_drive'),\n",
       " (0.00032471746730659053, 'company_takasago'),\n",
       " (0.00032434525938308004, 'description_data mining'),\n",
       " (0.0003239755881297895, 'description_issues to'),\n",
       " (0.00032387046743349905, 'description_tools for'),\n",
       " (0.0003229568115276541, 'company_recruiters group'),\n",
       " (0.00032290272222591614, 'description_deliver'),\n",
       " (0.00032287418330621695, 'address_keppel towers'),\n",
       " (0.00032267758537193615, 'company_networks asia'),\n",
       " (0.0003223669801106257, 'description_candidates with'),\n",
       " (0.0003222436731018345, 'description_the above'),\n",
       " (0.00032128363104995785, 'description_to provide'),\n",
       " (0.0003212281135370629, 'description_unix'),\n",
       " (0.0003207362806908695, 'description_fair'),\n",
       " (0.00032061774894935277, 'description_full timerequirements'),\n",
       " (0.0003202746003570741, 'company_materials'),\n",
       " (0.0003198518662418548, 'description_it and'),\n",
       " (0.00031889952226734665, 'address_mo'),\n",
       " (0.00031865517043652014, 'description_implementing'),\n",
       " (0.00031856920672469573, 'description_of years'),\n",
       " (0.0003185476818534921, 'address_road mapletree'),\n",
       " (0.00031824356927750747, 'description_actionable'),\n",
       " (0.00031794331901314614, 'description_clients through'),\n",
       " (0.0003173854487655925, 'description_benchmarks'),\n",
       " (0.0003171755955847475, 'description_support'),\n",
       " (0.0003170655365850934, 'company_alphasearch'),\n",
       " (0.0003168600899872484, 'description_solve complex'),\n",
       " (0.00031654511872622286, 'description_and manage'),\n",
       " (0.00031647637247102516, 'description_web'),\n",
       " (0.0003160358669246485, 'description_framework'),\n",
       " (0.0003154542988765523, 'description_strong in'),\n",
       " (0.00031455112574208796, 'address_irrawaddy'),\n",
       " (0.0003139217615478681, 'description_business intelligence'),\n",
       " (0.0003138411072639229, 'description_by'),\n",
       " (0.00031341625791008837, 'address_tripleone'),\n",
       " (0.0003131963435901401, 'description_levels in'),\n",
       " (0.00031244822734856836, 'description_within'),\n",
       " (0.0003119974567062816, 'description_detailed cv'),\n",
       " (0.00031188131432857653, 'description_code'),\n",
       " (0.0003112602185905211, 'description_shervani vikram'),\n",
       " (0.00031101664154141917, 'description_growth'),\n",
       " (0.0003107746523201935, 'description_move'),\n",
       " (0.0003104448609301676, 'address_dbs building'),\n",
       " (0.0003098834173029141, 'description_development team'),\n",
       " (0.00030974835610172454, 'description_comfort'),\n",
       " (0.0003094897763330425, 'description_must possess'),\n",
       " (0.0003089008836253486, 'company_fortune'),\n",
       " (0.0003086079645524627, 'description_the magic'),\n",
       " (0.0003079066899015139, 'description_statistics'),\n",
       " (0.0003078404233408518, 'description_thrusts'),\n",
       " (0.00030765991948034164, 'description_varying'),\n",
       " (0.00030752488836681993, 'description_at 65'),\n",
       " (0.0003074093575550567, 'description_main'),\n",
       " (0.00030712108061850004, 'description_and its'),\n",
       " (0.0003062184176163995, 'description_asia'),\n",
       " (0.0003061136378619432, 'description_roadmaps and'),\n",
       " (0.0003057223859496433, 'description_and potential'),\n",
       " (0.0003051177813858288, 'description_statistics mathematics'),\n",
       " (0.0003050550100650109, 'description_honoursbusiness development'),\n",
       " (0.00030478154808117507, 'address_par'),\n",
       " (0.0003046143817676822, 'description_solutions with'),\n",
       " (0.00030459288476046597, 'description_drive business'),\n",
       " (0.0003041337537448985, 'description_clear'),\n",
       " (0.0003037458829218119, 'description_business stakeholders'),\n",
       " (0.0003037121551828403, 'description_known clients'),\n",
       " (0.00030290812533464865, 'description_high volume'),\n",
       " (0.00030289503773354347, 'address_yishun'),\n",
       " (0.0003027541879878976, 'description_reporting'),\n",
       " (0.000302515229395039, 'description_reports for'),\n",
       " (0.0003020393828570149, 'description_details of'),\n",
       " (0.0003019044900013536, 'description_and idiomatically'),\n",
       " (0.0003016619204056102, 'description_regular basis'),\n",
       " (0.00030159035343275064, 'description_residential'),\n",
       " (0.00030132129260297897, 'description_multinational'),\n",
       " (0.0003012431058553772, 'description_motivated'),\n",
       " (0.0003010791097896947, 'address_ngee ann'),\n",
       " (0.00030090347405842624, 'description_budgeting and'),\n",
       " (0.0003006710512473106, 'description_of software'),\n",
       " (0.00030043792470561636, 'company_institute for'),\n",
       " (0.00030038446151117065, 'description_ltd ea'),\n",
       " (0.00030019263192580055, 'description_change request'),\n",
       " (0.00029982352859072746, 'description_python'),\n",
       " (0.00029977654288686434, 'description_amazon web'),\n",
       " (0.00029933439141316696, 'company_frontiers'),\n",
       " (0.00029909069222292553, 'description_and clear'),\n",
       " (0.00029896676444044693, 'description_clustering'),\n",
       " (0.00029866511780915635, 'description_analysis etc'),\n",
       " (0.0002985600396376221, 'description_business users'),\n",
       " (0.0002985170380735385, 'address_way'),\n",
       " (0.00029835291615387145, 'description_ea'),\n",
       " (0.0002973726955859993, 'address_business park'),\n",
       " (0.0002972054731808126, 'description_algorithms'),\n",
       " (0.00029693904056067274, 'description_strategies'),\n",
       " (0.0002964459943597055, 'description_assist in'),\n",
       " (0.0002954776302784159, 'address_suntec tower'),\n",
       " (0.00029538755895615576, 'address_link singapore'),\n",
       " (0.0002952405312312558, 'description_talend'),\n",
       " (0.0002951583724205072, 'description_research development'),\n",
       " (0.00029507294345384777, 'description_data centre'),\n",
       " (0.0002948181974027183, 'address_chain'),\n",
       " (0.00029472877843606763, 'description_roles responsibilitieswe'),\n",
       " (0.0002946016394709771, 'address_singapore post'),\n",
       " (0.0002944573823296965, 'description_management it'),\n",
       " (0.00029409980395175877, 'company_electronics infocomm'),\n",
       " (0.0002935738137961772, 'description_estate'),\n",
       " (0.00029349468515518096, 'address_keppel'),\n",
       " (0.00029338791744752706, 'company_united overseas'),\n",
       " (0.0002933652940784441, 'address_capitagreen'),\n",
       " (0.00029324617748580176, 'description_policies may'),\n",
       " (0.000293226477310742, 'description_to improve'),\n",
       " (0.00029307371102755425, 'description_experiences'),\n",
       " (0.0002930126251306788, 'company_pty'),\n",
       " (0.0002930114109936115, 'company_edge asia'),\n",
       " (0.0002917494798020716, 'description_willingness to'),\n",
       " (0.00029160828838951404, 'description_completion'),\n",
       " (0.0002914525589192266, 'description_various stakeholders'),\n",
       " (0.0002910828541146357, 'description_covered'),\n",
       " (0.0002910065020588034, 'description_successful candidate'),\n",
       " (0.0002903359696728632, 'description_inventory'),\n",
       " (0.0002901437161259984, 'description_with financial'),\n",
       " (0.00029001864872333315, 'description_intellectual'),\n",
       " (0.00028998587331606463, 'address_kio'),\n",
       " (0.0002894436401145292, 'description_and processes'),\n",
       " (0.00028878325367978316, 'description_insight'),\n",
       " (0.00028870125125316144, 'description_the market'),\n",
       " (0.00028849147325037746, 'address_house rochester'),\n",
       " (0.0002883302963595017, 'description_plan'),\n",
       " (0.0002882667429000123, 'description_tool'),\n",
       " (0.00028807349602094623, 'address_loyang way'),\n",
       " (0.0002876537797686238, 'description_pressure'),\n",
       " (0.0002875503692193882, 'description_well as'),\n",
       " (0.0002875477599549396, 'description_end to'),\n",
       " (0.0002875317768665182, 'company_home affairs'),\n",
       " (0.00028730491542075564, 'company_ambition group'),\n",
       " (0.00028690422635378727, 'description_mathematics statistics'),\n",
       " (0.00028686416116032804, 'description_the required'),\n",
       " (0.00028679217455743596, 'description_minimum year'),\n",
       " (0.00028669193869236396, 'description_familiarity'),\n",
       " (0.0002866907345681081, 'company_target'),\n",
       " (0.00028663640088566564, 'description_demand'),\n",
       " (0.00028656295445937517, 'description_data by'),\n",
       " (0.000286519896094127, 'address_raffles quay'),\n",
       " (0.0002861308834973433, 'company_delta electronics'),\n",
       " (0.00028575610021153776, 'company_mci'),\n",
       " (0.00028550605954470883, 'description_related'),\n",
       " (0.00028537616956628343, 'description_touch points'),\n",
       " (0.00028530066213824717, 'description_aforementioned'),\n",
       " (0.00028525336266110624, 'address_synergy'),\n",
       " (0.00028524205375488195, 'address_floorcentennial towersingapore'),\n",
       " (0.00028517905503955857, 'description_app'),\n",
       " (0.0002849604232990069, 'description_ops'),\n",
       " (0.00028478190909680365, 'description_honoursbusiness'),\n",
       " (0.00028470476284143725, 'description_accountancy'),\n",
       " (0.0002845929847547218, 'description_duties'),\n",
       " (0.0002843405920967768, 'description_requirements are'),\n",
       " (0.0002837782041106993, 'company_interactive'),\n",
       " (0.0002828949880782558, 'description_manipulation'),\n",
       " (0.0002826771035341826, 'description_and technical'),\n",
       " (0.000282647065770128, 'description_support the'),\n",
       " (0.00028259378554244173, 'description_but also'),\n",
       " (0.00028148472156167405, 'company_manpower'),\n",
       " (0.0002805454583405817, 'description_industries'),\n",
       " (0.0002804964620539554, 'description_personnel'),\n",
       " (0.0002801960539131772, 'company_ihis integrated'),\n",
       " (0.0002800907835988046, 'description_pmo'),\n",
       " (0.00027979998881133724, 'description_investigations'),\n",
       " (0.000279657718799248, 'address_persiaran capsquare'),\n",
       " (0.00027930619156179176, 'description_comfortable'),\n",
       " (0.000278648846107427, 'description_diversity'),\n",
       " (0.00027861939534762413, 'description_responsibilities the'),\n",
       " (0.000278181514414653, 'company_engineering'),\n",
       " (0.0002776442578346327, 'company_search pte'),\n",
       " (0.00027711283411199783, 'description_discussion'),\n",
       " (0.00027675486933184706, 'company_vcyber technology'),\n",
       " (0.0002765803482186223, 'address_chiang road'),\n",
       " (0.0002762286708348404, 'description_communication and'),\n",
       " (0.0002758280861247692, 'company_manpower staffing'),\n",
       " (0.0002748076514468895, 'description_requests'),\n",
       " (0.00027457310271647185, 'description_at least'),\n",
       " (0.0002743893114881531, 'company_touche pte'),\n",
       " (0.0002743835247232189, 'description_tasks'),\n",
       " (0.00027430550051934035, 'description_architecture data'),\n",
       " (0.00027418888592517016, 'address_temasek'),\n",
       " (0.00027402227548412646, 'address_raffles city'),\n",
       " (0.00027397035440125385, 'address_eunos'),\n",
       " (0.00027373456922907575, 'company_glaxosmithkline'),\n",
       " (0.00027280778604835446, 'description_models to'),\n",
       " (0.0002719865920347726, 'company_systems pte'),\n",
       " (0.00027180840376212964, 'description_multi cultural'),\n",
       " (0.0002705556652264661, 'address_ampat singapore'),\n",
       " (0.0002705130400117255, 'description_following'),\n",
       " (0.00027020756466854246, 'company_agritrade'),\n",
       " (0.00027009103389612877, 'description_responsible'),\n",
       " (0.0002700759243344886, 'description_frameworks'),\n",
       " (0.00026965427788304045, 'description_player with'),\n",
       " (0.0002695409389515803, 'description_and tasks'),\n",
       " (0.00026911207326719023, 'description_in support'),\n",
       " ...]"
      ]
     },
     "execution_count": 55,
     "metadata": {},
     "output_type": "execute_result"
    }
   ],
   "source": [
    "sorted(list(zip(rfc.feature_importances_, X_train.columns)), reverse=True)"
   ]
  },
  {
   "cell_type": "code",
   "execution_count": 56,
   "metadata": {},
   "outputs": [],
   "source": [
    "df = pd.read_csv('nodrop_df.csv')\n",
    "df = df[df.Salary > 1500]"
   ]
  },
  {
   "cell_type": "markdown",
   "metadata": {},
   "source": [
    "# Report"
   ]
  },
  {
   "cell_type": "markdown",
   "metadata": {},
   "source": [
    "In summary, this project was done with data on job postings scraped from jobscentral.com, jobstreet.com and myskillsfuture.sg. The data was combined into one data set, with the major columns after being Company (company name), Address (company address), Description (job description), Title (job title), Location (generalized location of office), Min Years (minimum years of experience), Seniority (seniority of role) and Industry (industry of job). Where viable missing values were replaced using averaged predictions from the other categories; otherwise the word 'Unknown' was put in place."
   ]
  },
  {
   "cell_type": "code",
   "execution_count": 57,
   "metadata": {},
   "outputs": [
    {
     "data": {
      "text/plain": [
       "<matplotlib.axes._subplots.AxesSubplot at 0x16705162978>"
      ]
     },
     "execution_count": 57,
     "metadata": {},
     "output_type": "execute_result"
    },
    {
     "data": {
      "image/png": "[encoded data removed]",
      "text/plain": [
       "<matplotlib.figure.Figure at 0x16704d627f0>"
      ]
     },
     "metadata": {},
     "output_type": "display_data"
    }
   ],
   "source": [
    "df.Salary.plot(kind='hist', bins=40)"
   ]
  },
  {
   "cell_type": "markdown",
   "metadata": {},
   "source": [
    "For salary, the two primary spikes are due mainly to the nature of the data scraped, as the jobstreet data only revealed if the salary was above, below or around the expected salary. As the expected salary was 4000, there is a spike in values around that point. As for the 'above expected' and 'below expected' salary, the average salary for values above and below 4000 were taken and used as replacement, which explains the spike around the 7500 mark."
   ]
  },
  {
   "cell_type": "markdown",
   "metadata": {},
   "source": [
    "Below are some of the average salary plots based on the original data. Notably, the model scores these values differently."
   ]
  },
  {
   "cell_type": "code",
   "execution_count": 58,
   "metadata": {},
   "outputs": [
    {
     "data": {
      "text/plain": [
       "<matplotlib.lines.Line2D at 0x16704d62860>"
      ]
     },
     "execution_count": 58,
     "metadata": {},
     "output_type": "execute_result"
    },
    {
     "data": {
      "image/png": "[encoded data removed]",
      "text/plain": [
       "<matplotlib.figure.Figure at 0x16704d62ba8>"
      ]
     },
     "metadata": {},
     "output_type": "display_data"
    }
   ],
   "source": [
    "plt.figure(figsize = (10,6))\n",
    "ax = df.groupby('Title').Salary.mean().sort_values().plot(kind='barh')\n",
    "ax.axvline(df.Salary.mean(), ls='dashed', color='red')"
   ]
  },
  {
   "cell_type": "code",
   "execution_count": 59,
   "metadata": {},
   "outputs": [
    {
     "data": {
      "text/plain": [
       "<matplotlib.lines.Line2D at 0x167263d57f0>"
      ]
     },
     "execution_count": 59,
     "metadata": {},
     "output_type": "execute_result"
    },
    {
     "data": {
      "image/png": "[encoded data removed]",
      "text/plain": [
       "<matplotlib.figure.Figure at 0x167263d9198>"
      ]
     },
     "metadata": {},
     "output_type": "display_data"
    }
   ],
   "source": [
    "plt.figure(figsize = (10,6))\n",
    "ax = df[df['Seniority'].isin(df.Seniority.value_counts().head(8).index)].groupby('Seniority').Salary.mean().sort_values().plot(kind='barh')\n",
    "ax.axvline(df[df['Seniority'].isin(df.Seniority.value_counts().head(8).index)].Salary.mean(), ls='dashed', color='red')"
   ]
  },
  {
   "cell_type": "code",
   "execution_count": 63,
   "metadata": {},
   "outputs": [
    {
     "data": {
      "text/plain": [
       "<matplotlib.lines.Line2D at 0x16725f1de48>"
      ]
     },
     "execution_count": 63,
     "metadata": {},
     "output_type": "execute_result"
    },
    {
     "data": {
      "image/png": "[encoded data removed]",
      "text/plain": [
       "<matplotlib.figure.Figure at 0x16725f1dd30>"
      ]
     },
     "metadata": {},
     "output_type": "display_data"
    }
   ],
   "source": [
    "plt.figure(figsize = (10,6))\n",
    "ax = df[df['Industry'].isin(df.Industry.value_counts().head().index)].groupby('Industry').Salary.mean().sort_values().plot(kind='barh')\n",
    "ax.axvline(df[df['Industry'].isin(df.Industry.value_counts().head().index)].Salary.mean(), ls='dashed', color='red')"
   ]
  },
  {
   "cell_type": "markdown",
   "metadata": {},
   "source": [
    "Below are the plots of some of the more distinct effects on salary"
   ]
  },
  {
   "cell_type": "code",
   "execution_count": 95,
   "metadata": {},
   "outputs": [
    {
     "data": {
      "image/png": "[encoded data removed]",
      "text/plain": [
       "<matplotlib.figure.Figure at 0x16703369ef0>"
      ]
     },
     "metadata": {},
     "output_type": "display_data"
    }
   ],
   "source": [
    "fig, ax = plt.subplots(figsize=(10,6))\n",
    "ax.barh(range(len([j for i,j in coefs if 'title_' in j])), [i for i,j in coefs if 'title_' in j], align='center',\n",
    "        color='green', ecolor='black')\n",
    "ax.set_xlabel('Effect on salary ($)')\n",
    "ax.set_title('Effect of job title on salary')\n",
    "ax.invert_yaxis()\n",
    "plt.yticks(range(len([j for i,j in coefs if 'title_' in j])),[j.replace('title_', '') for i,j in coefs if 'title_' in j])\n",
    "plt.show()"
   ]
  },
  {
   "cell_type": "code",
   "execution_count": 97,
   "metadata": {},
   "outputs": [
    {
     "data": {
      "image/png": "[encoded data removed]",
      "text/plain": [
       "<matplotlib.figure.Figure at 0x16700f7acc0>"
      ]
     },
     "metadata": {},
     "output_type": "display_data"
    }
   ],
   "source": [
    "fig, ax = plt.subplots(figsize=(10,6))\n",
    "ax.barh(range(len([j for i,j in coefs if 'location_' in j])), [i for i,j in coefs if 'location_' in j], align='center',\n",
    "        color='green', ecolor='black')\n",
    "ax.set_xlabel('Effect on salary ($)')\n",
    "ax.set_title('Effect of job location on salary')\n",
    "ax.invert_yaxis()\n",
    "plt.yticks(range(len([j for i,j in coefs if 'location_' in j])),[j.replace('location_', '') for i,j in coefs if 'location_' in j])\n",
    "plt.show()"
   ]
  },
  {
   "cell_type": "code",
   "execution_count": 98,
   "metadata": {},
   "outputs": [
    {
     "data": {
      "image/png": "[encoded data removed]",
      "text/plain": [
       "<matplotlib.figure.Figure at 0x1670079fdd8>"
      ]
     },
     "metadata": {},
     "output_type": "display_data"
    }
   ],
   "source": [
    "fig, ax = plt.subplots(figsize=(10,6))\n",
    "ax.barh(range(len([j for i,j in coefs if 'seniority_' in j])), [i for i,j in coefs if 'seniority_' in j], align='center',\n",
    "        color='green', ecolor='black')\n",
    "ax.set_xlabel('Effect on salary ($)')\n",
    "ax.set_title('Effect of job seniority on salary')\n",
    "ax.invert_yaxis()\n",
    "plt.yticks(range(len([j for i,j in coefs if 'seniority_' in j])),[j.replace('seniority_', '') for i,j in coefs if 'seniority_' in j])\n",
    "plt.show()"
   ]
  },
  {
   "cell_type": "code",
   "execution_count": 100,
   "metadata": {},
   "outputs": [
    {
     "data": {
      "image/png": "[encoded data removed]",
      "text/plain": [
       "<matplotlib.figure.Figure at 0x16700ce97f0>"
      ]
     },
     "metadata": {},
     "output_type": "display_data"
    }
   ],
   "source": [
    "fig, ax = plt.subplots(figsize=(10,6))\n",
    "ax.barh(range(len([j for i,j in coefs if 'industry_' in j])), [i for i,j in coefs if 'industry_' in j], align='center',\n",
    "        color='green', ecolor='black')\n",
    "ax.set_xlabel('Effect on salary ($)')\n",
    "ax.set_title('Effect of job industry on salary')\n",
    "ax.invert_yaxis()\n",
    "plt.yticks(range(len([j for i,j in coefs if 'industry_' in j])),[j.replace('industry_', '') for i,j in coefs if 'industry_' in j])\n",
    "plt.show()"
   ]
  },
  {
   "cell_type": "code",
   "execution_count": null,
   "metadata": {},
   "outputs": [],
   "source": []
  }
 ],
 "metadata": {
  "kernelspec": {
   "display_name": "Python 3",
   "language": "python",
   "name": "python3"
  },
  "language_info": {
   "codemirror_mode": {
    "name": "ipython",
    "version": 3
   },
   "file_extension": ".py",
   "mimetype": "text/x-python",
   "name": "python",
   "nbconvert_exporter": "python",
   "pygments_lexer": "ipython3",
   "version": "3.6.4"
  }
 },
 "nbformat": 4,
 "nbformat_minor": 2
}
