{
 "cells": [
  {
   "cell_type": "code",
   "execution_count": 11,
   "metadata": {},
   "outputs": [],
   "source": [
    "import numpy as np\n",
    "import pandas as pd\n",
    "from sklearn.feature_extraction.text import TfidfVectorizer, CountVectorizer, HashingVectorizer, TfidfTransformer\n",
    "from sklearn.model_selection import train_test_split\n",
    "from sklearn.ensemble import RandomForestClassifier\n",
    "from sklearn.linear_model import LogisticRegression, LinearRegression, Lasso\n",
    "from sklearn.naive_bayes import GaussianNB"
   ]
  },
  {
   "cell_type": "code",
   "execution_count": 2,
   "metadata": {},
   "outputs": [],
   "source": [
    "df = pd.read_csv('final_df')"
   ]
  },
  {
   "cell_type": "code",
   "execution_count": 3,
   "metadata": {},
   "outputs": [
    {
     "data": {
      "text/html": [
       "<div>\n",
       "<style scoped>\n",
       "    .dataframe tbody tr th:only-of-type {\n",
       "        vertical-align: middle;\n",
       "    }\n",
       "\n",
       "    .dataframe tbody tr th {\n",
       "        vertical-align: top;\n",
       "    }\n",
       "\n",
       "    .dataframe thead th {\n",
       "        text-align: right;\n",
       "    }\n",
       "</style>\n",
       "<table border=\"1\" class=\"dataframe\">\n",
       "  <thead>\n",
       "    <tr style=\"text-align: right;\">\n",
       "      <th></th>\n",
       "      <th>Title</th>\n",
       "      <th>Company</th>\n",
       "      <th>Job Category</th>\n",
       "      <th>Seniority</th>\n",
       "      <th>Industry</th>\n",
       "      <th>Emp_type</th>\n",
       "      <th>Location</th>\n",
       "      <th>Address</th>\n",
       "      <th>Description</th>\n",
       "      <th>Qualification</th>\n",
       "      <th>Salary</th>\n",
       "    </tr>\n",
       "  </thead>\n",
       "  <tbody>\n",
       "    <tr>\n",
       "      <th>0</th>\n",
       "      <td>Senior Data Analyst K  K  CBD MNC  ref JT</td>\n",
       "      <td>Career Edge Asia Pte Ltd</td>\n",
       "      <td>NaN</td>\n",
       "      <td>Min 3 years (Senior Executive)</td>\n",
       "      <td>Human Resources Management/Consulting</td>\n",
       "      <td>NaN</td>\n",
       "      <td>Singapore - Across Singapore</td>\n",
       "      <td>None</td>\n",
       "      <td>Degree in IT/ System engineering / Business /...</td>\n",
       "      <td>NaN</td>\n",
       "      <td>7000.0</td>\n",
       "    </tr>\n",
       "    <tr>\n",
       "      <th>1</th>\n",
       "      <td>Data Analyst</td>\n",
       "      <td>YGP Pte Ltd</td>\n",
       "      <td>NaN</td>\n",
       "      <td>Min 2 years (Junior Executive)</td>\n",
       "      <td>Automobile/Automotive Ancillary/Vehicle</td>\n",
       "      <td>NaN</td>\n",
       "      <td>Singapore - Central - Downtown Core - Tanjong ...</td>\n",
       "      <td>79 Anson Road Singapore</td>\n",
       "      <td>Minimum 2 years of relevant experiences in Bu...</td>\n",
       "      <td>NaN</td>\n",
       "      <td>3500.0</td>\n",
       "    </tr>\n",
       "    <tr>\n",
       "      <th>2</th>\n",
       "      <td>Data Analyst</td>\n",
       "      <td>None</td>\n",
       "      <td>NaN</td>\n",
       "      <td>Entry Level</td>\n",
       "      <td>Wood/Fibre/Paper</td>\n",
       "      <td>NaN</td>\n",
       "      <td>Singapore - Central</td>\n",
       "      <td>2 Bukit Merah Central Podium #04-00</td>\n",
       "      <td>NaN</td>\n",
       "      <td>NaN</td>\n",
       "      <td>4200.0</td>\n",
       "    </tr>\n",
       "    <tr>\n",
       "      <th>3</th>\n",
       "      <td>Senior Business Analyst  Data Analytics  Proje...</td>\n",
       "      <td>nSearch Global Pte Ltd</td>\n",
       "      <td>NaN</td>\n",
       "      <td>Min 5 years (Senior Executive)</td>\n",
       "      <td>Human Resources Management/Consulting</td>\n",
       "      <td>NaN</td>\n",
       "      <td>Singapore - Central</td>\n",
       "      <td>None</td>\n",
       "      <td>Degree in Computer/Computer Science, Electroni...</td>\n",
       "      <td>NaN</td>\n",
       "      <td>6000.0</td>\n",
       "    </tr>\n",
       "    <tr>\n",
       "      <th>4</th>\n",
       "      <td>Data Analyst Pivot Table VLookup</td>\n",
       "      <td>Adecco Personnel Pte Ltd</td>\n",
       "      <td>NaN</td>\n",
       "      <td>Entry Level</td>\n",
       "      <td>Human Resources Management/Consulting</td>\n",
       "      <td>NaN</td>\n",
       "      <td>Singapore - Across Singapore - Singapore</td>\n",
       "      <td>None</td>\n",
       "      <td>NaN</td>\n",
       "      <td>NaN</td>\n",
       "      <td>4000.0</td>\n",
       "    </tr>\n",
       "  </tbody>\n",
       "</table>\n",
       "</div>"
      ],
      "text/plain": [
       "                                               Title  \\\n",
       "0          Senior Data Analyst K  K  CBD MNC  ref JT   \n",
       "1                                       Data Analyst   \n",
       "2                                       Data Analyst   \n",
       "3  Senior Business Analyst  Data Analytics  Proje...   \n",
       "4                   Data Analyst Pivot Table VLookup   \n",
       "\n",
       "                    Company Job Category                       Seniority  \\\n",
       "0  Career Edge Asia Pte Ltd          NaN  Min 3 years (Senior Executive)   \n",
       "1               YGP Pte Ltd          NaN  Min 2 years (Junior Executive)   \n",
       "2                      None          NaN                     Entry Level   \n",
       "3    nSearch Global Pte Ltd          NaN  Min 5 years (Senior Executive)   \n",
       "4  Adecco Personnel Pte Ltd          NaN                     Entry Level   \n",
       "\n",
       "                                  Industry Emp_type  \\\n",
       "0    Human Resources Management/Consulting      NaN   \n",
       "1  Automobile/Automotive Ancillary/Vehicle      NaN   \n",
       "2                         Wood/Fibre/Paper      NaN   \n",
       "3    Human Resources Management/Consulting      NaN   \n",
       "4    Human Resources Management/Consulting      NaN   \n",
       "\n",
       "                                            Location  \\\n",
       "0                       Singapore - Across Singapore   \n",
       "1  Singapore - Central - Downtown Core - Tanjong ...   \n",
       "2                                Singapore - Central   \n",
       "3                                Singapore - Central   \n",
       "4           Singapore - Across Singapore - Singapore   \n",
       "\n",
       "                               Address  \\\n",
       "0                                 None   \n",
       "1              79 Anson Road Singapore   \n",
       "2  2 Bukit Merah Central Podium #04-00   \n",
       "3                                 None   \n",
       "4                                 None   \n",
       "\n",
       "                                         Description Qualification  Salary  \n",
       "0   Degree in IT/ System engineering / Business /...           NaN  7000.0  \n",
       "1   Minimum 2 years of relevant experiences in Bu...           NaN  3500.0  \n",
       "2                                                NaN           NaN  4200.0  \n",
       "3  Degree in Computer/Computer Science, Electroni...           NaN  6000.0  \n",
       "4                                                NaN           NaN  4000.0  "
      ]
     },
     "execution_count": 3,
     "metadata": {},
     "output_type": "execute_result"
    }
   ],
   "source": [
    "df.head()"
   ]
  },
  {
   "cell_type": "code",
   "execution_count": 16,
   "metadata": {},
   "outputs": [
    {
     "data": {
      "text/plain": [
       "Index(['Title', 'Company', 'Job Category', 'Seniority', 'Industry', 'Emp_type',\n",
       "       'Location', 'Address', 'Description', 'Qualification', 'Salary'],\n",
       "      dtype='object')"
      ]
     },
     "execution_count": 16,
     "metadata": {},
     "output_type": "execute_result"
    }
   ],
   "source": [
    "df.columns"
   ]
  },
  {
   "cell_type": "code",
   "execution_count": 4,
   "metadata": {},
   "outputs": [
    {
     "data": {
      "text/plain": [
       "count     3871.000000\n",
       "mean      5610.089124\n",
       "std       2497.776603\n",
       "min       1125.000000\n",
       "25%       4000.000000\n",
       "50%       5350.000000\n",
       "75%       6093.250000\n",
       "max      25000.000000\n",
       "Name: Salary, dtype: float64"
      ]
     },
     "execution_count": 4,
     "metadata": {},
     "output_type": "execute_result"
    }
   ],
   "source": [
    "df.Salary.describe()"
   ]
  },
  {
   "cell_type": "code",
   "execution_count": 5,
   "metadata": {},
   "outputs": [],
   "source": [
    "df['Salary'] = df.Salary.apply(int)"
   ]
  },
  {
   "cell_type": "code",
   "execution_count": 6,
   "metadata": {},
   "outputs": [],
   "source": [
    "X_train, X_test, y_train, y_test = train_test_split(df.drop('Salary', axis=1), df.Salary, test_size=0.2, random_state=322)"
   ]
  },
  {
   "cell_type": "code",
   "execution_count": 7,
   "metadata": {},
   "outputs": [],
   "source": [
    "# def modeller(nlp, model, column):\n",
    "#     nlp.fit(X_train[column])\n",
    "#     transformed = nlp.transform(X_train[column])\n",
    "#     model.fit(transformed, y_train)\n",
    "#     print('The model score is {}.'.format(model.score(X_test[column], y_test)))\n",
    "#     print('The mean error in salary is {:.0f}'.format(abs(model.predict(transformed) - y_test).mean()))"
   ]
  },
  {
   "cell_type": "code",
   "execution_count": 8,
   "metadata": {},
   "outputs": [
    {
     "data": {
      "text/plain": [
       "HashingVectorizer(alternate_sign=True, analyzer='word', binary=True,\n",
       "         decode_error='strict', dtype=<class 'numpy.float64'>,\n",
       "         encoding='utf-8', input='content', lowercase=True,\n",
       "         n_features=1048576, ngram_range=(1, 1), non_negative=False,\n",
       "         norm='l2', preprocessor=None, stop_words=None, strip_accents=None,\n",
       "         token_pattern='(?u)\\\\b\\\\w\\\\w+\\\\b', tokenizer=None)"
      ]
     },
     "execution_count": 8,
     "metadata": {},
     "output_type": "execute_result"
    }
   ],
   "source": [
    "hv = HashingVectorizer(binary=True)\n",
    "hv.fit(X_train.Title)"
   ]
  },
  {
   "cell_type": "code",
   "execution_count": 9,
   "metadata": {},
   "outputs": [
    {
     "data": {
      "text/plain": [
       "RandomForestClassifier(bootstrap=True, class_weight=None, criterion='gini',\n",
       "            max_depth=None, max_features='auto', max_leaf_nodes=None,\n",
       "            min_impurity_decrease=0.0, min_impurity_split=None,\n",
       "            min_samples_leaf=1, min_samples_split=2,\n",
       "            min_weight_fraction_leaf=0.0, n_estimators=3, n_jobs=1,\n",
       "            oob_score=False, random_state=None, verbose=0,\n",
       "            warm_start=False)"
      ]
     },
     "execution_count": 9,
     "metadata": {},
     "output_type": "execute_result"
    }
   ],
   "source": [
    "rfc = RandomForestClassifier(n_estimators=3)\n",
    "rfc.fit(hv.transform(X_train.Title), y_train)"
   ]
  },
  {
   "cell_type": "code",
   "execution_count": 10,
   "metadata": {},
   "outputs": [
    {
     "data": {
      "text/plain": [
       "1380.0670967741935"
      ]
     },
     "execution_count": 10,
     "metadata": {},
     "output_type": "execute_result"
    }
   ],
   "source": [
    "abs(rfc.predict(hv.transform(X_test.Title)) - y_test).mean()"
   ]
  },
  {
   "cell_type": "code",
   "execution_count": 15,
   "metadata": {},
   "outputs": [
    {
     "data": {
      "text/plain": [
       "1360.1292135804742"
      ]
     },
     "execution_count": 15,
     "metadata": {},
     "output_type": "execute_result"
    }
   ],
   "source": [
    "slr = LinearRegression()\n",
    "slr.fit(hv.transform(X_train.Title), y_train)\n",
    "abs(slr.predict(hv.transform(X_test.Title)) - y_test).mean()"
   ]
  },
  {
   "cell_type": "code",
   "execution_count": 14,
   "metadata": {},
   "outputs": [
    {
     "data": {
      "text/plain": [
       "1370.8486638834888"
      ]
     },
     "execution_count": 14,
     "metadata": {},
     "output_type": "execute_result"
    }
   ],
   "source": [
    "lass = Lasso()\n",
    "lass.fit(hv.transform(X_train.Title), y_train)\n",
    "abs(lass.predict(hv.transform(X_test.Title)) - y_test).mean()"
   ]
  },
  {
   "cell_type": "code",
   "execution_count": 28,
   "metadata": {},
   "outputs": [
    {
     "data": {
      "text/plain": [
       "TfidfVectorizer(analyzer='word', binary=True, decode_error='strict',\n",
       "        dtype=<class 'numpy.int64'>, encoding='utf-8', input='content',\n",
       "        lowercase=True, max_df=1.0, max_features=None, min_df=1,\n",
       "        ngram_range=(1, 1), norm='l2', preprocessor=None, smooth_idf=True,\n",
       "        stop_words=None, strip_accents=None, sublinear_tf=False,\n",
       "        token_pattern='(?u)\\\\b\\\\w\\\\w+\\\\b', tokenizer=None, use_idf=True,\n",
       "        vocabulary=None)"
      ]
     },
     "execution_count": 28,
     "metadata": {},
     "output_type": "execute_result"
    }
   ],
   "source": [
    "tfid = TfidfVectorizer(binary=True)\n",
    "tfid.fit(X_train.Title)"
   ]
  },
  {
   "cell_type": "code",
   "execution_count": 29,
   "metadata": {},
   "outputs": [
    {
     "data": {
      "text/plain": [
       "1366.273409298366"
      ]
     },
     "execution_count": 29,
     "metadata": {},
     "output_type": "execute_result"
    }
   ],
   "source": [
    "slr = LinearRegression()\n",
    "slr.fit(tfid.transform(X_train.Title), y_train)\n",
    "abs(slr.predict(tfid.transform(X_test.Title)) - y_test).mean()"
   ]
  },
  {
   "cell_type": "code",
   "execution_count": null,
   "metadata": {},
   "outputs": [],
   "source": []
  }
 ],
 "metadata": {
  "kernelspec": {
   "display_name": "Python 3",
   "language": "python",
   "name": "python3"
  },
  "language_info": {
   "codemirror_mode": {
    "name": "ipython",
    "version": 3
   },
   "file_extension": ".py",
   "mimetype": "text/x-python",
   "name": "python",
   "nbconvert_exporter": "python",
   "pygments_lexer": "ipython3",
   "version": "3.6.4"
  }
 },
 "nbformat": 4,
 "nbformat_minor": 2
}
